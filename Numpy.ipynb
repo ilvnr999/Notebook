{
  "nbformat": 4,
  "nbformat_minor": 0,
  "metadata": {
    "colab": {
      "provenance": [],
      "authorship_tag": "ABX9TyOOMJNVjBnUOMIDHDmWB4Mu",
      "include_colab_link": true
    },
    "kernelspec": {
      "name": "python3",
      "display_name": "Python 3"
    },
    "language_info": {
      "name": "python"
    }
  },
  "cells": [
    {
      "cell_type": "markdown",
      "metadata": {
        "id": "view-in-github",
        "colab_type": "text"
      },
      "source": [
        "<a href=\"https://colab.research.google.com/github/ilvnr999/Notebook/blob/main/Numpy.ipynb\" target=\"_parent\"><img src=\"https://colab.research.google.com/assets/colab-badge.svg\" alt=\"Open In Colab\"/></a>"
      ]
    },
    {
      "cell_type": "markdown",
      "source": [
        "# 基本語法\n",
        "```import numpy as np```\n",
        "![0_oh7hF_yEMu8Phmpj.webp](data:image/webp;base64,UklGRnJNAABXRUJQVlA4WAoAAAAYAAAAoQYAywEAQUxQSAUjAAABHAVtGzk1f9g/7n4AiIgJiN1MbWZXOTvznMqXXaT/jRShMMpczlIpQ4djL7uCWlVvTkNuJTG7GvmiJWb7V7dyvoUXA15EGvJiIIq88OJKGUYvC1E0PL+FF2XmDlrlWrqKyh1OmSnSMLsMw1NGL26ZXEwWZ+HFb6R3kdxU+cu9Pef88+uJiAnghP9/YlvblN+g3buDO8E1uAb3wqElQ7xwntEfnXHVGE8PcajreodYcNfg1pY5HqS9X/kOKpWqWn3Offbe97N5ImIC1Pj/R/7/kf8b/zf+/5H//38+xynvXsTF8Fohuvej4Gacf5UYX8tH/4EiuBnnXyXG1/LRvwN42kzFaynxgp37iUi55OP1MFOI70eth4mNpJDtQrLTOAOXXLxxxrB3P3vWz7UeJjaSQrYLyU7jDFxy8cYZw94BMnnC06REvsB5fMS4Xt5VQnkyzSWaJhtennahcGqPRG78WMCzcSrRNNnw8rQLhVN7JHLjO0MAP2Fskhruih0b4ZFUhp1WTjfJ7N0k8qRNuUaaiFRJmeVKNjMrrI+EMmz0ci4l8x8G7Fk/4xppIlIlZZYr2cyssD4SyrDRy7mUzL8fFEyTDS/JWK9IkqMrldNKL+ej00rSLLybeHsyThlFk5kkKbJfiZJUCaGcQzkPg9ONrNlC/DDwukbRZCZJiuxXoiRVQijnUM7D4HQja7YQ3w0WuptYKJLkqXcsZBm3XgD/PvOyvhMnHN1JUsPd4GiK3BrnCuljh+/ECUd3ktRwNziaIrfGuUJ6p2gkSUolSCqkgyruhsyiyUjRvZGmpyKs3w0y3b3BZLIk+bZIMrKOG8sNiU2zoJvBP+U6+3eDBPE9IpMlybdFkpF13FhuSGyaBd0M/inX2b8bJIjfUkaRJNdZpEiPwx2Lx7ne9Qob22MF/HeDBeztJdLdobBJrpPi0djj0U3thFdYqHrKIH03cFDeISLdHQqb5DopHo09Ht3UTniFhaqnDNJ3AwflG8p3/MEokgqXpwL5JRrLUwGyZtdOm6mMe9mWL58a3b25VJIkRbqTjMtxqje9QmZ7rNN0uuQGfU8TG6clJ/fFU4b4/lBJkhTpTjIux6ne9AqZ7bFO09ivpUMvqzvbOC05uS+eMsRvp4JJUgAvRajl2GhlOLWxSPI2zjQbxzlP11MZ4oQrADNMt/TFWyG9tRhFklwjSa7TyrHSyzDMLGwHOwUbpwuN8FQCGy2N0xpOyhnQzX3pAuR3B6NIkmskyXVaOVZ6GYaZhe1gp2DjdKERnkpgA5c5b+GknAHd3JcuQP5mWqmSfKqYpApRR8M0PehdkiLXbW6j2bm/x0HT+dK5IZuZ7Q2guC+ch/rGEuhecstOkbSB6Rgpmh7shAPXy9wCdh5vquAHEaCWCtDcRDEzyxWghS+cGriKIdC95JadImkD0zFSND3YCQeul7kF7DzeVMEPVqCYbQ3obqKYmeUK0MIXTg3cN5LvrLY3oDlp5ZGFPGp2zDQ7liuN2XhPgu3E7UC9FjWMBahfOFXwbyuVvOYKEKTAI46mkQ3BjvlKZtbu8VA1NDAvKVbAJkxDn4Huv3AbpIqhktdcAYIUeMTRNLIh2DFfyczaPR6qhqklp2MG1gnT0Geg+y/cBukbaWXYIEq+05/IpFHRMVJ0tAuJZqfg7ykQTxq0Jd4mZcC+cAb2phIYNjBJlf5EIp9oCDrGCx7stJHuMbDRUoOGHmjXpASUL1yEUi0Ehg1MUqU/kcgnGoKO8YIHO22kewxsNNugXJMSUL5wEco3kqfuFt3OJqmwlycS1b1AYdUp6BYH6BQ2pye0A/7LFqG+qai1YotfqZKMtj0Reg8vYOw6LcR7KsTR7A7coRVIXzYBx1UKaq3Y4leqJKNtT4TewwsYu04L8Z4K8Vq+SSuQvmwC3LfReKE5KfTmCtmOhWJHP6ON7blIdyeeds8C5SxH6RnXYbvi170BdfMnG11aKuySNrq0VNgluZQr0HI8BKgTButBgHtTGfpOkFwlGMWOmWbHOKOF+pzrxLOGv8UBum53qUC94lKuQMvxZIGgsEP10gJBYYfqJS1bAfqeBp3uzyLsgwKr1cLQd4LkKsEodsw0O8YZLdTnXCeeNfwtDtB1u0sF6hWXcgVajicLBIUdqpcWCAo7VC9p2QrQ9zTodH8WYR8UWL7z2eNpwnWCJLmgwtU4pUY8NDtmmh3LXCPrNFLu2cDOho8oQ7tgTKZRAWWOkgooc5SWznmW5IFw1mAZFFjeXgqrjlHGVZtSxgY2BDvmuUzTOeiWBcoLJcDPLZ3zPDKIiWOUDGLiGOUb59VJarCeZdgGBmslmrf704XCqmOUcdWmlLGBDcGOeS7TdA66ZYFyQ4V8TwL83NI5zyODmDhGySAmjlG+cV6dpAbrWYZtYLB952PPy0RhleImSYVsx0Kxo59L7IfrMwbYiWH3FEgvtAB+DmjZLHfAnxn00k4MemlIBfputjUgSSqQTwJ0DTPYm4uxS37zkoxix0yzY5zz9MHlmQjsbhQp9xjkGwrUexyQ5gr03WxrQDozoNQTA0olyoBiZhXIkgzaWYcwSDAu0SL3lzljl/zmJRnFjplmxzjn6YPLMxHY3ShS7jHI1yIQ73FAmivQd7OtAenMgFJPDCiVKAOKmVUgSzJoZx3CIEH5zjfe8+3M2CUV4iDqaJimR2p4RWo8rtR4zDMBMuRRYbmnQ3whD8S5lqOOrsF2BtlJYQTZSUHKJWm4Q5WUoJ9skEcG5a0l0pxk2MB0jBRNj5RJhziEeFxnXGPvVDcwtnt2sGsO2O5RA5vLJWm4Qz2D6iXvBlC95J1SW52OK+AkD4TRAk3DCJRoody/TUWakwwbmI6RoumRMukQhxCP64xr7J3qBsZ2zw52aemQdY8a2FwuScMd6hlUL3k3gOol75Ta6nRcASd5IIwWaBpG4DtfuonmJCX2F9hIihQdI0VHm3AN09KpTpIDdw/gX0hAmptMUCZ2nR52XfaAJNdhGTWIo+XtJXSCJE9/gYV80BB0jDM7RaHSw6Gy3FMgXTPA31Qgz016YKI5jQ/N6XKDKKnANspgI/e29qKhEyR5+gss5IOGoGOc2SkKlR4OleWeAmkimNnWgE13Fchzkx6YaE7jQ3O63CBKKrCNMtjIfUOF3oOkJYN7LmFPuMouKXSqkxJFt0RAL2Y3Rehn3U11d01AkJQhDwI0jSPwtuIqSVLYOstznvJIpjnJVXqQPOgeIF5yHbLuKzcJCGdRU1HXC6ySErRRBz8S0K8WXCVJCltnec5THsk0J7lKD5IH3QPEiZ1hX90T5SYB4SxqKup6gVVSgjbq4EcC4rdR6Cxx3Tmm5+IzmeokyVWqU2H9Uqz3cWaaMt0TJS3QBxtsbzWusoWUO0B+Ts8ketAx04OM/XV26O6B/YF4UjRVdI9JckA4LFD1XuEqW0i5A+Tn9EyiBx0zPcjYX8FG0NcH9gfiSdFU0T0myQHhsEDVt1bodICWl5X9uTRodsw0O5YztzsNXaUu4L4U8VpczSy/SEhmZidqkA4NwhuNq9CBvqdIf86PbAh2zGfKQeNMj53lZVYg6gG7FpKZ2Yv4xcysjZQhHzKs7xWuQgf6niL9OT+yIdgxnykHjTM9dpZXGEbrQL7ProVkZvYifjEzayNlyIcM6zfXAvR9DZI85XA1zrnCosj1k1lXgawvQbgh7Ew+5nLnfLDBLilA1VsNQLEoSa15GVftwsZ2uHw2m4GmV0nAqtv6NZc7589Z43ywQD90cO8WAMWiJLXmZVy1Cxvb4fLZbAaaXkZyFVju6ddc7pw/Z43zwQL90MF9c2lLQadez+yldKrk4nilxrG/JlfBfxESoPnE9FOhMzvwgJM2WN9qtK5Rp156xEppdC/FU4jjcIMypFcJHbJu80CcC53Zp1xldqAGi7TArvcKrWvUqZcesVIa3UvxFOI43KAM6ZXkOuy3eCDOhc7sU64yO1CDRVpg17fXbIyDqKNhmgZlIDtNRorudx3TF2GHOheAmryk+Jxr0NcgSWeqkKQG/s1mNiwD0zFSNF2ICShBs6AHC0UvEjpk3bcCbso16GuQpBfYgS1KUjnbIEsZ0vvFbFgGpmOkaLoQE1CCZkEPFopeSgW4ZQXclGvQ1yBJL7ADW5SkcrZBljKkb7GdqNQWedpDLnrNP+IqVXc5wL+OB9a5DEXDF0jQnYYTK+xaoOp8gfq2smIKdZMa/hnFoIuPZLq/rUKaCR2yHmiwazpBdxo+54Go4USALge4MwccVy2smELdpIZ/RjHo4iOZ7m+rkO7Y7mqwazpBdxo+54Go4USALge4Mwe4b6SCV2KTCuGZ60+4Sne3CYivU6C7uQLpZQyyLjnAZ0gTBuVtxUjyVMlYH7r+RIao2wrYROiQ9YABcc4g61UiNF1ShZQg6zwCqhaNJE+VjPWh609kiLqtgN1RoN5hQJwzyHqVCE2XVCElyDqPgL6RQQoUKbG9QuHmudBoQdfPCqyv4jKw6tI6Wl9iH4UJ7bB2cBMZ7G2lEKWO5KmvYNwcp1yhJ10/M9jPQoesB1Zg16V9FF6ij1ybWGHfYZlIMK4YClHqSJ76CsbNccoVetL1M4P9hgBsN6zArkv7KLxEH7k2scK+wzKRoHwjBaokuuSor7CV80ovk1Nrpzo9kGF7DZcakHUxQ3WS3MZzCXo4rH1m4bhrskB6W+k4qRCkinuBVCahTIaZ2OhBDySoJ6FD1n1LAaq7kKCHw9qf80A6xMaE49g1abBeMXScVAhSxb1AKpNQJsNMbPSgBxLUk57DKHbo/tJSgOouJOjhsPbnPJAOsTHhOHZNGuRvpESW1JBUcSqs8ZjJceivzEaK7gwFstMTCerZYmaWATOzdFZLKaVxzLrqgb5Z7ryAGpBtaxxP1A9pBvBvKp4mKROljUVGjseVGofhyjToTpehej3hATfagTK5n7VSSqkcq9PVBmTbGseHlIFiVjmeaD/kmQKDasHTJGWitLHIyPG4UuMwXJkG3ekyVK8nPOBGQNvNtgqQdNZKKaVyrE5XG5BtaxwfUgaKWeV4ov2QZwqkb6SdJKkQpI2owmV7LZ+hL7r3zANnnfmzybboeuLUynOhM963mQx0TUZoeiMc7304rGRJxiotmIzL5bWcdTDde6YGccTVcDLZTddDZ7xvz7nKuK4z6RBmgKVqYSVLMlZpwWRcLq/lrIPp3jM1iKONybZoYrKbrofOeN+ec5VxXWfSIcwA/tvIddwgSnGRCrVcTK+07EB2ute1E1VYTspcHdSTVragW0Nu0LLXThtssExssJzJbRX6HrXSw0kA8ozB9lbA3sdDYRmY5JOT0crF7ZVC7lCCbt7PNthG+4Wu43bSS150q9sq9D1qpYfDAtvEAtuZtBagJAVIJ+rQNBmhqiwvPB4PhWVgkk9ORisXt1cKuUMJunk/22Abya97A9qedL6d9JIX3eq2Cn2PWunhsMA2scB2Jq0FKEkB0ok6NE1GqPo2Tuw6tKBhIerW19iB7HV9Z9w0XiGffI1dhzhTIbwV9PfeSfJ0HXrS0DDd+horUKKur5z6UYA2+joXsJkN1mrB03XoSUPDdOtrrECJur5y6kcB2slXuYDNbLB+Iy0tHSZ/uwrNvO5MoxZOPPSvWIKmSQ9Nb6qh5MPkb1eu5qA7/agnnTYIXy8P+JkGvjR70VDyYfK3K1dz0J1+1JNOG4Svlwf8TAP/jfRV9DFGr9kdlq9Xg3XGwN5Wvoouxhg0u8L29cqwazJCUeXuYoxBsytsX68MuyYjFL1dR8hfrQW6m2l09+5w3XXaV8sBcSZDfH+77jrtq+WAOJMhvmGpgP9aFciaXMD0/mmQvlYGTZMOij4AGqSvlUHTpIOit+zYSV8p32l+JtPcO4hr5K9VpS8ziR4/ArhG/lpV+jKT6PFN60f+b/zf+L/x/4/83/i/8X/j/8b/jf8b/zf+b/zf+L/xf+P/xv+N/xv/N/5v/N/4P0835393Zx7vR2VOybwPlTnRiTnRiTkVD3NYYg6LOSzm8P9KzGGJOSzmsJjDpZg5edloNKqdmZOZAXUzc6ITc6ITc6ITc6ITc6ITc6ITc6ITc6ITc6ITc6ITc6ITc6ITc6ITc6ITc6ITc6ITc6ITc6ITc6ITc4ITe5byfL8mc6ITc6ITc6ITc6ITc6ITc6ITc6ITc6ITc6ITc6ITc6ITc6ITc6ITc6ITc6ITc6ITczKsZOtHOnMyrACsT7lUOrR9+QBmTo4VAXsoNE6L++hlTpblGj08Ezr0bFaB+sHLnDzrBStUJ0kJWD90mZOpJehOwwztI5c5uVqFVWMPhI9b5mRLwUoHyuoGDbaTCoukSvejtHcoq5tzgD9RBfuwZU62VDjv4bACYbBCkyQgHlxlXN1UhK7zDPsHLXuWSvCDQgTqZrYD7aAK5eA6xLkderatQZwyKBMG5WOWPUvG5PvmdQzAcghAkrRD1pSH7iQpNv9I/ZBlTs40m8EO2qA7RehuLsKmOzfYJxbgI5Y5mZTBPnANNjVIulRvKWAT8WOWORlVGWgBMhRdcEB2H9HMyaBcNDMrE9o5+isyoG/+Uobyscuc/GmpnJ/5w6ZLMo4lXrA5g/LRypz8KTN7Fg/lBvncAfJHMnPypxXYFyfJJlyDDusNkksNsKkEfSLD9rHKnAyqgWk4Y7AbdHeHpAx9KgD+rEH6UGVODgX4SwG6V4P9JgdMqUM6CYD7SGVOLhVG+1kFkyIQ79GlDO1kh10fqMzJoxrkgy+crNAkaYfmpvYSBgZ1zgPZHTYgfKAyJ5NKQDPbOR58h+XgO9hUgbrZVoFlTga0zbYGJH2cMieXUmbcl9EORUMDwszKedJV47QnfZwyJ5/Ssneo5tTJkofuR6qwSqp0L0lhq0DdvK77XIGyeX2cMien+jp+PDInOjEnOjEnOjEnOjEnOjEnOjEnOjEnOjEnOjEnOjEnPHHiE0KP0WgUngAN3eqGr1Hv/P/BmMMSc1jMYTGHG/81/mv81/iv8V/jv8Z/jf8yjo/8/Pxd/XH/zT/50z4dOR2mC7v4Wb8O4qcj7Sm8Zxf/APzfP+/TEb0AvHuY3+PXww/0w4xOXizn9CQ8cJh/Fn7VT/thRt1/8kC3lDsbWBn8ScCfqx9mdDEwe0+7hNMnYPLTDhX+Jf1QI30EYPqCEq6zBT8A/hr4zb//DznS+U8CPHl26abrYQuYwntUU/Bm4XsC0kumAJ/olG2tCTtP23WFHfpjIVegmP/wpoX3zICt61vlmp5zmJeorlCApzZOe/rwJnUfAJislGu6Z4cnVVtYIT+UgWqWO7B8LBlxJPtAt1TrzradX194fgGSJLkKzX2Yozi9TNNB4DOqbzQwDT2QPsw90lWp3v4TRae+sUDXaYb9Q8mRaecL2w5drLL9BbxFFd6yFaDvaeCBZeQ7OGmBbeTWAn1PFzbIZwvwwe2otxRA8ZajVL5/5qjqzjfOq5OkHZob7JAlGZRB6IzzXIH1zAPhQ9vlhwC+cLIqysrKgGJmFcgH38EOEbqbcg3aZrnDHBDPBMQPbAe+DvDjvirLyiq11em4Ak6SVsBLrkHSVIKi41qfWT6uHXRg6zUtZTezDeJBFYpkUDRnsAwuOiBMVLAPayuAf2RBVWYFVmAdBGDxgL+23REBTZaPbL2CRw+o2qzGbKANWgHThQVYP/Jp8XRVnZWWX8zM2oRrAE1XVIC2uiseiB/kKtAKyxrnJ0qH5ZrbOWY/pwtA/HzCVWbP7GDXpLhzTJ9s7MAWJalMBOhAuEHy1oE41WA984D7dMIDUcOZAmuBcovkKuxTO+SzBE2fTkRourRClQfWe7RAmVqhne2wfUrRR66d+A5RMujunnjFA2kUgPD5hAfSITZOdsiSXIN9rm/+4HbYppShx0NosOvzCWWgmFWOhwW6l6QFiFNAMcsNup9zHdjNdqC6zyhcZVzXgWtgGhZobmbntAddDJXT4vQBJ9n6fTdpLUBJCpCkBFVj3yFIC2wHLbkBZXW6nkqHtifdXmsJwPqUS2UTfr2xmm99FWstEbCHQuN0fFzM4Ro9PBM69PXh8PvA92OOF6xQnSQNgFeHJAm6047r8OuQpMKq8RKwHFEsvXrj10Dd/CBDPdlgk1TpfhRzg7r5OQf4E30fhgGFMZkOAVgHAfCSgDjIjHuYitB1vg4bAQXQslnugJekDbo7FDBNrcBuVsGmDMrEEMYBRctRR9dgO7gGWdIKTXMNoiT5kh75fkAxmaActABRrkO8AFV3brBPrAKRRYQ+0A5VGbIu4e4oYBP9+IKR75ChuysVqv+0I65mlie0cky6EgFyvJShfHoRdiZP1ICqS1o6QEsXbG4I44AiMX3iOtDdNTlrANV9rhGAmrykOLNDh/0GSUsBylSCPrEOa/FEhqLhTIS2APEWKQFhJgD+7NcwiCcKpEuuwaIMzd2jCnFGHdLJMnBcSLGO1rMNiuQ62E3lSoZ2sgEbiicyVCfJbZwEwEtagTC1tmUQATflgey2rQHLAYUH+ma5c1Zh07FCmTJo2awAm+YNaGvDtV8DAwUUSpxaGazQ3SAC60zsnGZdNU43BwopFHKDlr12mqQGi8Yb7JIq3UuSXwvQctR1nyswXlvS/nf+3+lD5T4AbuGJm6ITN0UnbopO3LTfbfXjpujETdGJm6ITN0UnbopO3BSduCk6cVN04qboxE3RiZuiEzdFJ26KTtwUnbgpOnFTyqdfHnG4KdXW+W+5Z4uP7OuycPZ/8Ef9Du8kbkqyvTL69oztF+/ncvyUg7v6e/g/fo93ETft/fGX3/h957Czo/Zz6YGfvovf/zfDH/Ue4qa9Pv4jE3b/iPZ1/To8uot/CareQdy053ew849vPbTDG/Z36TkMDvMXAn/SO4ib9v5WKL4+WmnrRnbsZgonL1YkuhF+d9Tgp/0q+Gf1/uGmBFvnn96S1PoK8DuYKE/s/pMHutXIwj9hNPgB/Prf5b3DTSm37gDuuBE+kClcDMze065C9AqY/R7A7/B/wz+gdw43pdx+BLi1NYHnZAr6CMD0BVVI6/vwLwK/En7dz3rncFPK7UeBG7UIxVG5gs5/EuDJs6sP9dnxx+Gv0PuGm1LuPAqMpDfAHcoYXzIF+ESn8tAXdoB/U+8bbkq5MwGulvQIvCJn0MJ7ZsDW9a2qo1MMfvwPf99wU8onT8DfIOmoGZycNUjdBwAmKxWH3jL4x/Su4aaUe1Nwk6SL4ceqEY84kn2gW20c9euA/+MXvWu4KeXeFNy0/SNwMJegOL3S0F8C/M16z3BTyv0Cir52fAD6ucQjXVWc/xr/w097z3BTyv0Cir52fs7PDyp37Hxh26GLVXn+wT/+Z+odw00pWwHT05VNHvWWAijecpQq0D9X7xhuStkcpj1lk5cfAvjCyaqOSzo3pfwKh0lPueSBrwP8uK8quZxzU8pXA5OOcsmDDmy9pqXcw00pvwX4cUe55ArgH1lQxVzGuSnlG4FH28omewWPHlDlXMK5KeUbgUfbyigXT1cFXb65KeHWHcAdLe33W7q5KeHWHcAdLQUbbkr45/2bwD/20/TJhpsS/nn/IfAP6YcBl2tuSrjznwL/gD6KJ1u/J+WmhDsT4Af6KB6A9QX6v2ZzOfNxU8KLE/jxv1kfxiNgz60B9DMfU8K9Kfz4L9XHcdfo4anl75MBfVAJ96Yw+6X6UD8Evp/7uCnhfgFFXx/q12FzqMzHTQn3Cyj6+lg/ZrykzMdNCVsB0wOqV/t1b0Dd/CBDPdlgk1TpfpT2DmV1V4YDKfNxU8LmMO2pXm1MpkMA1kEAvCQgHlxlXN2FnXMeNyX8CodJVzVroGWz3AEvSRt0dyhgmtqhZ9saxO8XuSnhq4FJR3XrlqOOrsF2cA2ypBWapjx0J0mx+e8VuSnhdwDf76i+naActABRrkOci7DpyWzHTQnfCDzaVo07Qh9oh6oMWZfq95DclG7rRuDbbdW8GPkOGbq74IDsvm/kpnRbdwB3tFTXjquZ5QmtHJMuyIC++e8VuSnd1h3AHS3Vs8PO5IkaUHVJxrHE7w+5Kd32t4EbW6pnJ6ZPXAe6uyafO0D+vpCb0m0/CtyomnYAavKS4swOHfYbJJcaYN8PclO6ne8D71BdO0PRcCZCW4B4h6QM/XtBbkq3MwGuVm27QLrkGizK0Nw9Dvg+kJvS7U7AX6Na1zpazzYokutg9+j7QW5KtzcFN9W4M1QnyW2cBMBLWoEwtZcwMKjf/3FTugemMDPVuT3QN8udswqbjhXKVIG62VaB5cLycDuwPhwOh3mMm9LtF1D0lbZbbflQpMSplcEK3Q0isM6snCdd3GD3/RzGTen2Cyj6SnwFwkMu7R1ajh9kFHKDlr12mqQGi8Yb7JIq3UtS2CpQN6+rw91tLmUwbkrXZjDtKXUD4jPWOd3dx5iPrmWUm9I1h2lPycdOdY8YQCkNYP+UwE3pvsZhsqj5W+jJSUodiJ8QuCndq4FJR3N4252GCcifD7gp3XcAT3Y03zuUTwfclO4/BPyHP0+3BisdKKs7eGAZ+Q5O8p06cmuBvqf7xvtp+ZGSm5L9af8Q8G/+PN1aOO9BknZobrBDlhSBQeiM8w+3Ket/2o8BP/bTdGsE6ma2A+3gO9ghQndTrkHbLHe4DViLGn7ajwE/9tN0r++b1zEAiyStgJdcg6SpBEXHtd61CqwGDT/v3wX+IT2fwQ6qUCSDojmDZXD/GH6tmPHn/YfAP6QXNNgHAVg84K9tz/SBQczwu/w3wN+jFykDbdAKmC4swPrEcb+GsULG3+VXAT/Qwy6amZUJ1wCarqgAbXW3bcDmcSHDH/yr4Mf/Bj27VM5PlA7LNbdzzP6edWBZEeMf/L/Aj/9SPZuZPbODXZPizjHdkYCBIsY/6n+BX/9L9ewK7IuTZBMBOhBukLx1IF5LwEARY/z18OujHm5gGs4UWAuUWyRXYb+UgIEixvjr4ddHPQ34SytUeWC9RwuUKwkYKGL8pT8O/8sfrFcIo/3Ed4iSQXf3xGsJSIoYf+mPw//yB+v5BvngCyc7ZEmuwT7XN39wO2xzCUiKGP/2H4df9fvoBRPQzHaOhwW6l6QFiFNAMcsNup/r0MvkME74AfCrfhe9ZGbcl4FrYBoWaG5m57QHTUcuboYJfybwn/4uetFl71DNqZOlBFVj3yFIvlMPWnIDyup0sV/YCBP0D/Ef/jx9dvq3/zz9yP/54MmL4Un3nzzQDU4uBmbvaYcm+gjA9AWhic5/EuDJsyMT6SVTgE90IhMtvGcGbF3fCkyk7gMAk5UoYMSR7APd+ITi9PDkka7C0t/lnz0culhh6c/6e3498Ov/nqMUlv4Vvw7gn/09FJb+4f8mwH8T9XnpP/jjwP/9N/80fV76FwI//it/kT4z/YN/Pf/hH65PTn+fP0o/8n/j/8b/jf+r9WTrZycBWF9gaQyDsCMC9txgExiGHa7Rw1PHbbA97njF1U3Y/HVoMgDWjxuHJkN+3ZdCC7/uDaibH2SoJxtskirdj2JuUDd/ZXV4nGILYzIdArAOAuAlAXGQGfdwYefIAmjZLHfAS9IG3R0KmKZWYDerYJ9stBx1dA22g2uQJa3QNNcgSpIv6ZONyQTloAWIch3iBah6MsSI0AfaoSpD1iXc5x+MfIcM3V2pUP2nHXE1szyhlWPSlQiQ42ccYWfyRA2ouqSlA7T06UZi+sR1oLtrctYAqvtcIwA1eUlxZocO+w2SlgKUzzUyFA1nIrQFiLdICQifahRIl1yDRRmau0cV4mcb62g926BIroPdVD7byFCdJLdxEgAvaQXC1NqWQQTcpxoe6JvlzlmFTccKZcqgZbMCbJp3dmxQzMz85xNKnFoZrNDdIALrTOycZl1cmbdPKBRyg5a9dpqkBovGG+ySKt1Lkl8L0HLU1Xhh+YziR/5v/N/4v/F/4//G/43/G/83/m/83/i/8X/j/yASAFZQOCCEKQAAUFwBnQEqogbMAT5tNphJJCKioSDzmVCADYlnbvhf5/7zDf9wAzH3+vH4r78qbD+P/lN6u6j/I/2Hmq+3/qvsQ5puKPLg5L89n9+/Wj+3fBf9Z/rr8BX9O/lPk3eyn+q/bN8Av3J/ab3j/73+03uO/v/qAf1fzmv/////hC9Br+F+fD7M/9e/5f7ceyr////N7gH//4Ff6F/SP6z+NP7M+U/9c/KD+xdLJ7VfIxhD+a7l/2D/P/2n9wPlZ+3/2P8xv75+uXtLwAvx7+N/4b+r/t/+ZH4odK+3QAD+Uf0T/Lf4L91P8H8mfyXmb/NeoB/PP7J/tOP0oB/zb+zf8b/I/mN9Rv+P/7P8n+UXtr+sv/R/m/858hv8s/q//P/wnt2exT92v//7m/7Mf/8QLS0S32rIlolvtWRLRLfasiWiW+1ZEtEt9qyJaJb7VkS0S32rIlolvtWRLRLfasiWiW+1ZEtEt9qyJaJb7VkS0S32rIlolvtWRLRLfasiWiW+1ZEtEt9qyJaJb7VkS0S32rIlolvtWRLRLfasiWiW+1ZEtEt9qyJaJb7VkS0S32rIlolvtWRLRLfasiWiW+1ZEtEt9qyJaJb7VkS0S32rIlolvtWRLRLfasiWiW+1ZEtEt9qyJaJb7VkS0S32rIlolvtWRLRLfasiWiW+1ZEtEt9qyJaJb7VkS0S32rIlolvtWRLRLfasiWiW+1ZEtEt9qyJaJb7VkS0S32rIlolvtWRLRLfasiWiW+1ZEtEt9qyJaJb7VkS0S32rIlolvtWRLRLfasiWiW+1ZEtEt9qyJaJb7VkS0S32rIlolvtWRLRLfasiWiW+1ZEtEt9qyJZwikETvX9XsU8emH0cQfxQWskQajXeNRx3kLrQAaLjm9YwTZC6z9dnQbizt0zWz8HAmefvWlfpTPH2xTx3zQI3wTFnAmwF4tWGMLYRGzLyVo01bGGdXIcWd8vCYQb71qkpeSTgV/bJEhdZ4ooaPuHE2QsQYcJHwYXGryVo1IIdApO+XtWRLRLfaiOj1cjDx2IqNV72uz8KHglTGTL4ZVruiacdtLWDL3yg/TTMjnMjDw4shlb3RE5bmeQe+sXLxBtYapVvMdc9chw8hd449hDjHVgqt1G848eyKVumZv/styMHem6TNBxZ3y9qvsLxmAzFx4HwB4SHAjOwthBfgHrL9mMS0UT+eA01Ud8zE1ZEtEt9qyJUobZTlCAmUB6p9JiZ5I2Fi4epTLwFyY4dAmw4ITDJz8O0wc7kp7eZqaCq/nw0UWE2rVurltMdsv5kTcBHoTHOrTYZ4dWOIbn4NfL2P5glR8GifaiDBayvIUiwC/Wh7EkaPmCeJbZsgAfWzLA5PxaPaYFzEBl+ZEtEt9qvsOxad8nfj2y+F7427rTmKw+A0DeDTCHJAKAoq4vnotmCLAX8iwUuaJQ1WzJTiTwF3kEA0BeeCp/c43KKP3b86uQ4s75e1ZEIyEBL2UDdMUfWJ7XfbDwDbXLx0FMTU+FKh2SHWu9xsgnD9BDxE9/pOssYMNqoIZ4nMPffs5iasiIKeA56wsqmu24JTh+NDAN+NyHtWXMSrPni12yGi8GWIyGoWF7VkSzoWsl57grEQGPrb61RymCzKb6nwkFiB+5eIR453C/tjKJaqbjACgXVYR58lGzUAamyGoWF7VkS0S3vqeIshcFMUd2wLUsv3rCEmZDjQcr1I8NtPQIKA1gZZsheQ2vfCmJYfhqoyiKkQZ2xVr6H9qkakEOOa5+YwlmJk9oDjyfbDrLSzhlgojpAayIqpc3YA9ENJN4M3tuJ6/3iW1qpaLQzUl7JGk7XeeR0ofPWBTzgXtWRKoZVjYfwpfndQfvslNALeHf8Xs5L4VjUxM8wJAbuiDyEeJshatmZlJHWWlolvtWRCMhBK54xkGZTrjF0FdVi5shg1FmxiB2WoyayIrxpwuIr9IXS/y5DU5mE+1UH9VLS1L0XwPi6AxG5fn5JRa3f5QCjZIf/gr7uFM3+ADh4Ezz1rOBNkLoMpy8laTf8+lLyVJoZyHFnfL2MoypezPP4szmxbrL9u0M8fbFKjll/B+h2+tp5EV0uwrNtrjhDvJk8iK+QMd2uKXtWRLRLfY/qhhHkYIITxVePPJiCP1qLLjQQmYsZ0CvHHSFs0v08S2EjlQc+OpQ+Ot9qyJaJb7VkS0S32rIlolvtWPrbMvuC5fRzFMd8gRo3KMx9gtxS9qyJaJb7H8UvEe18PLcjnv/u4UhWzVhvHP5tlY7vHjVIOrkOLO+XtWRLRLfasiWiW+1ZEs6IMZWb1Nslr2OSikQg1LTxeAFDh+WLnbL5CfbZGhQoy+x14BilUdjqxI483bgvwRonR/6ss4F7VkS0SoeHwitplekwdZjrMTUi6TTiS4uWMJKkAYQNQUDFnfL2rIlolvtWRLRLfasiWiW+I748z8CioZMMSeB30UcSaJdG6tyHBD5Cg4wMdrfkFm2agns/TgU53XK5RLvHfL2rIlolQ8PhFbdhR6BAxg2gkNZ6Q+/duTilYbnLPxCsxNWRLRLfasiWiW+1ZEtEt9qyJZ0Qg1v21H+PU8a6o7HcIhq2zMiWiW+1Y9yRvkmLwJnn8A7fqwESirdIYs4D7cyOfvZMargTPMNXPjf2UDoGdNPD1RXJR+QLTvhih7id5h/1fRDOQ4s75e1ZEtEt9qyJaJb7VkS0PJPJBrX+JshdaEpUV/rvlfex4+2KP0TdHGz+GLxo3M8/gyrk6rZFj+ekkLrQUVKasyKNJgrRLfasiWh6up2PeZ5/FmTXmGr9sBRNkLUV4XNaOXjr5DUX3I95SpIkbuH2xTx3UvVHGrIV2VV43Cx8Hyr9sPcWd8vasiWiW+1ZEtEt9qyJaJb7VkS0S32rIlusV6hhxZ3y9qyIgoGPsM2Y22M/esbCOSYmtx/UBqePXT0LEsN+6xp8T0zgXtWRLRLfasiWiW+1ZEtEt9qyJaJb7VkS0S32rIlolvtWRLQ+wdZ0Qg1vzilW+PoEHXnhqw1qhAk1nWRb/KhbxIbBTOBe1ZEtEt9qyJaJb7VkS0S32rIlolvtWRLRLfasiWiW+1ZEQUDH1tmX2GpB0LPBCnFkGhQmQ4wy4yJ2joAqFeBe1ZEtEt9qyJaJb7VkS0S32rIlolvtWRLRLfasiWiW+1ZEtDyb5YH+17W60SiriatvzbfoivcPKNI08cZvAmeVkwdXVKXkrQnLH9hb7EWM6oPOLS0S32rIlolvtWRLRLfasiWiW+1ZEtEt9qyJaJb7VkS0S32rIlodtkrcHtM3gTPPWnoE2QugynLyVpN/z6UvJWjd3w84cWRLRLfasiWiW+1ZEtEt9qyJaJb7VkS0S32rIlolvtWRLRLfasiWiW+1ZEtEt9qyJaJb7VkS0S32rIlolvtWRLRLfasiWiW+1ZEtEt9qyJaJb7VkS0S32rIlolvtWRLRLfasiWiW+1ZEtEt9qyJaJb7VkS0S32rIlolvtWRLRLfasiWiW+1ZEtEt9qyJaJb7VkS0S32rIlolvtWRLRLfasiWiW+1ZEtEt9qyJaJb7VkS0S32rIlolvtWRLRLfasiWiW+1ZEtEt9qyJaJb7VkS0S32rIlolvtWRLRLfasiWiW+1ZEtEt9qyJaJb7VkS0S32rIlolvtWRLRLfasiWiW+1ZEtEt9qyJaJb7VkS0S32rIlolvtWRLRLfasiWiW+1ZEtEt9qyJaJb7VkS0S32q8AA/v+nZAAAAAAAAAAAAAAAAAAAAAAAAAAAAAAAAAAAAAAAAAAAAAAAAABFJi2J3LivXvVP92cpCCRIvOe3tQjvQylP4/8KwwaHHWbabHDVXkhQU7cQe7Y8Ya2xmbAaGUMXFOdl5M0TTXNUVh4Udcy2pIZzJ9LLK5IC6yqMpoUvxwTiivTPUGOgPNK3h3+2fNvmKmOuPOM4vQ8HIKazhQ9l8It7/uxpzO1v/O8eBg0PTOo0BqiAI3Bm17c0SjhWAmFQ3gQNVggj227JMCSB2hZFt1i9Lxp0iioYja4EtWMOadHnnhr3pYoT2UIaw7tktG6F6Fn6oz/1oLWkT5wT/P5GeICYBaRUhqzKLaG7TFS2a+vQEm9xyX5Z+Tvkex/kmAf+wZWB5oN/TQj+8/58I42bW4As2gXGw/P3LCpAG+N52yvJkCfJUofM/PiOWBKtr+7qFbURm5qi4OU01421qRm1kyx9zFxrnBwN4otbozLcaY2U3v8RgrGOq2KMicVpzR4A/uErf7LDpYuYTjybuMNeXwIL70rC4k7pqPN9ZEJnJRjMj0ZWY/+yNwHZcxc6S4DYT4M2lsRwS5qBESmmhkKwRnoHr8o8no35W+yG5V4WLYYpaOH8AkGUAmppokeHlzKbC9AyTh69gCIIiBwO7aERHeNWWwvGJO7f/+axZQSCTPUbp5gtZmDr4oV9XieLVbCun2bKEONU+XRjHtttAuMC9P0HoEBBDVUsoX58CPcag96QXeD/m981hDmY6ptfBSICXcV9ROTpT/YDI+P2vUxeVA5QDRjT8q6SwtHcChO3Om9h0j0EcG1GDVVuaOoYt7Yk1xXk9WYf4aY3qP5K7IPwgYLXfb1rul9g6hFdBwVlj7AQqyjsmmiqNKovLvFipqz15RT3zTYgS32wxcuASgp740KmzNfXoBpts8tdVzKvS5awg8elt42AG3WHxcpDZSubMOY1VVOrc14wDfw653JEAioRdeeIfer8v//XFRIj5y3cFHOEvtAmUKL8PZz/fwZZx0rZHjxpqadNxUS1eOYNZWjkVFQyzc97e1CO8qSlGDXYM+DC+/RM+DC+/GJQ+85w+l+mzoaV97+8tZjj4z/tda4PxJOEaAu9eZeLj0OXBezkyKGPgqhOBuA89kQm89812cAKhJNoNGtf3YZp/MdvJTd9JhoOdlaeroFeUPA6XbmnDpqyhl2CaMw1B8Scv1ScDReEYHP0ksDlZsM0fZpQeoqMM4LCVvCpy5o83HR3raL7/e9GzgxBFCbdtCFpUm/X3uYUJsYPf9j+ulVup1+PsQ5l4pbIFpIznOBmTFqZFlfAGnoopu/D7L4Vikh5LIhLiieIyv+4dNJ99vXJ4Y+7JeKkBLFF9YjxqVRuJJJ0nRNXH+IGEddj68RS209iMk94sif+XMYwDQGCPHCaFWxgfNBJEIWyz+8AzEKcfRg3LFDxG5VYQZ4gHFgBUez1JyyyxtBtZjMc6miThqUbsbJCXW5vF80W645yJTj3zLYiPpi7pSUjFIi/8YYER8YVmTyUGJRDfyahmpLM+L70c2AX9marvvfTgoogaVHIV5ag1LSItF/33NFdVIXJjIvjCxOWlIUztf6X+EqFfbfP36z3Jy5JMyCTJZu/5vhc26SYrO93Uyuchhz7nOy9T21m+utInUbWoQAT1Esm+b7AK+H0zRTBHwb7zX0Ob13B4qy5+DDlQpf+4rm/dmsO98XVpu4vQDM0J9duNSV3eHnsvB/TlC35XrT/F1jfgy8Ip78fBnM5Od2VoGymZnoI1SyEsOm7pbRb0eR3yyKYMTfTVBK/xwoubf/g5TsoU28KZgjWw0ntQ1uhiCp5//RwHYuf/+EF6/u6pgCGcwj5PyoPjjWhgvfn/6zt06z2ernMA6S9IvS9gV+ELZqNIKn5DQVLPTfpsQ1/xEohSXUJLzxw/fYPRUu6dyfDBsx6UPpmyF7iiIXZH+45pduKHiw6hn+jRm0xgSsalEqnV3jWG3W/7u0dHoMTVq6pLa0IDRlSTySAOORVvhUnPET2LNC08Lc24YtoL+U13HARjCwyUhJ7CwyUhITrmw12DPgwvv0TPgwvvt0zhtwEEXEveYnRCHWrkpOPIcqn/o4ldwd7wNu54+QK5ZqD1nbXhO27yDfTpuaO9//tp3gQpzfxj0E/cxBLyYPqzTphbdbP6IhFZrbOcMKPSu61C5Ss6ST6UvYecCJzQx/YgfkXoMyOeIAeD4k5fxIGU44OHEOYzh9Z+BYJVAN+4b981Novjc2+J1bw5GuCsRx+bRLq8kemKb9SL1RhU1ZVoy2HDE53ERuG42Ml3PjRR1wp5C9oBJyA3qhYzFegADas/+kP5ias5V/jgErmShjX9UbuIEKREe22ylCN1JCKW6z4P4AFFEh0RXpByWX0BF1gb+KRnX2xCOxV+DbBErUS7NbQ1enHvPLtfiPmH/0vC0wv2U2KHkwHDeB4F0Lmh+D03S71hITSlCWiwNYhxDaVgJkr6dMmJAFSwdebe7BsfCuDHISA/tpg/yEtE+d1lN09u9OCwDtCQu53UzvQ17JpiMdbQ5a1v1LZMhtPuWL9yqbwGogx2ASrXnnzoLd4uu+zsPzhWx3cipbNPfY85s4L3qKRXlR1xsTiqKInOBuM3yPSoL5bk2b5N5bJV9rGnx8iW7at6TsiE0fyPUxnCMPGv6011MBX2ZTn4TgpD6c2VUC4E2WjrER3mW6cpL4dzVkKR9pZLIuH3svRGx1KZqT3J5KjsbzzZIn7HgBNHbnWvuf8s0aw3ZDuq9f0ztqiGvkRKFSAp2AHsqarqv6ZdPeSVkE1fNc2LSY/b33S4ueUr27wfQye5tdReozIOsDYuf0xLG/wgQ6g9zBvx8ZBOrtTFJ2+z8nIGQnEHYVRsUoFD2J7gvWl7XTDIbcPXv1SF9mQoLuF5OHU/OecmO+7jQfKrtK1lZ/8CejZ0vTxT6FSrP4hL3KuHYIoitsDlJZ8Yd8fUzJHrm6jvcLqPl1pIKX1YWeru9NnMXF+LGK41tzDTZ2crX6ABe5oYygX4owoas594v9IAF4TD4q9H3G0/0ChrjXP0pM77MDCsc6X91ET/+f2Ql2y+tjRC9gfXy7NzNS7ZJyu934p7/I5NMvW+XBxgQrOJtPiHvh788/PwOvsSRf0sX6swnjdLqAU6SULOD/vr853I0soof6chByB/ENz6Tm7GRskgkp3G5JgP+C/Q7jbPqtrIjvtxZNgXozH7b41rwH/JtWjeKBn8rL/LGlJaRlcLWrqI/icRclWRaFnH9LNZjXGO/+r9s/I1lfhK2r0iYN6fhAZBxii0j5kgVQSj29tSARo9VzR0vM83InL2QMCmEvieqWPoLIr9yW3/C6R6e991V7aOgDzpYqWoeMAQvo1Vsrj/zEwUH/2ZHRa/ZFyHMKa2ijFCDfI7p7El/yAsoT07G17s7GTUsTpEtG4Rf7jzPnmXmGD+rUOyoRouVWY494NR5doD+8yxUuI/iDkiFzXjmWc5a0BQ9VttvKSO5vRQaaYX8T6Bfg7r30723sWCS8K8caMAbwVMLKSDFrndqBQRb1tslmZG9LE6/in9BMrk1oy7GgEFzMr7ZesqoXqPzMSHAxTIQFuF+9vHcmSrE7wHDVxw1d0YJdWevGbUSm6FgPp5/IA0i250DJwBbQViv/4If/Ay8q+ryy+VRYyc2lE+DLW52MHsUTTSrkEy8/zO2mBzMLFrBp/hBCtL+iVp9dlktxn6nZFpb9IamNzyE6wSV9BHz+UhO/h7Of5fi5lFmG6o2eFceN/xJNIEYWayoqGWbnvb2oR3jT1YGCRW01pl7bW01pl7F8Qvc97STZve0vgoApsdt3nAjCwJjjTb5EeOhtRceuNC9sVd2JF4oYh4ZYUE7EqO6sqeIy63kRkhg+hDP2pv9TdrjP46ccUU/yxBx9hnwXrMEHZ0q2NRCni5CuVgLy3CufQXX+Et4LAThu4abotZ0Hn+BM3Lh9SejVsB3EnINot8Q0isI2gPupull/SFM4qEiMjhirWmoydCLO+B446e7rvN8EThHz7eMc5F2HxW0+hy31DU7fWXmnvh1y5lNPudLEJ6fcUNXOI853g/LtOdgdvdGwsJEcXshP2faDpmgrmkfdDQhITOS3Ykxe+tkpUjbA2G7EmL3smBVv8mE5HB47oy9bv5cPvrpMpYzxnzMQpvnU1MLTiNxIBBKBu8GmaFYt8OLAcGNo0EvRwQH2lVF6bUNYzuc3uXy3eW3PPG8uD+yfbFeWXTpwInguOv+/e7DA/6tTENa7lf4NzXCZ/P0lKeCy0Fe6MOD01DcIxoOSsK6+c0UHxJ1TxE9fDXcFLbVmCCVn3iGFIO8ip/BiHa2WIcrSwj8l1oPkXMKt9HtC2i6IdyL8vScufEMRwa02xfk+ZnwHavb7J+IhxPwxg6ctbJvhTfS+m2wJV3uPjvCUFY7qdLC0b9BM5asAkcDvKJOFRD/7Adm9AhjjkStvyVJWBvsrGa4hTZg+YG/q/5RI607urjqE96DZHTVVhVNqMR9LI2KQKK8upM/hvzYSqNk0AWFqR9bsAGc35RNISdveJw8dmg2tdyZLzlf8+ZvvzQT86LhX8mRKPFbYVpXbHF9ILjZhgb7zP+HxH4XL10w6wUaFepDTpDa/9w0fhjActaEDmZVYj6M0UHK4r0an1YewuZSE9xR5wM7XAFS+VrKs+k5TtN7R4S5It7/uhtZo8BselUK4ilYuwyRgKnBXgDBMKVRPCqzRkKD719mnGdHRKqSFRDQYC3AmK3qMG2fqfj3cfO9e+oQ+30i9IPhr+C84O1SXbU/zoOqnDTazdYXe1vFVGJd/OAXOshr32X2HUwkS6tXfRRStettVovOIYkvFni/PF9yd78L3jmYHmun7bX4rOx9jf+QvAq5Rj3VQR7xc4eTlNtRMoET3psIT86HUJkPIfJFnmmxaf6MUXZKr+lKWfJq81tTJ6oRQ42ttFO9hrCbUB5T5ftfFBJEfcg8G+e8fSqMoYUxzAD+YGEee/Kf4PJux9tDh2azeNK+m4ay27Z5dXvOrjtHXBo4b6cw8FHxO1WysZQCsvOKDoTqIyXlaAJuP93PoqS9/hg6YSJTEI2PckV1wFTjoVJREhNU+YAhNXTI1K3ZICdZABcKmxJQ0ISEytdi16LWSrLLOLv3xCJRHEHmPY0qpse/ojGmRbOZhnWUJluZ87s0qC4FjuPUQSgbtQ6vAzD2GIGPTETCL0wLu4rNVXzs8pMAH+ZgZRtc1qkluJvGNwwtJZxYj0zwiYHySp4Cj4BaK0PVOmjKEvYO+Hz0fJmA76zl+zyS/m4bvFvCvCedApFATmZplB6sHC188Fws9qi7/Gm/hqKt326l5RHc/SmkEiXPapW4VvQhPKwBpUVPeNOnLA4eAuQ+Ce+Q39Tv3mtCs7LMG5o58nz2eWiijF2kFoXkM8MPkMaraXRFVvahXefQoXO1nd15hXw6Rvk/NLLAdw5NNsDiFjhMnwJmS0diAnaQFZuiDLk8GJIbNjbA4zvMtuJrjutShMHhMwI6CwlnZuk0i5jWK5lbbmGY1wDdPl/kAz6+IcNMIl7/fxafyR4tO0xf1pd3vY3gTG2JUhHtfIb3EzjCebgT5cDc37PBAp8xdW6WuBYl0h+M2/zKMxsqTAwgFqRUsH9lEqg/KxInDwgwVu242zRrzl5XqQrWgecv7s3ISbdUnrwEB5nr6NyJz10slkvSCRegv5r5Z+ifRxyG+wuVtqN0lGpIOexKjYIBf+deSIzaRMMDsnHBNzVOQ3RtfGkNHToHvLtHV9LA5AcCxaP62NnjK6LFsx2pNvEl52mczmXEgZASbRtVZTJNogshuX2I8v1IPp9ThJO1ojhsHXp5ojC5SMDf6uaP5o+oE7/d2UGV6mRm4fI+S9XW1e2kjlgZs+QfjLeuxjSiFIwRo/G4LuZmv+3Lemh3G6FGtI/cOlDgrHJVBxCsYmvfvCVAGoC3DPu3o1D3aFRDbtq72RilkCLaZwoSh/W5jAs5oNj2+w42OR578UZb4Od/GflZW1ZThR9mTbzHHLb70N/nM/P6rp8vwp/tY0FP4HzPendhwcuzS89cIafGkN6soqD5ifWMjFHlGZt+r3QNk59W+KiwLnEpcfgo+J2qmJsjd2yIvASgclfW+3T9DnreSxg0tKMBGzPyzXy4jleizlS2Sq8g4eIcGkXw5PxU1M7VDNcOdtUKSCNpuLxwe32UGIzvdOLV4cID0JiNF7Ga2rGJkGt6ru0MUJ/rYXbAWD9mHZ5F/4qzKQ4sIvg7WbsSYveifQMoRVT7H+Dv/9LtDmb7VuoaCoAa08G1Di8ZEhZx6cLQfw2e8WzSIqPIWOan5E6TgJM9fFWN7E967Lqmk5L6CdzqO4AO/YIAmu3feAvwNvaxnMSh+VqerHopilzuJfNu8aY/a5ErU4ItASqo6T9EfxHlIKAyQIjPLzviJDmCoe5oga5QAxZ0P5UVbaMFnhMuy+WlhwjtMOEliPq1+yxDkhfZ+sALdXBFpfoCboR44LaNTgqYfK0jn7PJ89jfnxqYWUyqKN9+h9ySf3tAoJWfkxbjMKhsvP89Z7H50ldhtH4vvhL/qwSQv22VvjQ8mHkf4Udg4In7H9ORPhDmFcmFrIae2GqmUH0ndzBOlzGv5K2vm7hq66jpA1GRrgoVmY3BJMxb4xvEEizpKt8cweTz6O22m+uW8yoIeps8lWzuvM3i1nWOQGUFqqiu/zKRLe8bu9Y6L3akID7HIIwuUVArvp3KCZRMn9KAJg2vNt//9cVTNVlcNUg3tL8vst6AVLyBhhGdBYAAAAAAFID6ImcAtqDgZkRFlmVKC07eiXtXGJEnK8Oy9D7JW/D4csLDQ7Nswi3ey1922zI99QZ46+dcRLUXUWRvHsMdWAM2YgfgwwxEhdJ6ykaPOrnGaFMEHQHy9C2XuM4wu4ME7Fpv9dwRYdrsY+O5MyZ1GmN6jOfqR6TSq9j0QLShS4WgFD4CGml/A54fpkwI/NGq8CrhaJrnfZN2I6lsABDOlIVRmiKQvyOW4oVU3Or66FF6HhBtZvrUm6iqCy1t89OW691ZF4p7ZwEsTg7nYiKmnBiIjJLboN6YgMI8M4BD9P76mQeQ4uaDVuaf5CUYQtExjAtC2lJMxm2Z0aMk0hSiezdXFnt1tBbMijslDisM1TS36s9yZ4v3fKtRpAP2O6hoJe+nXKLDXGwyaBY+IPp6lok0nc1sZfRSX9PSwAxSFg57TBJpqGNAgCqisxctwFtBxJd257TEOAvM5iV+eoKJlzlMU4MIKb2N1XhcDopbFMHk3Tq+61YRGFhsnvb21CytSEohDPhEi3dtC6WYOK6bAuhYXBXzzV8M+s9jdgNrMcFvQiRNL4AAHFETsarsVYaZaBCg2TYO/YKXS95AadaPv56HT6hasKPdNcU2xbnfWhidpi8iVof7wy5/haFjzl3Ddv9zqwDnj8pk5eMQMSMBItaye0sbOgeZaFarhzRC0mHYjl03PBPUQoV/ohs9p61/Di+LukIG8BVpremrAACiYpbHAP9eIjttUv6+ak9tAdFArk28voukSXiAkf/Zmx4XhccKMVemLjOZH8v8Hti29hettz8wimjvmMS+52EldwKALQqJaOjts34QpEwEUhy883CLI+z6kDHVn38e7D7GhWvJ7/5Xmo+2tbhcxZrstz+r1G2JI8TC2NJiZ/vvMCAQi8h7NorYdS7n+NS63cOZqIgyN7VtyDnBhk+bCrmX7un5XAOukyZA2woM8PxAex+8Sy9TXqVCO6rtii3Xu6+S34pT/1PG+Yux5Z7c2TVVQzC3oDlWhNEhDKw8hNhe42oWnssuUjtQ9a1NQiLjQC6tku193hQmoEnA/x2a1NT+NNynbcciSiIjrLXZ3KGAY67lAtsW3tPzmstzZ/Ok4QRA3/t+Lqt52CZQ3pteu41w2T87ZKXlUmHtdIr1IONSIKB7kOFtRkKDirW/smV/UK1i1rLVLVb0dZtAD/8vxxnmeCSo54s5JbRobkOILkkzgueH/LFI6Chz2rAJuE2EiUXFa0odh2Wylygh93zZcwnKHvSVDA5phOpqMk1a9r53e5Sv9s/hcaYRoAFRWZ3mvrZ6iHpH53Ff1xdJXiIxg6YLkxTCn5MWRH/DQBUdzx+lWaE6G8dWQBV9vUEQtvmWyJnVCPRYMmExlj72mPl/le1L1noOpc7WTPWbLUHffZFtdkYhgADyB3L2175fFfyAtFrH9wErMZMrrUwBMa9MyaiWPJaRclWJybADTARP68vTyNYMgW5xcOhBBkMp4akeXJ0JS2uABLoH1kjDs3Fxv0S/wGs7PPVAecL9x8UGEfJpm9ZfBmOTGy5h63D2hVyrbxFqoO3824kLRb6F3pI1YJFQZrXYPz2hIPdE22D8x2rICq9EzCl6SQWucau9pTG0myU9ySqr0DyrXsmDBfuW+Ez8IKG/qfNO57pDLYYMqtxNgQw9qaGJxvKRHF5XTozWyuEbVnsK1UXWiEMGCb8K3mSHZO/g08WeaEVTTG2R8yRbuAgbw7KESpe3aDHOp01kqsj3p7O6PgEtOhYCHCIOTWZl2w50Q4FS1/cLxDfmb+djourgVE4IQfxQ43Y79Z5P/WG5oh2P/a0ZhMlyhKja6JmNEvogwPQYXcX05wTZf1DM9C/32xaEcc5t0gPxr9ZQ4li5y51wm/8CUauXX8lSejr0q6AAHM+3HmM8mNllSwNaDBPnBIw6HG9T24xz9RhQhdjkfjkzV+Td3/rU/GY/LejlKEfWRXTl0rfmxUDBXtadlPjWCsxV16aWZMYnss9fo9kl8XYj5EeTdt1q6G3PcRardeBJh6yjenrSqi1BQLUpKTQ05QF8pXHVT54sWYZUsfpUZCp1s4R9Q+qiII4Ei21WDMddJB/kj2/hk9OE1fku4TYHXTW00pp7N7t/OBUSFgPnenviE5si8hhQWiKUZhiEg7/oL2C30aiw5gNhqBd46Iv6k12LqauGitVLIewpr9tOHFAAGpsQIZ+GfvAB9YotGfbSTyBWRfRn3uHh4Hs+s1PXhm6ibpBS4+gHZYZN9F03hAqJzSNFU0B4rR9e9WyitTGODdBC/VtPEoicIYYEEtEBSbWs73uP6h+nS5ith5IUsdkDPvV+bY1Jf29fip0PfRtHi8LdqEyByR02h5CY/v2DVyulLIF/ABSBCmqVMISTwjiBzRFObHkKgwBEuldZyB52ynbPGGU4I0X7M3V/eoGYWBX3Jvq6qiEFyH6RuKA88NN7vmgegecwDpelmZrG4ocaXjydshu0oIa2GxM5HppXxwFEfeHjXsRJ/4Fq0g5SP+tHsldQTCUldQbyzs+WsFObDug5dzC1+9X5QAXFjQxIWDn2bHHT98soQJWd0FWBHlT++0vKFn6kAK4e49ZGHHhqA2nSvoiM2F8h4Wt/QgnjItvr8dVC5g1OipshpoBHkkQ4JxQpSCl++7ZfW17YfaOBpgshIShKnjrOWnQhG0oxj1DJ0ilcr5VKyvogeDvwGIp+tzKnga6sicLY2rv22hlFLlGsig8Bb98e+VGXGbESmGCK4/STUEisnjQw1Nx7iYZlxBuyXGLPfjlv0fz1fhJDaDlxjq0B14nXaMhf6nC7e3z5eWQLY/gwcYkYzAag3AKAAAAACFDgEvkcnsMEUHATsowmDejTonwYUEI9vo4rsKepEqEnftsdzTlkWsAiJlwom7FPiEh/Im6B8DQPnHNcXCaiTBSYgDAijspHIDLmYYGtZ3VwLAe/RmmdnL5DMTe93AD0LeBxjPCnDRK7Q5cX5HeXs5l2ePEv/4P3GnkAAAACwX5qKWWXQoHAE7YyLpcvIv+I4TYvkGDN8yCjM7XgzCjXzuQLTut+GOOsI56TE6AsNt2pHGXhYjFz1wJiBzXdxZfNi/LkH+AckGEz7Wzp5Ayt4ddbDlphBAAAAA1ClL2cDhEcGKIMwMhMn7K7DYXj4OMwa85Rvqzot3yuyd45EyGJQqR8AqGvZEjwKbLs2wX7murIU+c6Xof5zozf8yLE1QVE4Jst19INvxkWoklWwAAAAB00ssIvshewWez8NV+Kls9qR2bv72RdXHm65A8Mav9z94esXXgkj5GQhAvtxHZncBZQUFQanWUImDx0lTPwknTmSUGDQlYNel7YN1Mh2Zh9ClBToLK35wrT+CAxwBctmlEeG0Me+skkbbuJmKUmTJf4HnsQ0++JXvpd8jgsLfZjLwU0Z9NujXBLnSLqHMRyF2Jje0BV9eyP4tvWatlzGoWFSGX213E3mE266nqgXvjF4eT8oK8JCQWd5FBoRr3TfQpgVbzcgAAAAAEcvuG5T5J5cjy8yyMN5HntnICOQADfAAl82/JQxlthtiY4AAAAAAAAAAAAAAAAAAAAAAAAAAAAAAAAAAAAAAAAAAAAAAAABFWElGugAAAEV4aWYAAElJKgAIAAAABgASAQMAAQAAAAEAAAAaAQUAAQAAAFYAAAAbAQUAAQAAAF4AAAAoAQMAAQAAAAIAAAATAgMAAQAAAAEAAABphwQAAQAAAGYAAAAAAAAASAAAAAEAAABIAAAAAQAAAAYAAJAHAAQAAAAwMjEwAZEHAAQAAAABAgMAAKAHAAQAAAAwMTAwAaADAAEAAAD//wAAAqAEAAEAAACiBgAAA6AEAAEAAADMAQAAAAAAAA==)\n",
        "[Reference](https://https://simplelearn.tw/numpy-intro/)\n",
        "\n",
        "\n",
        "\n",
        "\n",
        "### 建立ndarray\n",
        "\n",
        "在後面都可接, dtype設定資料型態 int float bool等\n",
        "\n",
        "* ```demo = np.array([arg1, arg2, ...])``` 一維陣列\n",
        "\n",
        "* ```demo2 = np.array([[1, 2, 3], [4, 5, 6]])``` 二維陣列\n",
        "\n",
        "* ```demo3 = np.array([[[1, 2, 3],[4, 5 ,6]],[[7, 8, 9], [10, 11, 12]]])``` 三維陣列\n",
        "* ```np.zeros((2,3))``` 建立2x3為0的陣列\n",
        "\n",
        "* ```np.ones((2, 3, 4))``` 建立2x3x4為1的陣列\n",
        "\n",
        "* ```np.empty((2x3))``` 建立2x3無初始值的陣列\n",
        "\n",
        "* ```np.full((3,2), 8)``` 建立一個3x2 值皆為8的陣列\n",
        "\n",
        "* ```np.eye(2)``` 建立2x2的單位矩陣\n",
        "\n",
        "* ```np.arange(1, 10, 2)``` 建立由1開始 不超過10 間隔為2的均勻數值一維陣列\n",
        "\n",
        "* ```np.linsapce(1, 10, 5)``` 建立0到10之間 均勻的五個數值的一維陣列\n",
        "\n",
        "random\n",
        "\n",
        "* ```np.random.random((2, 3))``` 建立2x3的隨機矩陣\n",
        "\n",
        "  ```np.random.ranf((2, 3))```\n",
        "\n",
        "  ```np.random.sample((2, 3))```\n",
        "\n",
        "* ```np.random.randint(1, 15, (2, 3))``` 2x3的從1到15隨機整數陣列\n",
        "   \n",
        "  ```np.random.randint(1, 15, 10)``` 建立一維10個數字1到15的陣列\n",
        "\n",
        "* ```np.random.normal(3, 2, (5, 2))``` 5x2的平均值為3標準差為2的陣列\n",
        "\n",
        "### Data Types\n",
        "\n",
        "* b   # 布林數\n",
        "* i   # 有好整數\n",
        "* u   # 無號整數\n",
        "* f   # 浮點數\n",
        "* c   # 複數浮點數\n",
        "* O   # pyhton對象\n",
        "* U   # Unicode\n",
        "* V   # 原始數據\n",
        "\n",
        "### I/O\n",
        "\n",
        "* ```np.save('file_name', np_object)``` 將物件儲存為.npy檔\n",
        "\n",
        "* ```np.savetxt('file_name.txt', np_object)``` 將物件儲存為.txt檔\n",
        "\n",
        "* ```arg = np.load('file_name.npy')``` 載入.npy檔\n",
        "\n",
        "* ```arg = np.load('file_name.txt')``` 載入.txt檔\n",
        "\n",
        "### Inspecting 查察\n",
        "\n",
        "* ```arg.shape``` 陣列形狀\n",
        "\n",
        "* ```len(arg)``` 陣列長度( )的第一個數字\n",
        "\n",
        "* ```arg.ndim``` 陣列的維度\n",
        "\n",
        "* ```arg.size``` 元素數量\n",
        "\n",
        "* ```arg.dtype``` 元素的資料型態\n",
        "\n",
        "* ```arg.dtype.name``` 資料型態的名稱\n",
        "\n",
        "* ```arg.astype(dtype)``` 將arg的資料轉為其他資料型態\n",
        "\n",
        "### 四則運算\n",
        "\n",
        "輸入跟輸出為相同shape\n",
        "\n",
        "* ```np.add(arg1, arg2)``` 元素相加\n",
        "\n",
        "* ```np.subtract(arg1, arg2``` 元素相減\n",
        "\n",
        "* ```np.multiply(arg1, arg2)``` 元素相乘\n",
        "\n",
        "* ```np.divide``` 元素相除\n",
        "\n",
        "* ```demo.max()``` 最大值\n",
        "\n",
        "* ```demo.min()``` 最小值\n",
        "\n",
        "### Comparison\n",
        "\n",
        "依照元素比較輸入輸出相同shape但輸出為bool 僅有array_equal是對比整個array會輸出一個bool\n",
        "\n",
        "* ```arg1 == agr2```\n",
        "\n",
        "* ```arg < 2```\n",
        "\n",
        "* ```np.array_equal(arg1, arg2)```\n",
        "\n",
        "###Aggregate Functions 聚合函數\n",
        "\n",
        "* ```demo.sum``` 所有元素的和\n",
        "\n",
        "* ```demo.max()/.min()``` 元素的最大最小值\n",
        "\n",
        "* ```demo.max(axis=0/1)``` axis不同方向的最大最小陣列\n",
        "\n",
        "* ```demo.median(demo)``` 中位數\n",
        "\n",
        "* ```demo.mean(demo)``` 平均數\n",
        "\n",
        "* ```np.std(demo)``` 標準差\n",
        "\n",
        "* ```demo.argmax()``` 最大值對應的index\n",
        "\n",
        "* ```demo.argmin()``` 最小值對應的index\n",
        "\n",
        "### 複製與排序\n",
        "\n",
        "* ```arg.sort()``` 由小排到大 直接改變原本變數\n",
        "\n",
        "* ```np.sort(arg)``` 回傳由小排到大的資料\n",
        "\n",
        "* ```np.argsort(arg)``` 回傳陣列由小排到大後的index 相同位子的元素在排列後的index\n",
        "\n",
        "* ```arg.copy()``` 拷貝\n",
        "\n",
        "### Subsetting, Slicing, Indexing\n",
        "\n",
        "```a = np.array([1, 2, 3, 4])```\n",
        "\n",
        "```b = np.array([2.5, 1, 3, 4.5], [5, 6 ,7 ,8])```\n",
        "\n",
        "* ```a[2]``` 3\n",
        "\n",
        "* ```b[1, 3]``` 8.0 **支援多維度的資料型態可以直接使用此方法取出值[a, b] list則需要透過[a][b] 效率較低**\n",
        "\n",
        "slicing\n",
        "\n",
        "* ```a[0:2]``` array([1, 2])\n",
        "\n",
        "* ```b[0:2, 1]``` array([1., 6.])\n",
        "\n",
        "boolean indexing\n",
        "\n",
        "* ```a[a<4]``` array([1, 2, 3])\n",
        "\n",
        "fancy indexing\n",
        "\n",
        "* ```b[[1, 1, 0, 0], [0, 2, 1, 0]]``` array([5., 7., 1, 2.5]) 依照[ ]內的行列取值\n",
        "\n",
        "### 陣列操作\n",
        "\n",
        "transposing array\n",
        "\n",
        "* ```b.T``` 轉置 (僅適用二維陣列)\n",
        "\n",
        "* ```col = a[:,np.newaxis]``` 一維陣列適用之轉置\n",
        "\n",
        "* ```row = a[np.newaxis, :]``` 多增加一個維度\n",
        "\n",
        "changing array shape\n",
        "\n",
        "* ```b.ravel()``` array([2.5, 1, 3, 4.5, 5, 6 ,7 ,8]) 將array攤平成一維向量\n",
        "\n",
        "* ```b.reshape(4, 2)``` array([[2.5, 1], [3, 4.5], [5, 6], [7, 8]])\n",
        "\n",
        "adding / removeing elements\n",
        "\n",
        "```a = np.array([1, 2, 3, 4])```\n",
        "\n",
        "```b = np.array([6, 7, 8, 9])```\n",
        "\n",
        "* ```np.append(a, 5)``` array([1, 2, 3, 4, 5]) 在尾段增加元素\n",
        "\n",
        "* ```np.append(a, b)``` array([1, 2, 3, 4, 6, 7, 8, 9]) 在尾段加入另一個array的元素\n",
        "\n",
        "* ```np.insert(a, 1, 0)``` array([1, 0, 3, 4]) 將a的第1個元素改為0\n",
        "\n",
        "* ```np.delete(b, [2])``` array([6, 7, 9]) 將b的第2個元素刪除\n",
        "\n",
        "* ```a.resize((2, 2))``` array([[1, 2], [3, 4]])\n",
        "  \n",
        "  * 若不符合原始資料 resize可以進行填充\n",
        "\n",
        "  * 會直接改變原始資料 並無回傳值\n",
        "\n",
        "combining arrays\n",
        "\n",
        "```a = np.array([[1, 2], [3, 4]])```\n",
        "\n",
        "```b = np.array([[5, 6], [7, 8]])```\n",
        "\n",
        "* ```np.concatenate(a, b, axis = 0)``` = ```np.vstack(a, b)\n",
        "\n",
        "  以axis為0的方向垂直運作\n",
        "\n",
        "  array([[1, 2], [3, 4], [5, 6], [7, 8]])\n",
        "\n",
        "* ```np.concatenate(a, b, axis = 1)``` = ```np.hstack(a, b)\n",
        "\n",
        "  以axis為1的方向水平運作\n",
        "\n",
        "  array([[1, 2, 5, 6], [3, 4, 7, 8]])\n",
        "\n",
        "spliting array\n",
        "\n",
        "```a = np.array([[1, 2, 3, 4, 5, 6],[-1, -2, -3, -4, -5, -6], [2, 4, 6, 8, 10, 12]])```\n",
        "\n",
        "* ```np.split(a, 3, axis = 0)``` = ```np.vsplit(a, 3)```\n",
        "\n",
        "  axis為0的方向垂直運作 切成3個\n",
        "\n",
        "  array([1, 2, 3, 4, 5, 6]), array([-1, -2, -3, -4, -5, -6]), array([2, 4, 6, 8, 10, 12])\n",
        "\n",
        "* ```np.split(a, 2, axis = 1)``` = ```np.hsplit(a, 2)```\n",
        "\n",
        "  axis為1的方向水平運作 切成2個\n",
        "\n",
        "  array([[1, 2, 3], [-1, -2, -3], [2, 4, 6]]), array([[4, 5, 6],[-4, -5, -6], [8, 10, 12]])\n",
        "\n",
        "* ```np.array_split(a, 4, axis = 1)``` 不等量分割\n",
        "\n",
        "  array([[ 1,  2],[-1, -2],[ 2,  4]]),array([[ 3,  4],[-3, -4],[ 6,  8]]),array([[ 5],[-5],[10]]),array([[ 6],[-6],[12]])"
      ],
      "metadata": {
        "id": "EoYR5Y75Z10m"
      }
    },
    {
      "cell_type": "code",
      "source": [
        "# 建立ndarray\n",
        "import numpy as np\n",
        "demo = np.array([1, 2, 3, 4])\n",
        "print(type(demo))"
      ],
      "metadata": {
        "colab": {
          "base_uri": "https://localhost:8080/"
        },
        "id": "JJIqvCg3avgu",
        "outputId": "38d9c370-7138-4a83-b9f4-5bd54de1a613"
      },
      "execution_count": null,
      "outputs": [
        {
          "output_type": "stream",
          "name": "stdout",
          "text": [
            "<class 'numpy.ndarray'>\n"
          ]
        }
      ]
    },
    {
      "cell_type": "code",
      "source": [
        "#一維轉置\n",
        "col = demo[:, np.newaxis]\n",
        "row = demo[np.newaxis, :]\n",
        "print(col)\n",
        "print(row)"
      ],
      "metadata": {
        "colab": {
          "base_uri": "https://localhost:8080/"
        },
        "id": "rxUGY85HeDJ0",
        "outputId": "e0e55db0-85c2-438f-bad8-1905a64d8972"
      },
      "execution_count": null,
      "outputs": [
        {
          "output_type": "stream",
          "name": "stdout",
          "text": [
            "[[1]\n",
            " [2]\n",
            " [3]\n",
            " [4]]\n",
            "[[1 2 3 4]]\n"
          ]
        }
      ]
    },
    {
      "cell_type": "code",
      "source": [
        "a = np.random.normal(3, 2, (5,2))\n",
        "print(a)\n",
        "np.savetxt('first.txt', a)\n"
      ],
      "metadata": {
        "colab": {
          "base_uri": "https://localhost:8080/"
        },
        "id": "-Vi-MsuKiDAN",
        "outputId": "812d6820-c4d2-4f90-8285-80e6975eb5c6"
      },
      "execution_count": null,
      "outputs": [
        {
          "output_type": "stream",
          "name": "stdout",
          "text": [
            "[[ 5.8896163   4.0275308 ]\n",
            " [ 5.0032582   3.61368278]\n",
            " [ 5.77467011  4.50886151]\n",
            " [ 1.61867121  1.70817514]\n",
            " [ 1.60719746 -0.03990168]]\n"
          ]
        }
      ]
    },
    {
      "cell_type": "code",
      "source": [
        "arg1 = np.random.random((2, 3))\n",
        "arg2 = np.random.random((2,3,3))\n",
        "print(arg1.size, len(arg2))\n",
        "print(arg1.sum())"
      ],
      "metadata": {
        "colab": {
          "base_uri": "https://localhost:8080/"
        },
        "id": "bxVneuG6rjpX",
        "outputId": "280165f3-2492-4277-e5d8-82cfae6bff3e"
      },
      "execution_count": null,
      "outputs": [
        {
          "output_type": "stream",
          "name": "stdout",
          "text": [
            "6 2\n",
            "3.6605534413816416\n"
          ]
        }
      ]
    },
    {
      "cell_type": "code",
      "source": [
        "arg1 = np.array([[1, 2, 3, 4], [5, 6, 7, 8]])\n",
        "print(arg1.min(axis=1))\n",
        "print(arg1.reshape(4, 2))\n",
        "arg1.resize(4,3)\n",
        "print(arg1)"
      ],
      "metadata": {
        "colab": {
          "base_uri": "https://localhost:8080/"
        },
        "id": "8kMI3Fe_r1A8",
        "outputId": "a9d87287-31df-439d-dac0-4274a0e2c77a"
      },
      "execution_count": null,
      "outputs": [
        {
          "output_type": "stream",
          "name": "stdout",
          "text": [
            "[1 5]\n",
            "[[1 2]\n",
            " [3 4]\n",
            " [5 6]\n",
            " [7 8]]\n",
            "[[1 2 3]\n",
            " [4 5 6]\n",
            " [7 8 0]\n",
            " [0 0 0]]\n"
          ]
        }
      ]
    },
    {
      "cell_type": "code",
      "source": [
        "arg1 = np.array([[1, 3, 2, 4], [5, 6, 7, 10]])\n",
        "a = np.argsort(arg1)\n",
        "a"
      ],
      "metadata": {
        "colab": {
          "base_uri": "https://localhost:8080/"
        },
        "id": "NgXLputkdxAC",
        "outputId": "b954ea69-1ee6-481a-a045-97ce49ae3b1a"
      },
      "execution_count": null,
      "outputs": [
        {
          "output_type": "execute_result",
          "data": {
            "text/plain": [
              "array([[0, 2, 1, 3],\n",
              "       [0, 1, 2, 3]])"
            ]
          },
          "metadata": {},
          "execution_count": 19
        }
      ]
    },
    {
      "cell_type": "code",
      "source": [
        "a = np.array([[1, 2, 3, 4, 5, 6],[-1, -2, -3, -4, -5, -6], [2, 4, 6, 8, 10, 12]])\n",
        "np.array_split(a, 4, axis = 1)"
      ],
      "metadata": {
        "colab": {
          "base_uri": "https://localhost:8080/"
        },
        "id": "Pg_9DJt5j4i8",
        "outputId": "5ebda008-22d8-4218-acaa-68634952cce0"
      },
      "execution_count": null,
      "outputs": [
        {
          "output_type": "execute_result",
          "data": {
            "text/plain": [
              "[array([[ 1,  2],\n",
              "        [-1, -2],\n",
              "        [ 2,  4]]),\n",
              " array([[ 3,  4],\n",
              "        [-3, -4],\n",
              "        [ 6,  8]]),\n",
              " array([[ 5],\n",
              "        [-5],\n",
              "        [10]]),\n",
              " array([[ 6],\n",
              "        [-6],\n",
              "        [12]])]"
            ]
          },
          "metadata": {},
          "execution_count": 20
        }
      ]
    }
  ]
}