{
  "nbformat": 4,
  "nbformat_minor": 0,
  "metadata": {
    "colab": {
      "provenance": [],
      "authorship_tag": "ABX9TyOjPKMx3IiVulqOhgdlar5B",
      "include_colab_link": true
    },
    "kernelspec": {
      "name": "python3",
      "display_name": "Python 3"
    },
    "language_info": {
      "name": "python"
    }
  },
  "cells": [
    {
      "cell_type": "markdown",
      "metadata": {
        "id": "view-in-github",
        "colab_type": "text"
      },
      "source": [
        "<a href=\"https://colab.research.google.com/github/ilvnr999/Notebook/blob/main/pytorch.ipynb\" target=\"_parent\"><img src=\"https://colab.research.google.com/assets/colab-badge.svg\" alt=\"Open In Colab\"/></a>"
      ]
    },
    {
      "cell_type": "markdown",
      "source": [
        "#pytorch\n",
        "\n",
        "## 建立Tensor"
      ],
      "metadata": {
        "id": "NRIWjyS4Dhx-"
      }
    },
    {
      "cell_type": "markdown",
      "source": [
        "1. 直接透過list建立"
      ],
      "metadata": {
        "id": "aenedIrJD2t5"
      }
    },
    {
      "cell_type": "code",
      "execution_count": 2,
      "metadata": {
        "colab": {
          "base_uri": "https://localhost:8080/"
        },
        "id": "Vqp5se_uQ6NQ",
        "outputId": "ea0da816-60c3-4087-89f8-baa5789ab711"
      },
      "outputs": [
        {
          "output_type": "stream",
          "name": "stdout",
          "text": [
            "tensor([[1, 2, 3, 4, 5],\n",
            "        [2, 3, 4, 5, 6]])\n"
          ]
        }
      ],
      "source": [
        "import torch\n",
        "data = [[1, 2, 3, 4, 5],[2, 3, 4, 5, 6]]\n",
        "x_data = torch.tensor(data)\n",
        "print(x_data)"
      ]
    },
    {
      "cell_type": "markdown",
      "source": [
        "2. 透過np.array建立"
      ],
      "metadata": {
        "id": "CLQnsaXDD66N"
      }
    },
    {
      "cell_type": "code",
      "source": [
        "import numpy as np\n",
        "np_array = np.array(data)\n",
        "x_np = torch.tensor(np_array)\n",
        "print(x_np)"
      ],
      "metadata": {
        "colab": {
          "base_uri": "https://localhost:8080/"
        },
        "id": "ysd1xTRREElT",
        "outputId": "19b6e709-7c30-4cc6-e360-395fec55422e"
      },
      "execution_count": 4,
      "outputs": [
        {
          "output_type": "stream",
          "name": "stdout",
          "text": [
            "tensor([[1, 2, 3, 4, 5],\n",
            "        [2, 3, 4, 5, 6]])\n"
          ]
        }
      ]
    },
    {
      "cell_type": "markdown",
      "source": [
        "3. 透過其他tensor\n",
        "  \n",
        "  * 建立元素為1的tensor但保留 (shpae, dtype)\n",
        "\n",
        "  * 建立隨機元素的tensor保留 shpae"
      ],
      "metadata": {
        "id": "vTDBYMZBEliQ"
      }
    },
    {
      "cell_type": "code",
      "source": [
        "x_one = torch.ones_like(x_data)\n",
        "x_rand = torch.rand_like(x_data, dtype=torch.float)\n",
        "print(f\"x_one: \\n {x_one} \\n\")\n",
        "print(f\"x_rand: \\n {x_rand} \\n\")"
      ],
      "metadata": {
        "colab": {
          "base_uri": "https://localhost:8080/"
        },
        "id": "On46eGs1FWnA",
        "outputId": "63ccf793-d102-4d7b-f0de-902082007b07"
      },
      "execution_count": 10,
      "outputs": [
        {
          "output_type": "stream",
          "name": "stdout",
          "text": [
            "x_one: \n",
            " tensor([[1, 1, 1, 1, 1],\n",
            "        [1, 1, 1, 1, 1]]) \n",
            "\n",
            "x_rand: \n",
            " tensor([[0.3189, 0.1898, 0.3436, 0.6113, 0.0725],\n",
            "        [0.0088, 0.9857, 0.7153, 0.9603, 0.3348]]) \n",
            "\n"
          ]
        }
      ]
    },
    {
      "cell_type": "markdown",
      "source": [
        "4. 建立其他tensor"
      ],
      "metadata": {
        "id": "HSKCc_FHIUyH"
      }
    },
    {
      "cell_type": "code",
      "source": [
        "shape = (3, 4)\n",
        "rand_tensor = torch.rand(shape)\n",
        "ones_tensor = torch.ones(shape)\n",
        "zeros_tensor = torch.zeros(shape)\n",
        "\n",
        "print(f\"rand \\n {rand_tensor} \\n\")\n",
        "print(f\"ones \\n {ones_tensor} \\n\")\n",
        "print(f\"zeros \\n {zeros_tensor} \\n\")"
      ],
      "metadata": {
        "colab": {
          "base_uri": "https://localhost:8080/"
        },
        "id": "R-VY0hRtIdXl",
        "outputId": "4d73666f-a7c1-4c3d-d02f-70df9ea39bc5"
      },
      "execution_count": 9,
      "outputs": [
        {
          "output_type": "stream",
          "name": "stdout",
          "text": [
            "rand \n",
            " tensor([[0.7628, 0.3463, 0.9607, 0.0434],\n",
            "        [0.9998, 0.0603, 0.5676, 0.8199],\n",
            "        [0.0825, 0.5720, 0.4457, 0.2555]]) \n",
            "\n",
            "ones \n",
            " tensor([[1., 1., 1., 1.],\n",
            "        [1., 1., 1., 1.],\n",
            "        [1., 1., 1., 1.]]) \n",
            "\n",
            "zeros \n",
            " tensor([[0., 0., 0., 0.],\n",
            "        [0., 0., 0., 0.],\n",
            "        [0., 0., 0., 0.]]) \n",
            "\n"
          ]
        }
      ]
    },
    {
      "cell_type": "markdown",
      "source": [
        "### 屬性\n",
        "\n",
        "* ```arg.shape```  tensor的shape\n",
        "* ```arg.dtype```  tensor的元素資料型態\n",
        "* ```arg.device``` 儲存處"
      ],
      "metadata": {
        "id": "_bqokJ_dKEPs"
      }
    },
    {
      "cell_type": "markdown",
      "source": [
        "### 張量運算\n",
        "\n",
        "cuda 確認可用性, 將張量移動到GPU\n",
        "```\n",
        "if torch.cuda.is_avalable():\n",
        "    arg = arg.to(\"cuda\")\n",
        "```\n",
        "\n",
        "mps 確認可用性, 將張量移動到GPU(MPS)\n",
        "```\n",
        "if torch.backends.mps.is_available():  \n",
        "    tensor = tensor.to(\"mps\")  \n",
        "```\n",
        "\n",
        "### indexing & slicing\n",
        "\n",
        "### 運算\n",
        "\n",
        "* ```t1 = torch.cat([arg1, arg2, arg3], dim=1)```  依照dim的方向將tensor連接\n",
        "\n",
        "tensor 與自己相乘\n",
        "\n",
        "* ```y1 = arg1 @ arg.T```\n",
        "\n",
        "* ```y2 = torch.matmul(arg1.T, arg)``` or ```torch.matmul(arg1.T, arg, out=y2)```\n"
      ],
      "metadata": {
        "id": "Fr00h3eTLETd"
      }
    },
    {
      "cell_type": "code",
      "source": [
        "import torch\n",
        "arg1 = torch.tensor([[1, 2, 3, 4, 5],[6, 7, 8, 9, 10]])\n",
        "\n",
        "y1 = arg1 @ arg1.T\n",
        "print(y1)"
      ],
      "metadata": {
        "colab": {
          "base_uri": "https://localhost:8080/"
        },
        "id": "dBv7mfkSbgk1",
        "outputId": "fb9db36c-7359-4dcf-a60f-9cbd4280af70"
      },
      "execution_count": 17,
      "outputs": [
        {
          "output_type": "stream",
          "name": "stdout",
          "text": [
            "tensor([[ 55, 130],\n",
            "        [130, 330]])\n"
          ]
        }
      ]
    }
  ]
}