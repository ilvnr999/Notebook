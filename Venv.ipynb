{
  "nbformat": 4,
  "nbformat_minor": 0,
  "metadata": {
    "colab": {
      "provenance": [],
      "authorship_tag": "ABX9TyMWG3rkF35ja29ntYS/BbGc",
      "include_colab_link": true
    },
    "kernelspec": {
      "name": "python3",
      "display_name": "Python 3"
    },
    "language_info": {
      "name": "python"
    }
  },
  "cells": [
    {
      "cell_type": "markdown",
      "metadata": {
        "id": "view-in-github",
        "colab_type": "text"
      },
      "source": [
        "<a href=\"https://colab.research.google.com/github/ilvnr999/Notebook/blob/main/Venv.ipynb\" target=\"_parent\"><img src=\"https://colab.research.google.com/assets/colab-badge.svg\" alt=\"Open In Colab\"/></a>"
      ]
    },
    {
      "cell_type": "markdown",
      "source": [
        "### 建立虛擬環境\n",
        "\n",
        "* ```python3.X -m venv 環境名稱``` 建立虛擬環境 直接設定python版本(建立後無法更改)\n",
        "\n",
        "* ```source 環境名稱/bin//activate``` 啟動虛擬環境\n",
        "\n",
        "* ```deactivate``` 退出虛擬環境\n",
        "\n",
        "pip (Python套件管理工具)\n",
        "\n",
        "* ```pip --version``` 檢查pip與python版本\n",
        "\n",
        "* ```pip install 套件``` 安裝套件\n",
        "\n",
        "* ```pip install --upgrade 套件``` 升級套件\n",
        "\n",
        "* ```pip uninstall 套件``` 卸載套件\n",
        "\n",
        "* ```pip list``` 列出已安裝套件\n",
        "\n",
        "* ```pip install -r requirements.txt``` 從requirements.txt安裝所有套件\n",
        "\n",
        "* ```pip freeze``` 複製安裝好的套件清單到requirements.txt"
      ],
      "metadata": {
        "id": "YuiR0qqAwNwK"
      }
    },
    {
      "cell_type": "code",
      "execution_count": null,
      "metadata": {
        "id": "UmO80wR1wLMQ"
      },
      "outputs": [],
      "source": []
    }
  ]
}