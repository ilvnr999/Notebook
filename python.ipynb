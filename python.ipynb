{
  "nbformat": 4,
  "nbformat_minor": 0,
  "metadata": {
    "colab": {
      "provenance": [],
      "collapsed_sections": [
        "tPKh2Rlc-pIc",
        "_YPQalrBwFId",
        "GnuzEyyxy-q-"
      ],
      "authorship_tag": "ABX9TyNWkkvS7xlmMrrqgeVEqYx7",
      "include_colab_link": true
    },
    "kernelspec": {
      "name": "python3",
      "display_name": "Python 3"
    },
    "language_info": {
      "name": "python"
    }
  },
  "cells": [
    {
      "cell_type": "markdown",
      "metadata": {
        "id": "view-in-github",
        "colab_type": "text"
      },
      "source": [
        "<a href=\"https://colab.research.google.com/github/ilvnr999/Pandas/blob/main/python.ipynb\" target=\"_parent\"><img src=\"https://colab.research.google.com/assets/colab-badge.svg\" alt=\"Open In Colab\"/></a>"
      ]
    },
    {
      "cell_type": "markdown",
      "source": [
        "#基礎"
      ],
      "metadata": {
        "id": "uWHwi_0lyuYl"
      }
    },
    {
      "cell_type": "markdown",
      "source": [
        "## 註解符號\n",
        "* ＃ 單行\n",
        "* ''' '''多行"
      ],
      "metadata": {
        "id": "fc3GpgMs90nM"
      }
    },
    {
      "cell_type": "markdown",
      "source": [
        "## 運算子\n",
        "* ,+ ,- ,*,/\n",
        "* % 餘數\n",
        "* // 求整數除法\n",
        "* a+=b -> a = a + b 特殊語法(所有運算子皆適用)\n",
        "\n",
        "\n",
        "* abs( ) 絕對值\n",
        "* pow(x, y) x的y次方\n",
        "* round(,小數後幾位) 四捨五入\n",
        "\n",
        "\n",
        "* \\ 敘述分為多行"
      ],
      "metadata": {
        "id": "tPKh2Rlc-pIc"
      }
    },
    {
      "cell_type": "code",
      "source": [
        "y = 1\\\n",
        "  +2\\\n",
        "  +3\n",
        "print(y)"
      ],
      "metadata": {
        "colab": {
          "base_uri": "https://localhost:8080/"
        },
        "id": "HCQdT5NBiZSF",
        "outputId": "d5686487-da36-4e3d-90a5-d7db42d5e499"
      },
      "execution_count": 1,
      "outputs": [
        {
          "output_type": "stream",
          "name": "stdout",
          "text": [
            "6\n"
          ]
        }
      ]
    },
    {
      "cell_type": "markdown",
      "source": [
        "##資料型態\n",
        "* type( ) 檢視型態\n",
        "* int( )\n",
        "* float( )\n",
        "* str( )\n",
        "* bool( )\n",
        "* chr( ) ASCII或Unicode轉文字\n",
        "* ord( ) 輸出ASCII或Unicode\n",
        "\n",
        "int\n",
        "* 0b, bin( ) 二進制\n",
        "* 0o, oct( ) 八進制\n",
        "* ox, hex( ) 十六進制\n",
        "* b' ', name.encode(''), name.decode(' ') byte資料\n",
        "\n",
        "bool (以下被視為False 其餘都為Ture)\n",
        "* int 0\n",
        "* float 0\n",
        "* ' '\n",
        "* [ ]\n",
        "* ( )\n",
        "* { }\n",
        "* set( )\n",
        "* None\n",
        "\n",
        "string\n",
        "* str資料型態的變數或字串可透過+並在一起\n",
        "* \\ 溢出字元 \\b \\n\n",
        "* r\" \" 溢出字元失效"
      ],
      "metadata": {
        "id": "_YPQalrBwFId"
      }
    },
    {
      "cell_type": "code",
      "source": [
        "print(ord(\"鄭\"))"
      ],
      "metadata": {
        "colab": {
          "base_uri": "https://localhost:8080/"
        },
        "id": "ZsCl-N_bKNMF",
        "outputId": "bbdddb6b-8707-453b-9cac-44f42c6942fd"
      },
      "execution_count": null,
      "outputs": [
        {
          "output_type": "stream",
          "name": "stdout",
          "text": [
            "37165\n"
          ]
        }
      ]
    },
    {
      "cell_type": "markdown",
      "source": [
        "## 輸入輸出\n",
        "###print(value, step, end, file, flush)\n",
        "\n",
        "print(資料, 分隔字元(空格), 結束後插入的字元(\\n), 輸出位置(sys.stdout螢幕), 清除緩衝區資料(False）)\n",
        "\n",
        "* \" \"+str() 皆是字串才可相加輸出\n",
        "* f\"{variable}\" f可以直接插入變數\n",
        "\n",
        "print(\"%d %s\" %(12, abc))\n",
        "* (%d 整數, %f 浮點數, %x 16進制, %X大寫16, %o 8進制, %s 字串 %e 科學記號, %E 大寫科學記號)\n",
        "* %nd n為幾位, %n.mf m為小數後幾位, %n.ms n顯示長度m字串長度, -靠左+靠右\n",
        "\n",
        "\n",
        "print(\"{}   {}\".format(variable1, variable2))\n",
        "* { }內加入數字或變數名稱設定format中的順序\n",
        "*  '>' 靠右對齊, '<' 靠左對齊, '^' 置中對齊\n",
        "* 此方式要調整出書格式時需要使用 {0:>2d}\n",
        "\n",
        "print(f\"{variable}\")\n",
        "\n",
        "###in = input(\"prompt\") 輸入 一律回傳str格式\n",
        "* eval(str) 回傳字串的公式運算結果\n",
        "* 因input回傳的事str格式，可配合eval直接轉回整數處理\n",
        "\n",
        "### file_object = open(file,mode)開啟檔案\n",
        "* r 讀取(預設)\n",
        "* w 寫入覆蓋\n",
        "* a 寫入附加在後面\n",
        "* x 開啟新的寫入 已存在報錯\n",
        "* b 開啟二進制檔案模式\n",
        "* t 開啟文字檔模式(預設)\n",
        "\n"
      ],
      "metadata": {
        "id": "4bTazhNOrlVh"
      }
    },
    {
      "cell_type": "code",
      "source": [
        "name1 = 123\n",
        "name2 = \"apple\"\n",
        "print(\"{0:4d}是{1:8.5s}\".format(name1, name2))"
      ],
      "metadata": {
        "colab": {
          "base_uri": "https://localhost:8080/"
        },
        "id": "tapXhJXdmiLg",
        "outputId": "fbfdf9e8-c626-4211-c7f2-ebefa43ab4d1"
      },
      "execution_count": 9,
      "outputs": [
        {
          "output_type": "stream",
          "name": "stdout",
          "text": [
            " 123是apple   \n"
          ]
        }
      ]
    },
    {
      "cell_type": "code",
      "source": [
        "english = eval(input(\"英文成績\"))\n",
        "math = eval(input(\"數學成績\"))\n",
        "toltal = english + math\n",
        "print(toltal)"
      ],
      "metadata": {
        "colab": {
          "base_uri": "https://localhost:8080/"
        },
        "id": "aWe0ctlHrqGF",
        "outputId": "bc95173d-46fc-4bd3-bc2a-96310684a244"
      },
      "execution_count": 10,
      "outputs": [
        {
          "output_type": "stream",
          "name": "stdout",
          "text": [
            "英文成績10\n",
            "數學成績100\n",
            "110\n"
          ]
        }
      ]
    },
    {
      "cell_type": "markdown",
      "source": [
        "###練習\n"
      ],
      "metadata": {
        "id": "Y14YFX0QzUr3"
      }
    },
    {
      "cell_type": "code",
      "source": [
        "# 請輸入華氏溫度，輸出攝氏溫度\n",
        "f = eval(input(\"請輸入華氏溫度：\"))\n",
        "c = (f-32) * 5/9\n",
        "print(\"華氏溫度為:{}\".format(c))"
      ],
      "metadata": {
        "colab": {
          "base_uri": "https://localhost:8080/"
        },
        "id": "zivraIKmzafM",
        "outputId": "3a943ad4-abd2-4054-eb6e-6d730b16e275"
      },
      "execution_count": 12,
      "outputs": [
        {
          "output_type": "stream",
          "name": "stdout",
          "text": [
            "請輸入華氏溫度：104\n",
            "華氏溫度為:40.0\n"
          ]
        }
      ]
    },
    {
      "cell_type": "code",
      "source": [
        "# 計算貸款問題\n",
        "loan = eval(input(\"貸款金額:\"))\n",
        "year = eval(input(\"貸款年限:\"))\n",
        "rate = eval(input(\"年利率:\"))\n",
        "\n",
        "monthrate = rate / (12 * 100)\n",
        "molecules = loan * monthrate\n",
        "denominator = 1 - (1 / (1 + monthrate) ** (year * 12))\n",
        "monthlypay = molecules / denominator\n",
        "total = monthlypay * year * 12\n",
        "print(\"每個月還款:%d \\n總共還款金額:%d\" %(monthlypay,total))"
      ],
      "metadata": {
        "colab": {
          "base_uri": "https://localhost:8080/"
        },
        "id": "K_Vs2pL40dfZ",
        "outputId": "e6bab193-3d57-4e9b-f439-9d23f89d0236"
      },
      "execution_count": 18,
      "outputs": [
        {
          "output_type": "stream",
          "name": "stdout",
          "text": [
            "貸款金額:6000000\n",
            "貸款年限:20\n",
            "年利率:2.0\n",
            "每個月還款:30353 \n",
            "總共還款金額:7284720\n"
          ]
        }
      ]
    },
    {
      "cell_type": "code",
      "source": [],
      "metadata": {
        "id": "zBs1hCOB41aK"
      },
      "execution_count": null,
      "outputs": []
    },
    {
      "cell_type": "markdown",
      "source": [
        "#判斷式"
      ],
      "metadata": {
        "id": "GnuzEyyxy-q-"
      }
    },
    {
      "cell_type": "markdown",
      "source": [
        "## if else\n",
        "* if:\n",
        "* elif:\n",
        "* else:"
      ],
      "metadata": {
        "id": "c_UeY2tVu-b-"
      }
    },
    {
      "cell_type": "markdown",
      "source": [
        "## 字串方法\n",
        "name = \" \"\n",
        "* len(name) 獲得幾個字元\n",
        "* name.find(\" \") 尋找字串中第一個要尋找的字元 若有輸出位址 若沒有則輸出-1\n",
        "* name.capitalize() 第一個字大寫\n",
        "* name.upper() 全部大寫\n",
        "* name.lower() 全部小寫\n",
        "* name.replace(要取代的,取代成) 取代字元"
      ],
      "metadata": {
        "id": "0VNJ405dprxu"
      }
    },
    {
      "cell_type": "code",
      "source": [
        "name = \"asdfadf\"\n",
        "print(name.find(\"z\"))"
      ],
      "metadata": {
        "colab": {
          "base_uri": "https://localhost:8080/"
        },
        "id": "tOSyD-bHtKaF",
        "outputId": "e650c054-0afc-4008-b72a-bf3cbd4045cc"
      },
      "execution_count": null,
      "outputs": [
        {
          "output_type": "stream",
          "name": "stdout",
          "text": [
            "-1\n"
          ]
        }
      ]
    },
    {
      "cell_type": "code",
      "source": [
        "phone_number = input(\"請輸入電話號碼\")\n",
        "phone_number = phone_number.replace(\"-\",\" \")\n",
        "print(phone_number)\n"
      ],
      "metadata": {
        "colab": {
          "base_uri": "https://localhost:8080/"
        },
        "id": "GK7bw7l5rZv4",
        "outputId": "5890c017-77cc-4da2-d7ca-fa323195e3ff"
      },
      "execution_count": null,
      "outputs": [
        {
          "output_type": "stream",
          "name": "stdout",
          "text": [
            "請輸入電話號碼2251-7816\n",
            "2251 7816\n"
          ]
        }
      ]
    },
    {
      "cell_type": "markdown",
      "source": [
        "程式練習-使用者名稱合法性"
      ],
      "metadata": {
        "id": "7X-9RyjDsj2j"
      }
    },
    {
      "cell_type": "code",
      "source": [
        "username = input(\"輸入使用者名稱\")\n",
        "if len(username) > 12:\n",
        "  print(\"超過12\")\n",
        "elif \" \" in username:\n",
        "  print(\"有空格\")\n",
        "elif not username.isalpha():\n",
        "  print(\"有數字\")\n",
        "else:\n",
        "  print(\"歡迎\"+username)"
      ],
      "metadata": {
        "colab": {
          "base_uri": "https://localhost:8080/"
        },
        "id": "696X2KX8srMj",
        "outputId": "fd5a31bc-9d6b-437d-d09f-a4f8c71f14f7"
      },
      "execution_count": null,
      "outputs": [
        {
          "output_type": "stream",
          "name": "stdout",
          "text": [
            "輸入使用者名稱sdfadfsdfasdf\n",
            "超過12\n"
          ]
        }
      ]
    }
  ]
}