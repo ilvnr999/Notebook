{
  "nbformat": 4,
  "nbformat_minor": 0,
  "metadata": {
    "colab": {
      "provenance": [],
      "collapsed_sections": [
        "tPKh2Rlc-pIc",
        "_YPQalrBwFId",
        "Y14YFX0QzUr3",
        "c_UeY2tVu-b-",
        "0VNJ405dprxu",
        "RQ6SZuplmTeF",
        "swLQcDAXPpoC",
        "zbE9sKRUbwdH",
        "i7CuxjyPP7va"
      ],
      "authorship_tag": "ABX9TyNCpLkPbB97FaExujlACV5y",
      "include_colab_link": true
    },
    "kernelspec": {
      "name": "python3",
      "display_name": "Python 3"
    },
    "language_info": {
      "name": "python"
    }
  },
  "cells": [
    {
      "cell_type": "markdown",
      "metadata": {
        "id": "view-in-github",
        "colab_type": "text"
      },
      "source": [
        "<a href=\"https://colab.research.google.com/github/ilvnr999/Pandas/blob/main/python.ipynb\" target=\"_parent\"><img src=\"https://colab.research.google.com/assets/colab-badge.svg\" alt=\"Open In Colab\"/></a>"
      ]
    },
    {
      "cell_type": "markdown",
      "source": [
        "#基礎"
      ],
      "metadata": {
        "id": "uWHwi_0lyuYl"
      }
    },
    {
      "cell_type": "markdown",
      "source": [
        "## 註解符號\n",
        "* ＃ 單行\n",
        "* ''' '''多行"
      ],
      "metadata": {
        "id": "fc3GpgMs90nM"
      }
    },
    {
      "cell_type": "markdown",
      "source": [
        "## 運算子\n",
        "* ,+ ,- ,*,/\n",
        "* % 餘數\n",
        "* // 求整數除法\n",
        "* a+=b -> a = a + b 特殊語法(所有運算子皆適用)\n",
        "\n",
        "\n",
        "* abs( ) 絕對值\n",
        "* pow(x, y) x的y次方\n",
        "* round(,小數後幾位) 四捨五入\n",
        "\n",
        "\n",
        "* \\ 敘述分為多行"
      ],
      "metadata": {
        "id": "tPKh2Rlc-pIc"
      }
    },
    {
      "cell_type": "code",
      "source": [
        "y = 1\\\n",
        "  +2\\\n",
        "  +3\n",
        "print(y)"
      ],
      "metadata": {
        "colab": {
          "base_uri": "https://localhost:8080/"
        },
        "id": "HCQdT5NBiZSF",
        "outputId": "d5686487-da36-4e3d-90a5-d7db42d5e499"
      },
      "execution_count": null,
      "outputs": [
        {
          "output_type": "stream",
          "name": "stdout",
          "text": [
            "6\n"
          ]
        }
      ]
    },
    {
      "cell_type": "markdown",
      "source": [
        "##資料型態\n",
        "* type( ) 檢視型態\n",
        "* int( )\n",
        "* float( )\n",
        "* str( )\n",
        "* bool( )\n",
        "* chr( ) ASCII或Unicode轉文字\n",
        "* ord( ) 輸出ASCII或Unicode\n",
        "* id( ) 檢視位址\n",
        "---\n",
        "* list( )\n",
        "* tuple( )\n",
        "\n",
        "\n",
        "int\n",
        "* 0b, bin( ) 二進制\n",
        "* 0o, oct( ) 八進制\n",
        "* ox, hex( ) 十六進制\n",
        "* b' ', name.encode(''), name.decode(' ') byte資料\n",
        "\n",
        "bool (以下被視為False 其餘都為Ture)\n",
        "* int 0\n",
        "* float 0\n",
        "* ' '\n",
        "* [ ]\n",
        "* ( )\n",
        "* { }\n",
        "* set( )\n",
        "* None\n",
        "\n",
        "string\n",
        "* str資料型態的變數或字串可透過+並在一起\n",
        "* \\ 溢出字元 \\b \\n\n",
        "* r\" \" 溢出字元失效"
      ],
      "metadata": {
        "id": "_YPQalrBwFId"
      }
    },
    {
      "cell_type": "code",
      "source": [
        "print(ord(\"鄭\"))"
      ],
      "metadata": {
        "colab": {
          "base_uri": "https://localhost:8080/"
        },
        "id": "ZsCl-N_bKNMF",
        "outputId": "bbdddb6b-8707-453b-9cac-44f42c6942fd"
      },
      "execution_count": null,
      "outputs": [
        {
          "output_type": "stream",
          "name": "stdout",
          "text": [
            "37165\n"
          ]
        }
      ]
    },
    {
      "cell_type": "markdown",
      "source": [
        "## 輸入輸出\n",
        "###print(value, sep, end, file, flush)\n",
        "\n",
        "print(資料, 分隔字元(空格), 結束後插入的字元(\\n), 輸出位置(sys.stdout螢幕), 清除緩衝區資料(False）)\n",
        "\n",
        "* \" \"+str() 皆是字串才可相加輸出\n",
        "* f\"{variable}\" f可以直接插入變數\n",
        "\n",
        "print(\"%d %s\" %(12, abc))\n",
        "* (%d 整數, %f 浮點數, %x 16進制, %X大寫16, %o 8進制, %s 字串 %e 科學記號, %E 大寫科學記號)\n",
        "* %nd n為幾位, %n.mf m為小數後幾位, %n.ms n顯示長度m字串長度, -靠左+靠右\n",
        "\n",
        "\n",
        "print(\"{}   {}\".format(variable1, variable2))\n",
        "* { }內加入數字或變數名稱設定format中的順序\n",
        "*  '>' 靠右對齊, '<' 靠左對齊, '^' 置中對齊\n",
        "* 此方式要調整出書格式時需要使用 {0:>2d}\n",
        "\n",
        "print(f\"{variable=:m.nf}\")\n",
        "\n",
        "###in = input(\"prompt\") 輸入 一律回傳str格式\n",
        "* eval(str) 回傳字串的公式運算結果\n",
        "* 因input回傳的事str格式，可配合eval直接轉回整數處理\n",
        "\n",
        "### file_object = open(file,mode)開啟檔案\n",
        "* r 讀取(預設)\n",
        "* w 寫入覆蓋\n",
        "* a 寫入附加在後面\n",
        "* x 開啟新的寫入 已存在報錯\n",
        "* b 開啟二進制檔案模式\n",
        "* t 開啟文字檔模式(預設)\n",
        "\n"
      ],
      "metadata": {
        "id": "4bTazhNOrlVh"
      }
    },
    {
      "cell_type": "markdown",
      "source": [
        "##math模組\n",
        "* math.pi\n",
        "* .e\n",
        "* .inf 極大值\n",
        "* .ceil(x) 大於x的最小整數\n",
        "* .floor(x) 小於x的最大整數\n",
        "* .trinc(x) 刪除小數位數\n",
        "* .pow(x,y) 計算x的y次方\n",
        "* .sqrt(x) 開根號\n",
        "* .radians( ) 角度轉弧度\n",
        "* .degrees( ) 弧度轉成角度\n",
        "* .sin( ) .cos( ) .tah( ) 參數為弧度\n",
        "* .log( ) log10( ) log2( ) 不同指數函數"
      ],
      "metadata": {
        "id": "8DLaX6JPPuvj"
      }
    },
    {
      "cell_type": "code",
      "source": [
        "name1 = 123\n",
        "name2 = \"apple\"\n",
        "print(\"{0:4d}是{1:8.5s}\".format(name1, name2))"
      ],
      "metadata": {
        "colab": {
          "base_uri": "https://localhost:8080/"
        },
        "id": "tapXhJXdmiLg",
        "outputId": "fbfdf9e8-c626-4211-c7f2-ebefa43ab4d1"
      },
      "execution_count": null,
      "outputs": [
        {
          "output_type": "stream",
          "name": "stdout",
          "text": [
            " 123是apple   \n"
          ]
        }
      ]
    },
    {
      "cell_type": "code",
      "source": [
        "english = eval(input(\"英文成績\"))\n",
        "math = eval(input(\"數學成績\"))\n",
        "toltal = english + math\n",
        "print(toltal)"
      ],
      "metadata": {
        "colab": {
          "base_uri": "https://localhost:8080/"
        },
        "id": "aWe0ctlHrqGF",
        "outputId": "bc95173d-46fc-4bd3-bc2a-96310684a244"
      },
      "execution_count": null,
      "outputs": [
        {
          "output_type": "stream",
          "name": "stdout",
          "text": [
            "英文成績10\n",
            "數學成績100\n",
            "110\n"
          ]
        }
      ]
    },
    {
      "cell_type": "markdown",
      "source": [
        "###練習\n"
      ],
      "metadata": {
        "id": "Y14YFX0QzUr3"
      }
    },
    {
      "cell_type": "code",
      "source": [
        "# 請輸入華氏溫度，輸出攝氏溫度\n",
        "f = eval(input(\"請輸入華氏溫度：\"))\n",
        "c = (f-32) * 5/9\n",
        "print(\"華氏溫度為:{}\".format(c))"
      ],
      "metadata": {
        "colab": {
          "base_uri": "https://localhost:8080/"
        },
        "id": "zivraIKmzafM",
        "outputId": "3a943ad4-abd2-4054-eb6e-6d730b16e275"
      },
      "execution_count": null,
      "outputs": [
        {
          "output_type": "stream",
          "name": "stdout",
          "text": [
            "請輸入華氏溫度：104\n",
            "華氏溫度為:40.0\n"
          ]
        }
      ]
    },
    {
      "cell_type": "code",
      "source": [
        "# 計算貸款問題\n",
        "loan = eval(input(\"貸款金額:\"))\n",
        "year = eval(input(\"貸款年限:\"))\n",
        "rate = eval(input(\"年利率:\"))\n",
        "\n",
        "monthrate = rate / (12 * 100)\n",
        "molecules = loan * monthrate\n",
        "denominator = 1 - (1 / (1 + monthrate) ** (year * 12))\n",
        "monthlypay = molecules / denominator\n",
        "total = monthlypay * year * 12\n",
        "print(\"每個月還款:%d \\n總共還款金額:%d\" %(monthlypay,total))"
      ],
      "metadata": {
        "colab": {
          "base_uri": "https://localhost:8080/"
        },
        "id": "K_Vs2pL40dfZ",
        "outputId": "e6bab193-3d57-4e9b-f439-9d23f89d0236"
      },
      "execution_count": null,
      "outputs": [
        {
          "output_type": "stream",
          "name": "stdout",
          "text": [
            "貸款金額:6000000\n",
            "貸款年限:20\n",
            "年利率:2.0\n",
            "每個月還款:30353 \n",
            "總共還款金額:7284720\n"
          ]
        }
      ]
    },
    {
      "cell_type": "code",
      "source": [
        "# 正五角形面積\n",
        "import math\n",
        "s = eval(input(\"請輸入邊長\"))\n",
        "area = 5 * (s ** 2) / (4 * math.tan( math.pi / 5))\n",
        "print(f\"{area = :6.2f}\")"
      ],
      "metadata": {
        "colab": {
          "base_uri": "https://localhost:8080/"
        },
        "id": "zBs1hCOB41aK",
        "outputId": "8fd0bed4-898d-4bf9-c88a-254c647ddb36"
      },
      "execution_count": null,
      "outputs": [
        {
          "output_type": "stream",
          "name": "stdout",
          "text": [
            "請輸入邊長5\n",
            "area =  43.01\n"
          ]
        }
      ]
    },
    {
      "cell_type": "code",
      "source": [
        "# 透過經緯度計算台北車站到紅磡車站的距離\n",
        "r = 6371\n",
        "x1, y1 = 22.2838, 114.1731\n",
        "x2, y2 = 25.0452, 121.5168\n",
        "\n",
        "d = 6371 * math.acos(math.sin(math.radians(x1)) * math.sin(math.radians(x2))\\\n",
        "                     + math.cos(math.radians(x1)) * math.cos(math.radians(x2))\\\n",
        "                     * math.cos(math.radians(y1 - y2)))\n",
        "print(f\"distance{d=:6.1f}\")"
      ],
      "metadata": {
        "colab": {
          "base_uri": "https://localhost:8080/"
        },
        "id": "4NKjCo4gPV59",
        "outputId": "1637f042-eb65-43a2-b2ac-5b5d961c657d"
      },
      "execution_count": null,
      "outputs": [
        {
          "output_type": "stream",
          "name": "stdout",
          "text": [
            "distanced= 808.3\n"
          ]
        }
      ]
    },
    {
      "cell_type": "code",
      "source": [
        "# 雞兔同龍問題\n",
        "h = int(input(\"輸入頭的數量：\"))\n",
        "f = int (input(\"輸入腳的數量：\"))\n",
        "x = f / 2 - h\n",
        "y = 2 * h - f / 2\n",
        "print(\"總共有{}隻兔子\\n{}隻雞\".format(y, x))"
      ],
      "metadata": {
        "colab": {
          "base_uri": "https://localhost:8080/"
        },
        "id": "1-r5o3_KjkQ4",
        "outputId": "adbb3786-081f-4b6f-a1bc-a6c869f48380"
      },
      "execution_count": null,
      "outputs": [
        {
          "output_type": "stream",
          "name": "stdout",
          "text": [
            "輸入頭的數量：35\n",
            "輸入腳的數量：100\n",
            "總共有20.0隻兔子\n",
            "15.0隻雞\n"
          ]
        }
      ]
    },
    {
      "cell_type": "code",
      "source": [
        "# 等差級數總和\n",
        "start = 1\n",
        "end = 100\n",
        "d = 1\n",
        "sum = (1 + 100) * ((end - start + 1) / 2)\n",
        "print(\"1~100的等差級數和%d\" %sum)"
      ],
      "metadata": {
        "colab": {
          "base_uri": "https://localhost:8080/"
        },
        "id": "qASiDAWjlJil",
        "outputId": "605642ad-a8c8-4239-aa73-4a3f1999af72"
      },
      "execution_count": null,
      "outputs": [
        {
          "output_type": "stream",
          "name": "stdout",
          "text": [
            "1~100的等差級數和5050\n"
          ]
        }
      ]
    },
    {
      "cell_type": "markdown",
      "source": [
        "## if else\n",
        "* if:\n",
        "* elif:\n",
        "* else:\n",
        "\n",
        "使用技巧\n",
        "* if x == True: 可改用 if x:\n",
        "* x if 判斷 else y 符合判斷則為x其他則為y\n",
        "* if 判斷式: 單行程式。   執行程式只有一行可以寫在同一行\n",
        "* if bmi := bmi的計算 > 28:  替代兩行(bmi輸出改為布林值)\n",
        "* print(\"a\" if val else \"b\") 輸出中運用if else\n",
        "\n",
        "None\n",
        "* 數值設定為None 則type( )會顯示為Nonetype 可用來作為布林值判斷顯示為False"
      ],
      "metadata": {
        "id": "c_UeY2tVu-b-"
      }
    },
    {
      "cell_type": "markdown",
      "source": [
        "使用技巧"
      ],
      "metadata": {
        "id": "K8b-nCqgsfHt"
      }
    },
    {
      "cell_type": "code",
      "source": [
        "x, y = eval(input(\"輸入兩個數字:\"))\n",
        "max_ = x if x > y else y    #使用＿避開保留字\n",
        "print(\"最大值{}\".format(max_))"
      ],
      "metadata": {
        "colab": {
          "base_uri": "https://localhost:8080/"
        },
        "id": "BmNzzCWAshml",
        "outputId": "e070248d-b700-498f-a5b5-519bb4e29b04"
      },
      "execution_count": null,
      "outputs": [
        {
          "output_type": "stream",
          "name": "stdout",
          "text": [
            "輸入兩個數字:1, 4\n",
            "最大值4\n"
          ]
        }
      ]
    },
    {
      "cell_type": "markdown",
      "source": [
        "None"
      ],
      "metadata": {
        "id": "9Z5RjmW1uONL"
      }
    },
    {
      "cell_type": "code",
      "source": [
        "flag = None\n",
        "if not flag:\n",
        "  print(type(flag))\n",
        "flag = 1\n",
        "if flag:\n",
        "  print(type(flag))"
      ],
      "metadata": {
        "colab": {
          "base_uri": "https://localhost:8080/"
        },
        "id": "Lz4cY846uQJt",
        "outputId": "b8956445-19e1-48c4-818e-7af1636eeaca"
      },
      "execution_count": null,
      "outputs": [
        {
          "output_type": "stream",
          "name": "stdout",
          "text": [
            "<class 'NoneType'>\n",
            "<class 'int'>\n"
          ]
        }
      ]
    },
    {
      "cell_type": "markdown",
      "source": [
        "if bmi := bmi的計算 > 28: 替代兩行"
      ],
      "metadata": {
        "id": "et9n9EBZvexa"
      }
    },
    {
      "cell_type": "code",
      "source": [
        "h = eval(input(\"身高:\"))\n",
        "w = eval(input(\"體重:\"))\n",
        "bmi = w / (h / 100) ** 2\n",
        "if bmi >= 28:\n",
        "  print(\"肥胖\")\n",
        "else :\n",
        "  print(\"不肥胖\")\n",
        "\n",
        "print(\"縮減後的結果\")\n",
        "if bmi := w / (h / 100) ** 2 >= 28:\n",
        "  print(\"肥胖\")\n",
        "else :\n",
        "  print(\"不肥胖\")"
      ],
      "metadata": {
        "colab": {
          "base_uri": "https://localhost:8080/"
        },
        "id": "JcsP_lGuvhJ-",
        "outputId": "3f233cd9-dfac-484a-f10f-f94d7b121e93"
      },
      "execution_count": null,
      "outputs": [
        {
          "output_type": "stream",
          "name": "stdout",
          "text": [
            "身高:178\n",
            "體重:74\n",
            "不肥胖\n",
            "縮減後的結果\n",
            "不肥胖\n"
          ]
        }
      ]
    },
    {
      "cell_type": "markdown",
      "source": [
        "## string字串方法\n",
        "str = \" \"\n",
        "* len(str) 獲得幾個字元\n",
        "* str.find(\" \") 尋找字串中第一個要尋找的字元 若有輸出位址 若沒有則回傳-1\n",
        "* str.rfind(\" \") 從尾端尋找\n",
        "* str.index(\" \") 從頭尋找字元 回傳第一次出現的index 若沒有則 產生例外錯誤\n",
        "* str.rindex(\" \") 從尾端尋找\n",
        "* str.count(\" \") 回傳字串出現次數\n",
        "\n",
        "\n",
        "* str.capitalize( ) 第一個字大寫\n",
        "* str.upper( ) 全部大寫\n",
        "* str.lower( ) 全部小寫\n",
        "* str.swapcase( ) 大小寫互換\n",
        "* str.replace(要取代的,取代成) 取代字元\n",
        "* str.rstip( ) 刪除字尾多餘空白\n",
        "* str.lstrip( ) 刪除開端空白\n",
        "* str.strip( ) 刪除兩端空白\n",
        "* str.center( ) 置中對齊\n",
        "* str.rjust( ) 靠右對齊\n",
        "* str.ljust( ) 靠左對齊\n",
        "* str.zfill( ) 設定長度靠右對齊其餘捕0\n",
        "\n",
        "回傳bool\n",
        "* str.islower( ) 判斷全部小寫\n",
        "* str.isupper( ) 判斷全部大寫\n",
        "* str.isdigit( ) 判斷全部數字\n",
        "* str.isalpha( ) 判斷全部英文字\n",
        "* str.isalnum( ) 判斷字母或數字\n",
        "* str.startwith(\" \") 判斷特定字串開始\n",
        "* str.endswith(\" \") 判斷特定字串結尾\n",
        "\n",
        "字串可當作 字元序列 （字串與串列不同之處：字串單一元素不能更改）\n",
        "* str[i] 與list相同方法透過索引取得字元\n",
        "* str[a:b] 也可透過切片取得string 也可以不使用變數\"deep learning\"[a:b]\n",
        "* 也可使用list的所有函數與方法 **會更改string的除外**\n",
        "* str.split( ) 將string括號中的符號或字元拆分後儲存成list\n",
        "* 用來串接的string.join(list) 串接的string須先宣告\n",
        "* list使用str(list)的方式只會將 ['a','b','c']此型態轉成list型態顯示\n",
        "* list使用var = \"\".join(list) 才會將字元組起來變成string\n",
        "\n"
      ],
      "metadata": {
        "id": "0VNJ405dprxu"
      }
    },
    {
      "cell_type": "code",
      "source": [
        "name = \"asdfadf\"\n",
        "print(name.find(\"z\"))"
      ],
      "metadata": {
        "colab": {
          "base_uri": "https://localhost:8080/"
        },
        "id": "tOSyD-bHtKaF",
        "outputId": "e650c054-0afc-4008-b72a-bf3cbd4045cc"
      },
      "execution_count": null,
      "outputs": [
        {
          "output_type": "stream",
          "name": "stdout",
          "text": [
            "-1\n"
          ]
        }
      ]
    },
    {
      "cell_type": "code",
      "source": [
        "phone_number = input(\"請輸入電話號碼\")\n",
        "phone_number = phone_number.replace(\"-\",\" \")\n",
        "print(phone_number)\n"
      ],
      "metadata": {
        "colab": {
          "base_uri": "https://localhost:8080/"
        },
        "id": "GK7bw7l5rZv4",
        "outputId": "2c8fe1c6-2668-42e8-f67d-bb5e2516d664"
      },
      "execution_count": null,
      "outputs": [
        {
          "output_type": "stream",
          "name": "stdout",
          "text": [
            "請輸入電話號碼123-456-789\n",
            "123 456 789\n"
          ]
        }
      ]
    },
    {
      "cell_type": "markdown",
      "source": [
        "程式練習-使用者名稱合法性"
      ],
      "metadata": {
        "id": "7X-9RyjDsj2j"
      }
    },
    {
      "cell_type": "code",
      "source": [
        "username = input(\"輸入使用者名稱\")\n",
        "if len(username) > 12:\n",
        "  print(\"超過12\")\n",
        "elif \" \" in username:\n",
        "  print(\"有空格\")\n",
        "elif not username.isalpha():\n",
        "  print(\"有數字\")\n",
        "else:\n",
        "  print(\"歡迎\"+username)"
      ],
      "metadata": {
        "colab": {
          "base_uri": "https://localhost:8080/"
        },
        "id": "696X2KX8srMj",
        "outputId": "fd5a31bc-9d6b-437d-d09f-a4f8c71f14f7"
      },
      "execution_count": null,
      "outputs": [
        {
          "output_type": "stream",
          "name": "stdout",
          "text": [
            "輸入使用者名稱sdfadfsdfasdf\n",
            "超過12\n"
          ]
        }
      ]
    },
    {
      "cell_type": "markdown",
      "source": [
        "##in 和 not in, is 和 not is\n",
        "用於判斷一物件是否屬於另一物件 適用於：\n",
        "* string, list, tuple, dict\n",
        "* obj1 in obj2 1在2內 回傳bool\n",
        "* obj1 not in obj2\n",
        "* obj1 is obj2 1等於2  回傳bool\n",
        "* obj1 is not obj2\n",
        "\n",
        "\n",
        "透過is和is not 可以觀察int, float, list的記憶體位址\n",
        "* 變數經過運算後 數字相同者指向同一位址\n",
        "* list 拷貝後位址相同者會輸出True\n",
        "* list tuple dic set若為空的 可透過 is None判斷 皆為False\n",
        "\n"
      ],
      "metadata": {
        "id": "RQ6SZuplmTeF"
      }
    },
    {
      "cell_type": "code",
      "source": [
        "x = 10\n",
        "y = 10\n",
        "z = 12\n",
        "r = 2\n",
        "print(id(x), id(y), id(z), id(r))\n",
        "z -=r\n",
        "print(id(z))\n",
        "z = x\n",
        "print(id(z))"
      ],
      "metadata": {
        "colab": {
          "base_uri": "https://localhost:8080/"
        },
        "id": "vl5kZuPLpCbZ",
        "outputId": "cfc6dd3b-9e3e-43ec-ac37-315ed27d1b01"
      },
      "execution_count": null,
      "outputs": [
        {
          "output_type": "stream",
          "name": "stdout",
          "text": [
            "137175451795984 137175451795984 137175451796048 137175451795728\n",
            "137175451795984\n",
            "137175451795984\n"
          ]
        }
      ]
    },
    {
      "cell_type": "markdown",
      "source": [
        "##Loop\n",
        "range(start, end, step) step預設1 設定-1為遞減的等差級數\n",
        "###for\n",
        "for var in iterable :\n",
        "* lsit = [運算式 for n in iterable] 透過此方式撰寫for建立list\n",
        "* lsit = [[a,b] for a in lista for b in listb] 多個for建立list\n",
        "* list = [運算式 for n in iterable if 條件] 有條件的for\n",
        "* for else:  配合if 和 break 當if都是False迴圈跳出前最後一次執行的內容\n",
        "\n",
        "### while\n",
        "while 條件:  Ctrl+C跳出無限迴圈\n",
        "* while var in iterable:  True就繼續\n",
        "* while iterable:  迭代物件空了才結束\n",
        "* while True: pass  建立無限迴圈 迴圈或函數未設計完成使用\n",
        "\n",
        "\n",
        "與迴圈配合\n",
        "* break 跳離迴圈\n",
        "* continue 不往下執行 接續下一次迭代\n",
        "* pass 什麼也不做 迴圈或函數未設計完成使用\n",
        "\n",
        "enumerate 物件\n",
        "* obj = enumerate(iterable,start=) start預設0 iterable可迭代之數值\n",
        "* 將index配對元素回傳\n",
        "* for a in enumerate(list): 回傳index與元素在內的tuple\n",
        "* for a, b in enumerate(list): 回傳index與元素\n",
        "\n",
        "二維list.sort(key=lambda x:x[n])  將二維陣列依照第n個元素做排序"
      ],
      "metadata": {
        "id": "OpYVYP2_3ajp"
      }
    },
    {
      "cell_type": "code",
      "source": [
        "number = eval(input(\"輸入數字\"))\n",
        "if number > 10 : number = 10\n",
        "sum = [a**2 for a in range(1, number+1)]\n",
        "print(sum)"
      ],
      "metadata": {
        "colab": {
          "base_uri": "https://localhost:8080/"
        },
        "id": "WPaWhoT-4FAK",
        "outputId": "28a4cc38-bc61-45be-e917-00414b933272"
      },
      "execution_count": null,
      "outputs": [
        {
          "output_type": "stream",
          "name": "stdout",
          "text": [
            "輸入數字10\n",
            "[1, 4, 9, 16, 25, 36, 49, 64, 81, 100]\n"
          ]
        }
      ]
    },
    {
      "cell_type": "code",
      "source": [
        "odd_list = [n for n in range(1,10) if n % 2 == 1]\n",
        "print(odd_list)"
      ],
      "metadata": {
        "id": "HOiRD8Da7z4F"
      },
      "execution_count": null,
      "outputs": []
    },
    {
      "cell_type": "code",
      "source": [
        "number = eval(input(\"輸入數字：\"))\n",
        "if number == 2 :\n",
        "  print(f'{number}是質數')\n",
        "else:\n",
        "  for i in range(2,number):\n",
        "    if number % i == 0 :\n",
        "      print(f\"{number}不是質數\")\n",
        "      break\n",
        "  else:\n",
        "    print(f\"{number}是質數\")\n"
      ],
      "metadata": {
        "id": "MUwXgwQE9Vtv"
      },
      "execution_count": null,
      "outputs": []
    },
    {
      "cell_type": "code",
      "source": [
        "drinks = [\"coffee\", \"tea\", \"wine\"]\n",
        "dr = list(enumerate(drinks))\n",
        "print(dr)\n",
        "for drink in enumerate(drinks):\n",
        "  print(drink)\n",
        "for a, b in enumerate(drinks):\n",
        "  print(a,b)"
      ],
      "metadata": {
        "id": "p0EnAqtz-SzX",
        "colab": {
          "base_uri": "https://localhost:8080/"
        },
        "outputId": "b41cb957-ca46-4932-d376-509394d14676"
      },
      "execution_count": null,
      "outputs": [
        {
          "output_type": "stream",
          "name": "stdout",
          "text": [
            "[(0, 'coffee'), (1, 'tea'), (2, 'wine')]\n",
            "(0, 'coffee')\n",
            "(1, 'tea')\n",
            "(2, 'wine')\n",
            "0 coffee\n",
            "1 tea\n",
            "2 wine\n"
          ]
        }
      ]
    },
    {
      "cell_type": "markdown",
      "source": [
        "#容器"
      ],
      "metadata": {
        "id": "swLQcDAXPpoC"
      }
    },
    {
      "cell_type": "markdown",
      "source": [
        "##List\n",
        "\n",
        "list[start:end:step] 切片\n",
        "* 包含start\n",
        "* 不包含end\n",
        "* step可以不顯示 默認1\n",
        "* [ :-n] 取得不含倒數n個\n",
        "* [-n: ] 取得倒數n個\n",
        "* [:] 全部\n",
        "\n",
        "list內的提取\n",
        "* list[n] 提取第n個 -n為倒數第n個(-1)倒數第一\n",
        "* max(list)\n",
        "* min(list)\n",
        "* sum(list)\n",
        "* len(list) 串列中有幾個元素\n",
        "\n",
        "* list可以相加 成一個list\n",
        "* list*n 重複n遍\n",
        "\n",
        "串列動作\n",
        "* del list[ ]  可使用切片刪除串列元素\n",
        "* del list  刪除串列\n",
        "* a, *b, c = 1, 2, 3, 4, 5  -> 1, [2, 3, 4], 5 多重指定為串列\n",
        "* list.append(\"\") 末端加入元素 若append(list) 會以list型態加入\n",
        "* list.extend(list2) list2以個別元素串接在list後面  \n",
        "* list.insert(i, 元素) 插入元素\n",
        "* list.pop(i) 刪除元素 默認最後一個\n",
        "* list.remove(元素)  刪除指定元素\n",
        "* list.reverse( ) 顛倒順序\n",
        "* list.sort( ) 由小排到大 sort(reverse=True)由大到小\n",
        "* sorted(list) list排序後回傳給另一個變數\n",
        "* lsit.index(元素) 搜尋list中指定元素的位址\n",
        "* list.count(元素) 計算指定元素在list中出現的次數 不存在回傳0\n",
        "\n",
        "\n",
        "二維陣列取值\n",
        "* list[a][b] 取出指定元素\n",
        "* list[a1:a2][b1:b2]切片\n",
        "\n",
        "\n",
        "list拷貝\n",
        "* list = ['a', 'b', 'c']\n",
        "* list2 = list  賦予 位址相同 兩者連動\n",
        "* list2 = list[:] 切片拷貝 位址不同 不互相影響 但子物件會連動 指向同一物件\n",
        "* list2 = list.copy( ) 淺拷貝 位址不同 不互相影響 但子物件會連動 指向同一物件\n",
        "* list2 = deepcopy(list) 深拷貝 完全不引響 但需import copy 模組"
      ],
      "metadata": {
        "id": "zbE9sKRUbwdH"
      }
    },
    {
      "cell_type": "markdown",
      "source": [
        "copy"
      ],
      "metadata": {
        "id": "CLIm3WRKew__"
      }
    },
    {
      "cell_type": "code",
      "source": [
        "import copy\n",
        "list1 = ['a', 'b', ['c', 'd']]\n",
        "list2 = list1[:]\n",
        "list3 = copy.deepcopy(list1)\n",
        "list1[2].append('e')\n",
        "print(list1,list2,list3)"
      ],
      "metadata": {
        "colab": {
          "base_uri": "https://localhost:8080/"
        },
        "id": "77OsTIOzd8WU",
        "outputId": "ba1bfb01-e894-4a59-918a-dc71a20b8ba2"
      },
      "execution_count": null,
      "outputs": [
        {
          "output_type": "stream",
          "name": "stdout",
          "text": [
            "['a', 'b', ['c', 'd', 'e']] ['a', 'b', ['c', 'd', 'e']] ['a', 'b', ['c', 'd']]\n"
          ]
        }
      ]
    },
    {
      "cell_type": "markdown",
      "source": [
        "##Tuple 元組\n",
        "tuple = (a,) 只有一個元素時最右邊必加, 以上可有可無\n",
        "* 元素可為int float string list等等\n",
        "* x = 5, 6 簡便建立元組方法\n",
        "* tuple[i] 與list相同讀取元素方法\n",
        "* tuple[1] = '元素' 修改元素 會報錯TypeError\n",
        "* tuple[:] 切片方式與list相同\n",
        "* len() 等函數與方法跟list相同\n",
        "* 改變tuple的函數與方法 不能使用 pop( ) append( )\n",
        "* enumerate 中index與元素的處存就是使用tuple 但資料型態是enumerate object 需轉成list或tuple\n",
        "\n",
        "\n",
        "generator\n",
        "* var = (運算 for n in range( ))\n",
        "* 元組生成式 類似於list\n",
        "* 但只能使用一次 第二次會得到空的\n",
        "\n",
        "特性\n",
        "* 資料安全保護\n",
        "* 執行速度快於list"
      ],
      "metadata": {
        "id": "j_lvS3pvCY5c"
      }
    },
    {
      "cell_type": "code",
      "source": [
        "# tuple generator\n",
        "var = (n for n in range(3))\n",
        "print(list(var))\n",
        "print(tuple(var))"
      ],
      "metadata": {
        "colab": {
          "base_uri": "https://localhost:8080/"
        },
        "id": "R9qMkpO8LCs6",
        "outputId": "d66485a0-7f83-4c5c-8aef-934b2c34f027"
      },
      "execution_count": null,
      "outputs": [
        {
          "output_type": "stream",
          "name": "stdout",
          "text": [
            "[0, 1, 2]\n",
            "()\n"
          ]
        }
      ]
    },
    {
      "cell_type": "markdown",
      "source": [
        "##zip\n",
        "var = zip(a, b) a跟b為兩個容器 可將兩個 iterable的object打包成對應元素的tuple\n",
        "* 需轉成list或tuple才可以列印出來 直接印出來會是object\n",
        "* 可以數量不對稱 僅打包到最小數量的object\n",
        "* unzip( ) -> a, b = zip(*variable) 解開成兩個tuple 但資料型態須為list或tuple\n",
        "---\n",
        "* a, b = (10, 20) 多重指定下元組解包\n",
        "* a, b, *c =1, 2, 3, 4, 5 將345打包成串列給c\n",
        "* [a, b, c] = (1, 2, 3) 等號兩邊都是容器 則是兩邊都解包 a b c 為 1 2 3\n",
        "* [ ,[ ]] = ( , ( )) 多維容器也是\n"
      ],
      "metadata": {
        "id": "W81LFpDpNDzm"
      }
    },
    {
      "cell_type": "code",
      "source": [
        "#zip\n",
        "fields = [\"name\", \"age\", \"born\"]\n",
        "info = [\"max\", \"20\", \"taipei\"]\n",
        "zipData = zip(fields, info)\n",
        "list1 = tuple(zipData)\n",
        "print(zipData)\n",
        "print(type(zipData))\n",
        "print(list1)\n",
        "\n",
        "f, i = zip(*list1)\n",
        "print(f\"{f}\\n{i}\")"
      ],
      "metadata": {
        "colab": {
          "base_uri": "https://localhost:8080/"
        },
        "id": "6B2e_IHbFieq",
        "outputId": "b1b7a91b-13c5-4cf3-f69a-57c961562ef9"
      },
      "execution_count": null,
      "outputs": [
        {
          "output_type": "stream",
          "name": "stdout",
          "text": [
            "<zip object at 0x7ed976703d00>\n",
            "<class 'zip'>\n",
            "(('name', 'max'), ('age', '20'), ('born', 'taipei'))\n",
            "('name', 'age', 'born')\n",
            "('max', '20', 'taipei')\n"
          ]
        }
      ]
    },
    {
      "cell_type": "markdown",
      "source": [
        "## dict\n",
        "\n",
        "dict = {key:value, key:value}\n",
        "* key 通常為 string 或 number 且不可以重複\n",
        "* value 任何object\n",
        "* 非序列結構 無法如list tuple 使用index提取元素\n",
        "* dict['key'] 取得value\n",
        "* dict[0] key為整數的時候可以這樣取value\n",
        "\n",
        "\n",
        "dict 刪除修改\n",
        "* dict[key] = value 新增元素/更改元素value\n",
        "* del dict[key] 刪除元素\n",
        "* del dict 刪除dict\n",
        "* dict.clear() 刪除所有dict元素 剩下空dict\n",
        "* ret_value = dict.pop(key,default) 刪除元素並回傳value 找不到回傳default內容 為設定則keyerror\n",
        "* ret_value_tuple = dict.popitem() 後進先出刪除字典的元素 回傳刪除的元組型態(key, value)\n",
        "\n",
        "其他\n",
        "* key in dict 透過key驗證元素是否存在\n",
        "* dict.copy() 淺拷貝到新的位址 與list tuple一樣 其中元素有object使用深拷貝\n",
        "* copy.deepcopy(dict) 深拷貝\n",
        "* len(dict) 取得元素數量\n",
        "* len(dict[key]) 可取得value為容器時內部有多少元素的數量\n",
        "* dict = {wd:lsit.count(wd) for wd in list} 透過list建立list的字元計算數量的dict\n",
        "* dict = dict.formkeys(iterable,value) 依照iterable的容器內容為key建立值為value的dict value默認為None\n",
        "* ret_value = dict.get(key,default) 透過key搜尋dict中是否存在 有則回傳value 否則回傳default 默認為None\n",
        "* ret_value = dict.setdefault(key,default) 與上面相同為搜尋 差別在於若dict中不存在 則將key:value加入dict default則為要輸入的value值 默認為None ret_value就為defualt的值\n",
        "\n",
        "\n",
        "合併\n",
        "* dict.update(dict1) 合併兩個dict 如果有相同的key後者會取代前者\n",
        "* new_dict = {** dict, ** dict1, ** dict2} 一樣是合併dict\n",
        "---\n",
        "*[['a','b'],['c','d'],['e','f']]\n",
        "*(('a','b'),('c','d'),('e','f'))\n",
        "*('ab', 'cd' ,'ef')\n",
        "*以上三種皆可透過dict()轉換成{('a':'b'),('c':'d'),('e':'d')}\n",
        "* dict = dict(zip('abcd',range(4)) 透過zip快速建立dict\n",
        "* dict = dict(zip(['a','b','c','d'],range(4))\n",
        "\n",
        "遍歷dict\n",
        "* for a, b in dict.item( ) 透過.item()取得配對的元素 注意：不一定會照順序\n",
        "* for a in dict.item( ) 會回傳tuple 上面只是分別回傳內容\n",
        "* for a in dict.keys( ) 只回傳key值 有沒有使用.key( )回傳內容相同\n",
        "* for a in sorted(dict.keys()) dict功能不會處理排序 需透過for來遍歷dict .keys()透過keys排序  .values()透過值排序\n",
        "* for a in dict.values( ) 回傳value值\n",
        "* newlsit = sorted(dict.items(), key = lambda item:item[1]) 將dict內容依照value值由小排序到大 回傳給list\n",
        "---\n",
        "* value為lsit 外層迴圈取得list 內層迴圈取得list中的元素\n",
        "* value為dict 一樣要使用dict.item( ) 讀取 在使用key取出value\n"
      ],
      "metadata": {
        "id": "i7CuxjyPP7va"
      }
    },
    {
      "cell_type": "code",
      "source": [
        "fruit = {'西瓜':23, '香蕉':20, '水蜜桃':25}\n",
        "key = input(\"輸入水果：\")\n",
        "value = input(\"輸入價錢：\")\n",
        "if value in fruit:\n",
        "  print(f\"{value}已在內\")\n"
      ],
      "metadata": {
        "colab": {
          "base_uri": "https://localhost:8080/"
        },
        "id": "8CPJynLTP65V",
        "outputId": "b0f84eba-2f71-4290-9dc2-fa487dcc1c20"
      },
      "execution_count": null,
      "outputs": [
        {
          "name": "stdout",
          "output_type": "stream",
          "text": [
            "輸入水果：香蕉\n",
            "輸入價錢：20\n"
          ]
        }
      ]
    },
    {
      "cell_type": "code",
      "source": [
        "fruit = {'西瓜':23, '香蕉':20, '水蜜桃':25}\n",
        "fruit1 = {'火龍果':30, '香蕉':16}\n",
        "fruit2 = {'葡萄':30, '櫻桃':50}\n",
        "#fruit.update(fruit1)\n",
        "new_fruit = {**fruit, **fruit1, **fruit2}\n",
        "print(new_fruit)"
      ],
      "metadata": {
        "colab": {
          "base_uri": "https://localhost:8080/"
        },
        "id": "J2oQrLUaDH9H",
        "outputId": "6de268f0-cd78-44ef-fa4e-868fdd9da18a"
      },
      "execution_count": null,
      "outputs": [
        {
          "output_type": "stream",
          "name": "stdout",
          "text": [
            "{'西瓜': 23, '香蕉': 16, '水蜜桃': 25, '火龍果': 30, '葡萄': 30, '櫻桃': 50}\n"
          ]
        }
      ]
    },
    {
      "cell_type": "code",
      "source": [
        "name = {'max':23, 'amy':32, 'bob':59, 'ella':40}\n",
        "for a in sorted(name.keys()):\n",
        "  print(a)\n",
        "for b in sorted(name.values()):\n",
        "  print(b)"
      ],
      "metadata": {
        "colab": {
          "base_uri": "https://localhost:8080/"
        },
        "id": "NUPKCfKfs_bm",
        "outputId": "82af243a-ae0f-4ccc-82b8-011459c5fe09"
      },
      "execution_count": null,
      "outputs": [
        {
          "output_type": "stream",
          "name": "stdout",
          "text": [
            "amy\n",
            "bob\n",
            "ella\n",
            "max\n",
            "23\n",
            "32\n",
            "40\n",
            "59\n"
          ]
        }
      ]
    },
    {
      "cell_type": "code",
      "source": [
        "#依照value排序全部\n",
        "noodles = {'牛肉麵':100, '肉絲麵':80, '陽春麵':60, '大滷麵':90, '麻醬麵':70}\n",
        "print(noodles)\n",
        "new_list = sorted(noodles.items(),key=lambda item:item[1])\n",
        "print(new_list)"
      ],
      "metadata": {
        "colab": {
          "base_uri": "https://localhost:8080/"
        },
        "id": "rtxCUdKb7Ojr",
        "outputId": "c85ffad0-d241-47f3-f3da-7fc30ea55210"
      },
      "execution_count": null,
      "outputs": [
        {
          "output_type": "stream",
          "name": "stdout",
          "text": [
            "{'牛肉麵': 100, '肉絲麵': 80, '陽春麵': 60, '大滷麵': 90, '麻醬麵': 70}\n",
            "[('陽春麵', 60), ('麻醬麵', 70), ('肉絲麵', 80), ('大滷麵', 90), ('牛肉麵', 100)]\n"
          ]
        }
      ]
    },
    {
      "cell_type": "code",
      "source": [
        "sport = {'curry':['籃球', '棒球'],\n",
        "         'Durant':['棒球'],\n",
        "         'James':['美式足球', '棒球', '籃球']}\n",
        "\n",
        "for a, b in sport.items():\n",
        "  print(a)\n",
        "  for c in b:\n",
        "    print(\" \",c)"
      ],
      "metadata": {
        "colab": {
          "base_uri": "https://localhost:8080/"
        },
        "id": "KpVr7SnR-PQj",
        "outputId": "f82e6810-ff50-4440-db03-430dc0d8d2c0"
      },
      "execution_count": null,
      "outputs": [
        {
          "output_type": "stream",
          "name": "stdout",
          "text": [
            "curry\n",
            "  籃球\n",
            "  棒球\n",
            "Durant\n",
            "  棒球\n",
            "James\n",
            "  美式足球\n",
            "  棒球\n",
            "  籃球\n"
          ]
        }
      ]
    },
    {
      "cell_type": "markdown",
      "source": [
        "## set\n",
        "\n",
        "set = {元素, 元素}\n",
        "* 無序 每個元素是唯一的 元素內容不可變 但set本身是可變的(可增/減元素)\n",
        "* int float sting tuple為常見元素\n",
        "* 不可為元素 list dict set\n",
        "* set( ) 建立set  使用string lsit tuple dict 空集合需使用此方式 否則為空dict\n",
        "* set = {n for n in range() if n % 11 == 0} 生成式\n",
        "* dict = {wd:word.count(wd) for wd in set(word)} 透過這種方式重複的字母就不用重複n次重複計算\n",
        "\n",
        "操作\n",
        "* &  交集 intersection( )\n",
        "* |  聯集 union( )\n",
        "* -  差集 difference( )\n",
        "* ^  對稱差集 symmetric_difference( )\n",
        "* ==, !=, in, not in\n",
        "---\n",
        "* setA.isdisjoint(setB) 兩個set沒有共同元素回傳 True\n",
        "* setA.issubset(setB) A為B的子集合 回傳True\n",
        "* setB.issuperset(setA) B為A的父集合 回傳True\n",
        "* setA.intersection_update(B,C) 回傳setA與括號內的set的交集值 set型態\n",
        "* setA.update(setB) 將setB的元素增加到setA中\n",
        "* setA.difference_update(setB) 將setA中與setB中重複的元素刪除 存在setA\n",
        "* setA.symmetric_difference_update(setB) 將setA與setB的差集 存在setA中\n",
        "\n",
        "方法\n",
        "* set.add(\" \") 增加一個元素\n",
        "* set.clear( ) 刪除所有set中的元素\n",
        "* set.copy( ) 淺拷貝\n",
        "* set.remove(\" \") 刪除指定元素 無此元素報錯\n",
        "* set.discard(\" \") 刪除指定的元素 無論結果如何皆回傳None\n",
        "* set.pop( ) 隨機刪除set中的元素 並回傳刪除的元素\n",
        "* set.clear( ) 刪除set中所有元素 回傳None\n",
        "\n",
        "操作\n",
        "enumaerate( ) len( ) max( ) min( ) sorted( ) sum( )\n",
        "\n",
        "凍結集合 frozenset\n",
        "* 不可變集合\n",
        "* 不能使用改變forzenset內容的函數\n"
      ],
      "metadata": {
        "id": "-bXQO61wt2MP"
      }
    },
    {
      "cell_type": "markdown",
      "source": [
        "#函數"
      ],
      "metadata": {
        "id": "LioCwukwaJMd"
      }
    },
    {
      "cell_type": "markdown",
      "source": [
        "##函數基本\n",
        "\n",
        "```\n",
        "def func(par1, par2):\n",
        "  程式碼\n",
        "  return [reruen1, return2]\n",
        "```\n",
        "* 參數值可有可無 回傳的中括號可有可無 第一個字母小寫\n",
        "* 參數的位子很重要\n",
        "* 參數若有預設值 **需在最右邊**\n",
        "* 函數沒有定義return 自動回傳處理成return None\n",
        "* return 多個值 以tuple型態回傳\n",
        "* 也可回傳 list tuple dict set\n",
        "\n",
        "```\n",
        "func(par2= , par1=) 若無照順序須以 參數名稱=值 方式傳送\n",
        "```\n",
        "* input時輸入有預設值的參數時可以直接Enter不輸入\n",
        "* par可為list\n",
        "\n",
        "函數傳遞 一般變數 與 list變數\n",
        "* 一般變數 在函數中重新宣告n位址會不一樣 回到主程式n不會影響原本傳入的變數\n",
        "* list變數 在函數中修改list其中一個變數 不會導致list位址不一樣 會影響原本傳入的list 若修改整個list就會和一般變數相同結果"
      ],
      "metadata": {
        "id": "inmKw3B9aQRN"
      }
    },
    {
      "cell_type": "code",
      "source": [
        "def build_vip(id, name, tel=''):\n",
        "  vip_dic = {'vip_id':id, 'name':name}\n",
        "  if tel :\n",
        "    vip_dic['tel'] = tel\n",
        "  return vip_dic\n",
        "\n",
        "member1 = build_vip('101', 'Nelson')\n",
        "member2 = build_vip('202', 'Max', '12335454564567')\n",
        "print(member1,member2,sep='\\n')"
      ],
      "metadata": {
        "colab": {
          "base_uri": "https://localhost:8080/"
        },
        "id": "eyIVxXhTcR7T",
        "outputId": "a029744e-be26-4ed4-d5ff-ee51161c1020"
      },
      "execution_count": 4,
      "outputs": [
        {
          "output_type": "stream",
          "name": "stdout",
          "text": [
            "{'vip_id': '101', 'name': 'Nelson'}\n",
            "{'vip_id': '202', 'name': 'Max', 'tel': '12335454564567'}\n"
          ]
        }
      ]
    },
    {
      "cell_type": "code",
      "source": [
        "def my_math(n):\n",
        "  print(\"副程式id(n):\",id(n),\"\\t\",n)\n",
        "  n = 5\n",
        "  print(\"副程式id(n):\",id(n),\"\\t\",n)\n",
        "\n",
        "x = 1\n",
        "print(\"主程式id(x):\",id(x),\"\\t\",x)\n",
        "my_math(x)\n",
        "print(\"主程式id(x):\",id(x),\"\\t\",x)"
      ],
      "metadata": {
        "colab": {
          "base_uri": "https://localhost:8080/"
        },
        "id": "_liJQocC6Qzk",
        "outputId": "40d28f23-f269-456b-a270-25f7c0da627e"
      },
      "execution_count": 5,
      "outputs": [
        {
          "output_type": "stream",
          "name": "stdout",
          "text": [
            "主程式id(x): 139276660703472 \t 1\n",
            "副程式id(n): 139276660703472 \t 1\n",
            "副程式id(n): 139276660703600 \t 5\n",
            "主程式id(x): 139276660703472 \t 1\n"
          ]
        }
      ]
    },
    {
      "cell_type": "code",
      "source": [
        "def my_math(n):\n",
        "  print(\"副程式id(n):\",id(n),\"\\t\",n)\n",
        "  n[0] = 5\n",
        "  print(\"副程式id(n):\",id(n),\"\\t\",n)\n",
        "\n",
        "x = [1, 2]\n",
        "print(\"主程式id(x):\",id(x),\"\\t\",x)\n",
        "my_math(x)\n",
        "print(\"主程式id(x):\",id(x),\"\\t\",x)"
      ],
      "metadata": {
        "colab": {
          "base_uri": "https://localhost:8080/"
        },
        "id": "XCqqt92DBsmY",
        "outputId": "36b40de8-0e29-4f51-d910-67b87930dc79"
      },
      "execution_count": 8,
      "outputs": [
        {
          "output_type": "stream",
          "name": "stdout",
          "text": [
            "主程式id(x): 139276518068224 \t [1, 2]\n",
            "副程式id(n): 139276518068224 \t [1, 2]\n",
            "副程式id(n): 139276518068224 \t [5, 2]\n",
            "主程式id(x): 139276518068224 \t [5, 2]\n"
          ]
        }
      ]
    }
  ]
}