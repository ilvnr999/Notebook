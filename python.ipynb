{
  "nbformat": 4,
  "nbformat_minor": 0,
  "metadata": {
    "colab": {
      "provenance": [],
      "collapsed_sections": [
        "tPKh2Rlc-pIc",
        "_YPQalrBwFId",
        "0VNJ405dprxu"
      ],
      "authorship_tag": "ABX9TyPJorY68xLQfJrdthveAVCL",
      "include_colab_link": true
    },
    "kernelspec": {
      "name": "python3",
      "display_name": "Python 3"
    },
    "language_info": {
      "name": "python"
    }
  },
  "cells": [
    {
      "cell_type": "markdown",
      "metadata": {
        "id": "view-in-github",
        "colab_type": "text"
      },
      "source": [
        "<a href=\"https://colab.research.google.com/github/ilvnr999/Pandas/blob/main/python.ipynb\" target=\"_parent\"><img src=\"https://colab.research.google.com/assets/colab-badge.svg\" alt=\"Open In Colab\"/></a>"
      ]
    },
    {
      "cell_type": "markdown",
      "source": [
        "#基礎"
      ],
      "metadata": {
        "id": "uWHwi_0lyuYl"
      }
    },
    {
      "cell_type": "markdown",
      "source": [
        "## 註解符號\n",
        "* ＃ 單行\n",
        "* ''' '''多行"
      ],
      "metadata": {
        "id": "fc3GpgMs90nM"
      }
    },
    {
      "cell_type": "markdown",
      "source": [
        "## 運算子\n",
        "* ,+ ,- ,*,/\n",
        "* % 餘數\n",
        "* // 求整數除法\n",
        "* a+=b -> a = a + b 特殊語法(所有運算子皆適用)\n",
        "\n",
        "\n",
        "* abs( ) 絕對值\n",
        "* pow(x, y) x的y次方\n",
        "* round(,小數後幾位) 四捨五入\n",
        "\n",
        "\n",
        "* \\ 敘述分為多行"
      ],
      "metadata": {
        "id": "tPKh2Rlc-pIc"
      }
    },
    {
      "cell_type": "code",
      "source": [
        "y = 1\\\n",
        "  +2\\\n",
        "  +3\n",
        "print(y)"
      ],
      "metadata": {
        "colab": {
          "base_uri": "https://localhost:8080/"
        },
        "id": "HCQdT5NBiZSF",
        "outputId": "d5686487-da36-4e3d-90a5-d7db42d5e499"
      },
      "execution_count": null,
      "outputs": [
        {
          "output_type": "stream",
          "name": "stdout",
          "text": [
            "6\n"
          ]
        }
      ]
    },
    {
      "cell_type": "markdown",
      "source": [
        "##資料型態\n",
        "* type( ) 檢視型態\n",
        "* int( )\n",
        "* float( )\n",
        "* str( )\n",
        "* bool( )\n",
        "* chr( ) ASCII或Unicode轉文字\n",
        "* ord( ) 輸出ASCII或Unicode\n",
        "* id( ) 檢視位址\n",
        "\n",
        "int\n",
        "* 0b, bin( ) 二進制\n",
        "* 0o, oct( ) 八進制\n",
        "* ox, hex( ) 十六進制\n",
        "* b' ', name.encode(''), name.decode(' ') byte資料\n",
        "\n",
        "bool (以下被視為False 其餘都為Ture)\n",
        "* int 0\n",
        "* float 0\n",
        "* ' '\n",
        "* [ ]\n",
        "* ( )\n",
        "* { }\n",
        "* set( )\n",
        "* None\n",
        "\n",
        "string\n",
        "* str資料型態的變數或字串可透過+並在一起\n",
        "* \\ 溢出字元 \\b \\n\n",
        "* r\" \" 溢出字元失效"
      ],
      "metadata": {
        "id": "_YPQalrBwFId"
      }
    },
    {
      "cell_type": "code",
      "source": [
        "print(ord(\"鄭\"))"
      ],
      "metadata": {
        "colab": {
          "base_uri": "https://localhost:8080/"
        },
        "id": "ZsCl-N_bKNMF",
        "outputId": "bbdddb6b-8707-453b-9cac-44f42c6942fd"
      },
      "execution_count": null,
      "outputs": [
        {
          "output_type": "stream",
          "name": "stdout",
          "text": [
            "37165\n"
          ]
        }
      ]
    },
    {
      "cell_type": "markdown",
      "source": [
        "## 輸入輸出\n",
        "###print(value, step, end, file, flush)\n",
        "\n",
        "print(資料, 分隔字元(空格), 結束後插入的字元(\\n), 輸出位置(sys.stdout螢幕), 清除緩衝區資料(False）)\n",
        "\n",
        "* \" \"+str() 皆是字串才可相加輸出\n",
        "* f\"{variable}\" f可以直接插入變數\n",
        "\n",
        "print(\"%d %s\" %(12, abc))\n",
        "* (%d 整數, %f 浮點數, %x 16進制, %X大寫16, %o 8進制, %s 字串 %e 科學記號, %E 大寫科學記號)\n",
        "* %nd n為幾位, %n.mf m為小數後幾位, %n.ms n顯示長度m字串長度, -靠左+靠右\n",
        "\n",
        "\n",
        "print(\"{}   {}\".format(variable1, variable2))\n",
        "* { }內加入數字或變數名稱設定format中的順序\n",
        "*  '>' 靠右對齊, '<' 靠左對齊, '^' 置中對齊\n",
        "* 此方式要調整出書格式時需要使用 {0:>2d}\n",
        "\n",
        "print(f\"{variable=:m.nf}\")\n",
        "\n",
        "###in = input(\"prompt\") 輸入 一律回傳str格式\n",
        "* eval(str) 回傳字串的公式運算結果\n",
        "* 因input回傳的事str格式，可配合eval直接轉回整數處理\n",
        "\n",
        "### file_object = open(file,mode)開啟檔案\n",
        "* r 讀取(預設)\n",
        "* w 寫入覆蓋\n",
        "* a 寫入附加在後面\n",
        "* x 開啟新的寫入 已存在報錯\n",
        "* b 開啟二進制檔案模式\n",
        "* t 開啟文字檔模式(預設)\n",
        "\n"
      ],
      "metadata": {
        "id": "4bTazhNOrlVh"
      }
    },
    {
      "cell_type": "markdown",
      "source": [
        "##math模組\n",
        "* math.pi\n",
        "* .e\n",
        "* .inf 極大值\n",
        "* .ceil(x) 大於x的最小整數\n",
        "* .floor(x) 小於x的最大整數\n",
        "* .trinc(x) 刪除小數位數\n",
        "* .pow(x,y) 計算x的y次方\n",
        "* .sqrt(x) 開根號\n",
        "* .radians( ) 角度轉弧度\n",
        "* .degrees( ) 弧度轉成角度\n",
        "* .sin( ) .cos( ) .tah( ) 參數為弧度\n",
        "* .log( ) log10( ) log2( ) 不同指數函數"
      ],
      "metadata": {
        "id": "8DLaX6JPPuvj"
      }
    },
    {
      "cell_type": "code",
      "source": [
        "name1 = 123\n",
        "name2 = \"apple\"\n",
        "print(\"{0:4d}是{1:8.5s}\".format(name1, name2))"
      ],
      "metadata": {
        "colab": {
          "base_uri": "https://localhost:8080/"
        },
        "id": "tapXhJXdmiLg",
        "outputId": "fbfdf9e8-c626-4211-c7f2-ebefa43ab4d1"
      },
      "execution_count": null,
      "outputs": [
        {
          "output_type": "stream",
          "name": "stdout",
          "text": [
            " 123是apple   \n"
          ]
        }
      ]
    },
    {
      "cell_type": "code",
      "source": [
        "english = eval(input(\"英文成績\"))\n",
        "math = eval(input(\"數學成績\"))\n",
        "toltal = english + math\n",
        "print(toltal)"
      ],
      "metadata": {
        "colab": {
          "base_uri": "https://localhost:8080/"
        },
        "id": "aWe0ctlHrqGF",
        "outputId": "bc95173d-46fc-4bd3-bc2a-96310684a244"
      },
      "execution_count": null,
      "outputs": [
        {
          "output_type": "stream",
          "name": "stdout",
          "text": [
            "英文成績10\n",
            "數學成績100\n",
            "110\n"
          ]
        }
      ]
    },
    {
      "cell_type": "markdown",
      "source": [
        "###練習\n"
      ],
      "metadata": {
        "id": "Y14YFX0QzUr3"
      }
    },
    {
      "cell_type": "code",
      "source": [
        "# 請輸入華氏溫度，輸出攝氏溫度\n",
        "f = eval(input(\"請輸入華氏溫度：\"))\n",
        "c = (f-32) * 5/9\n",
        "print(\"華氏溫度為:{}\".format(c))"
      ],
      "metadata": {
        "colab": {
          "base_uri": "https://localhost:8080/"
        },
        "id": "zivraIKmzafM",
        "outputId": "3a943ad4-abd2-4054-eb6e-6d730b16e275"
      },
      "execution_count": null,
      "outputs": [
        {
          "output_type": "stream",
          "name": "stdout",
          "text": [
            "請輸入華氏溫度：104\n",
            "華氏溫度為:40.0\n"
          ]
        }
      ]
    },
    {
      "cell_type": "code",
      "source": [
        "# 計算貸款問題\n",
        "loan = eval(input(\"貸款金額:\"))\n",
        "year = eval(input(\"貸款年限:\"))\n",
        "rate = eval(input(\"年利率:\"))\n",
        "\n",
        "monthrate = rate / (12 * 100)\n",
        "molecules = loan * monthrate\n",
        "denominator = 1 - (1 / (1 + monthrate) ** (year * 12))\n",
        "monthlypay = molecules / denominator\n",
        "total = monthlypay * year * 12\n",
        "print(\"每個月還款:%d \\n總共還款金額:%d\" %(monthlypay,total))"
      ],
      "metadata": {
        "colab": {
          "base_uri": "https://localhost:8080/"
        },
        "id": "K_Vs2pL40dfZ",
        "outputId": "e6bab193-3d57-4e9b-f439-9d23f89d0236"
      },
      "execution_count": null,
      "outputs": [
        {
          "output_type": "stream",
          "name": "stdout",
          "text": [
            "貸款金額:6000000\n",
            "貸款年限:20\n",
            "年利率:2.0\n",
            "每個月還款:30353 \n",
            "總共還款金額:7284720\n"
          ]
        }
      ]
    },
    {
      "cell_type": "code",
      "source": [
        "# 正五角形面積\n",
        "import math\n",
        "s = eval(input(\"請輸入邊長\"))\n",
        "area = 5 * (s ** 2) / (4 * math.tan( math.pi / 5))\n",
        "print(f\"{area = :6.2f}\")"
      ],
      "metadata": {
        "colab": {
          "base_uri": "https://localhost:8080/"
        },
        "id": "zBs1hCOB41aK",
        "outputId": "8fd0bed4-898d-4bf9-c88a-254c647ddb36"
      },
      "execution_count": null,
      "outputs": [
        {
          "output_type": "stream",
          "name": "stdout",
          "text": [
            "請輸入邊長5\n",
            "area =  43.01\n"
          ]
        }
      ]
    },
    {
      "cell_type": "code",
      "source": [
        "# 透過經緯度計算台北車站到紅磡車站的距離\n",
        "r = 6371\n",
        "x1, y1 = 22.2838, 114.1731\n",
        "x2, y2 = 25.0452, 121.5168\n",
        "\n",
        "d = 6371 * math.acos(math.sin(math.radians(x1)) * math.sin(math.radians(x2))\\\n",
        "                     + math.cos(math.radians(x1)) * math.cos(math.radians(x2))\\\n",
        "                     * math.cos(math.radians(y1 - y2)))\n",
        "print(f\"distance{d=:6.1f}\")"
      ],
      "metadata": {
        "colab": {
          "base_uri": "https://localhost:8080/"
        },
        "id": "4NKjCo4gPV59",
        "outputId": "1637f042-eb65-43a2-b2ac-5b5d961c657d"
      },
      "execution_count": null,
      "outputs": [
        {
          "output_type": "stream",
          "name": "stdout",
          "text": [
            "distanced= 808.3\n"
          ]
        }
      ]
    },
    {
      "cell_type": "code",
      "source": [
        "# 雞兔同龍問題\n",
        "h = int(input(\"輸入頭的數量：\"))\n",
        "f = int (input(\"輸入腳的數量：\"))\n",
        "x = f / 2 - h\n",
        "y = 2 * h - f / 2\n",
        "print(\"總共有{}隻兔子\\n{}隻雞\".format(y, x))"
      ],
      "metadata": {
        "colab": {
          "base_uri": "https://localhost:8080/"
        },
        "id": "1-r5o3_KjkQ4",
        "outputId": "adbb3786-081f-4b6f-a1bc-a6c869f48380"
      },
      "execution_count": null,
      "outputs": [
        {
          "output_type": "stream",
          "name": "stdout",
          "text": [
            "輸入頭的數量：35\n",
            "輸入腳的數量：100\n",
            "總共有20.0隻兔子\n",
            "15.0隻雞\n"
          ]
        }
      ]
    },
    {
      "cell_type": "code",
      "source": [
        "# 等差級數總和\n",
        "start = 1\n",
        "end = 100\n",
        "d = 1\n",
        "sum = (1 + 100) * ((end - start + 1) / 2)\n",
        "print(\"1~100的等差級數和%d\" %sum)"
      ],
      "metadata": {
        "colab": {
          "base_uri": "https://localhost:8080/"
        },
        "id": "qASiDAWjlJil",
        "outputId": "605642ad-a8c8-4239-aa73-4a3f1999af72"
      },
      "execution_count": null,
      "outputs": [
        {
          "output_type": "stream",
          "name": "stdout",
          "text": [
            "1~100的等差級數和5050\n"
          ]
        }
      ]
    },
    {
      "cell_type": "markdown",
      "source": [
        "#判斷式"
      ],
      "metadata": {
        "id": "GnuzEyyxy-q-"
      }
    },
    {
      "cell_type": "markdown",
      "source": [
        "## if else\n",
        "* if:\n",
        "* elif:\n",
        "* else:\n",
        "\n",
        "使用技巧\n",
        "* if x == True: 可改用 if x:\n",
        "* x if 判斷 else y 符合判斷則為x其他則為y\n",
        "* if bmi := bmi的計算 > 28:  替代兩行(bmi輸出改為布林值)\n",
        "\n",
        "None\n",
        "* 數值設定為None 則type( )會顯示為Nonetype 可用來作為布林值判斷顯示為False"
      ],
      "metadata": {
        "id": "c_UeY2tVu-b-"
      }
    },
    {
      "cell_type": "markdown",
      "source": [
        "使用技巧"
      ],
      "metadata": {
        "id": "K8b-nCqgsfHt"
      }
    },
    {
      "cell_type": "code",
      "source": [
        "x, y = eval(input(\"輸入兩個數字:\"))\n",
        "max_ = x if x > y else y    #使用＿避開保留字\n",
        "print(\"最大值{}\".format(max_))"
      ],
      "metadata": {
        "colab": {
          "base_uri": "https://localhost:8080/"
        },
        "id": "BmNzzCWAshml",
        "outputId": "e070248d-b700-498f-a5b5-519bb4e29b04"
      },
      "execution_count": null,
      "outputs": [
        {
          "output_type": "stream",
          "name": "stdout",
          "text": [
            "輸入兩個數字:1, 4\n",
            "最大值4\n"
          ]
        }
      ]
    },
    {
      "cell_type": "markdown",
      "source": [
        "None"
      ],
      "metadata": {
        "id": "9Z5RjmW1uONL"
      }
    },
    {
      "cell_type": "code",
      "source": [
        "flag = None\n",
        "if not flag:\n",
        "  print(type(flag))\n",
        "flag = 1\n",
        "if flag:\n",
        "  print(type(flag))"
      ],
      "metadata": {
        "colab": {
          "base_uri": "https://localhost:8080/"
        },
        "id": "Lz4cY846uQJt",
        "outputId": "b8956445-19e1-48c4-818e-7af1636eeaca"
      },
      "execution_count": null,
      "outputs": [
        {
          "output_type": "stream",
          "name": "stdout",
          "text": [
            "<class 'NoneType'>\n",
            "<class 'int'>\n"
          ]
        }
      ]
    },
    {
      "cell_type": "markdown",
      "source": [
        "if bmi := bmi的計算 > 28: 替代兩行"
      ],
      "metadata": {
        "id": "et9n9EBZvexa"
      }
    },
    {
      "cell_type": "code",
      "source": [
        "h = eval(input(\"身高:\"))\n",
        "w = eval(input(\"體重:\"))\n",
        "bmi = w / (h / 100) ** 2\n",
        "if bmi >= 28:\n",
        "  print(\"肥胖\")\n",
        "else :\n",
        "  print(\"不肥胖\")\n",
        "\n",
        "print(\"縮減後的結果\")\n",
        "if bmi := w / (h / 100) ** 2 >= 28:\n",
        "  print(\"肥胖\")\n",
        "else :\n",
        "  print(\"不肥胖\")"
      ],
      "metadata": {
        "colab": {
          "base_uri": "https://localhost:8080/"
        },
        "id": "JcsP_lGuvhJ-",
        "outputId": "3f233cd9-dfac-484a-f10f-f94d7b121e93"
      },
      "execution_count": null,
      "outputs": [
        {
          "output_type": "stream",
          "name": "stdout",
          "text": [
            "身高:178\n",
            "體重:74\n",
            "不肥胖\n",
            "縮減後的結果\n",
            "不肥胖\n"
          ]
        }
      ]
    },
    {
      "cell_type": "markdown",
      "source": [
        "# string字串方法\n",
        "str = \" \"\n",
        "* len(str) 獲得幾個字元\n",
        "* str.find(\" \") 尋找字串中第一個要尋找的字元 若有輸出位址 若沒有則回傳-1\n",
        "* str.rfind(\" \") 從尾端尋找\n",
        "* str.index(\" \") 從頭尋找字元 回傳第一次出現的index 若沒有則 產生例外錯誤\n",
        "* str.rindex(\" \") 從尾端尋找\n",
        "* str.count(\" \") 回傳字串出現次數\n",
        "\n",
        "\n",
        "* str.capitalize( ) 第一個字大寫\n",
        "* str.upper( ) 全部大寫\n",
        "* str.lower( ) 全部小寫\n",
        "* str.swapcase( ) 大小寫互換\n",
        "* str.replace(要取代的,取代成) 取代字元\n",
        "* str.rstip( ) 刪除字尾多餘空白\n",
        "* str.lstrip( ) 刪除開端空白\n",
        "* str.strip( ) 刪除兩端空白\n",
        "* str.center( ) 置中對齊\n",
        "* str.rjust( ) 靠右對齊\n",
        "* str.ljust( ) 靠左對齊\n",
        "* str.zfill( ) 設定長度靠右對齊其餘捕0\n",
        "\n",
        "回傳bool\n",
        "* str.islower( ) 判斷全部小寫\n",
        "* str.isupper( ) 判斷全部大寫\n",
        "* str.isdigit( ) 判斷全部數字\n",
        "* str.isalpha( ) 判斷全部英文字\n",
        "* str.isalnum( ) 判斷字母或數字\n",
        "* str.startwith(\" \") 判斷特定字串開始\n",
        "* str.endswith(\" \") 判斷特定字串結尾\n",
        "\n",
        "字串可當作 字元序列 （字串與串列不同之處：字串單一元素不能更改）\n",
        "* str[i] 與list相同方法透過索引取得字元\n",
        "* str[a:b] 也可透過切片取得string 也可以不使用變數\"deep learning\"[a:b]\n",
        "* 也可使用list的所有函數與方法 **除了會更改string的除外**\n",
        "* str.split( ) 將string括號中的符號或字元拆分後儲存成list\n",
        "* 用來串接的string.join(list) 串接的string須先宣告\n",
        "\n"
      ],
      "metadata": {
        "id": "0VNJ405dprxu"
      }
    },
    {
      "cell_type": "code",
      "source": [
        "name = \"asdfadf\"\n",
        "print(name.find(\"z\"))"
      ],
      "metadata": {
        "colab": {
          "base_uri": "https://localhost:8080/"
        },
        "id": "tOSyD-bHtKaF",
        "outputId": "e650c054-0afc-4008-b72a-bf3cbd4045cc"
      },
      "execution_count": null,
      "outputs": [
        {
          "output_type": "stream",
          "name": "stdout",
          "text": [
            "-1\n"
          ]
        }
      ]
    },
    {
      "cell_type": "code",
      "source": [
        "phone_number = input(\"請輸入電話號碼\")\n",
        "phone_number = phone_number.replace(\"-\",\" \")\n",
        "print(phone_number)\n"
      ],
      "metadata": {
        "colab": {
          "base_uri": "https://localhost:8080/"
        },
        "id": "GK7bw7l5rZv4",
        "outputId": "2c8fe1c6-2668-42e8-f67d-bb5e2516d664"
      },
      "execution_count": 1,
      "outputs": [
        {
          "output_type": "stream",
          "name": "stdout",
          "text": [
            "請輸入電話號碼123-456-789\n",
            "123 456 789\n"
          ]
        }
      ]
    },
    {
      "cell_type": "markdown",
      "source": [
        "程式練習-使用者名稱合法性"
      ],
      "metadata": {
        "id": "7X-9RyjDsj2j"
      }
    },
    {
      "cell_type": "code",
      "source": [
        "username = input(\"輸入使用者名稱\")\n",
        "if len(username) > 12:\n",
        "  print(\"超過12\")\n",
        "elif \" \" in username:\n",
        "  print(\"有空格\")\n",
        "elif not username.isalpha():\n",
        "  print(\"有數字\")\n",
        "else:\n",
        "  print(\"歡迎\"+username)"
      ],
      "metadata": {
        "colab": {
          "base_uri": "https://localhost:8080/"
        },
        "id": "696X2KX8srMj",
        "outputId": "fd5a31bc-9d6b-437d-d09f-a4f8c71f14f7"
      },
      "execution_count": null,
      "outputs": [
        {
          "output_type": "stream",
          "name": "stdout",
          "text": [
            "輸入使用者名稱sdfadfsdfasdf\n",
            "超過12\n"
          ]
        }
      ]
    },
    {
      "cell_type": "markdown",
      "source": [
        "#List\n",
        "\n",
        "##list[start:end:step] 切片\n",
        "* 包含start\n",
        "* 不包含end\n",
        "* step可以不顯示 默認1\n",
        "* [ :-n] 取得不含倒數n個\n",
        "* [-n: ] 取得倒數n個\n",
        "* [:] 全部\n",
        "\n",
        "list內的提取\n",
        "* list[n] 提取第n個 -n為倒數第n個(-1)倒數第一\n",
        "* max(sum)\n",
        "* min(sum)\n",
        "* sum(sum)\n",
        "* len(sum) 串列中有幾個元素\n",
        "\n",
        "* lsit可以相加 成一個list\n",
        "* lsit*n 重複n遍\n",
        "\n",
        "串列動作\n",
        "* del list[ ]  可使用切片刪除串列元素\n",
        "* del list  刪除串列\n",
        "* a, *b, c = 1, 2, 3, 4, 5  -> 1, [2, 3, 4], 5 多重指定為串列\n",
        "* list.append(\"\") 末端加入元素 若append(list) 會以list型態加入\n",
        "* list.extend(list2) list2以個別元素串接在list後面  \n",
        "* list.insert(i, 元素) 插入元素\n",
        "* list.pop(i) 刪除元素 默認最後一個\n",
        "* list.remove(元素)  刪除指定元素\n",
        "* list.reverse( ) 顛倒順序\n",
        "* list.sort( ) 由小排到大 sort(reverse=True)由大到小\n",
        "* sorted(list) list排序後回傳給另一個變數\n",
        "* lsit.index(元素) 搜尋list中指定元素的位址\n",
        "* list.count(元素) 計算指定元素在list中出現的次數 不存在回傳0\n",
        "\n",
        "\n",
        "二維陣列取值\n",
        "* list[a][b] 取出指定元素\n",
        "* list[a1:a2][b1:b2]切片\n",
        "\n",
        "\n",
        "list拷貝\n",
        "* list = ['a', 'b', 'c']\n",
        "* list2 = list  賦予 位址相同 兩者連動\n",
        "* list2 = list[:] 切片拷貝 位址不同 不互相影響 但子物件會連動 指向同一物件\n",
        "* list2 = list.copy( ) 淺拷貝 位址不同 不互相影響 但子物件會連動 指向同一物件\n",
        "* list2 = deepcopy(list) 深拷貝 完全不引響 但需import copy 模組"
      ],
      "metadata": {
        "id": "zbE9sKRUbwdH"
      }
    },
    {
      "cell_type": "markdown",
      "source": [
        "copy"
      ],
      "metadata": {
        "id": "CLIm3WRKew__"
      }
    },
    {
      "cell_type": "code",
      "source": [
        "import copy\n",
        "list1 = ['a', 'b', ['c', 'd']]\n",
        "list2 = list1[:]\n",
        "list3 = copy.deepcopy(list1)\n",
        "list1[2].append('e')\n",
        "print(list1,list2,list3)"
      ],
      "metadata": {
        "colab": {
          "base_uri": "https://localhost:8080/"
        },
        "id": "77OsTIOzd8WU",
        "outputId": "ba1bfb01-e894-4a59-918a-dc71a20b8ba2"
      },
      "execution_count": 3,
      "outputs": [
        {
          "output_type": "stream",
          "name": "stdout",
          "text": [
            "['a', 'b', ['c', 'd', 'e']] ['a', 'b', ['c', 'd', 'e']] ['a', 'b', ['c', 'd']]\n"
          ]
        }
      ]
    },
    {
      "cell_type": "markdown",
      "source": [
        "##in 和 not in, is 和 not is\n",
        "用於判斷一物件是否屬於另一物件 適用於：\n",
        "* string, list, tuple, dict\n",
        "* obj1 in obj2 1在2內 回傳bool\n",
        "* obj1 not in obj2\n",
        "* obj1 is obj2 1等於2  回傳bool\n",
        "* obj1 is not obj2\n",
        "\n",
        "\n",
        "透過is和is not 可以觀察int, float, list的記憶體位址\n",
        "* 變數經過運算後 數字相同者指向同一位址\n",
        "* list 拷貝後位址相同者會輸出True\n",
        "* list tuple dic set若為空的 可透過 is None判斷 皆為False\n",
        "\n",
        "enumerate 物件\n",
        "* obj = enumerate(iterable,start=) start預設0 iterable可迭代之數值\n",
        "* 將index配對元素回傳"
      ],
      "metadata": {
        "id": "RQ6SZuplmTeF"
      }
    },
    {
      "cell_type": "code",
      "source": [
        "x = 10\n",
        "y = 10\n",
        "z = 12\n",
        "r = 2\n",
        "print(id(x), id(y), id(z), id(r))\n",
        "z -=r\n",
        "print(id(z))\n",
        "z = x\n",
        "print(id(z))"
      ],
      "metadata": {
        "colab": {
          "base_uri": "https://localhost:8080/"
        },
        "id": "vl5kZuPLpCbZ",
        "outputId": "cfc6dd3b-9e3e-43ec-ac37-315ed27d1b01"
      },
      "execution_count": 7,
      "outputs": [
        {
          "output_type": "stream",
          "name": "stdout",
          "text": [
            "137175451795984 137175451795984 137175451796048 137175451795728\n",
            "137175451795984\n",
            "137175451795984\n"
          ]
        }
      ]
    }
  ]
}