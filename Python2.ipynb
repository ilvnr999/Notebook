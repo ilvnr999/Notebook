{
  "nbformat": 4,
  "nbformat_minor": 0,
  "metadata": {
    "colab": {
      "provenance": [],
      "mount_file_id": "1hVcEZhh2TTwvPLBnd0MZMueC0UKM4-Gb",
      "authorship_tag": "ABX9TyNC+TohoDSsRqY5K3aSdkEX",
      "include_colab_link": true
    },
    "kernelspec": {
      "name": "python3",
      "display_name": "Python 3"
    },
    "language_info": {
      "name": "python"
    }
  },
  "cells": [
    {
      "cell_type": "markdown",
      "metadata": {
        "id": "view-in-github",
        "colab_type": "text"
      },
      "source": [
        "<a href=\"https://colab.research.google.com/github/ilvnr999/Pandas/blob/main/Python2.ipynb\" target=\"_parent\"><img src=\"https://colab.research.google.com/assets/colab-badge.svg\" alt=\"Open In Colab\"/></a>"
      ]
    },
    {
      "cell_type": "markdown",
      "source": [
        "#檔案讀取與寫入"
      ],
      "metadata": {
        "id": "8ab2IWe0dzFu"
      }
    },
    {
      "cell_type": "markdown",
      "source": [
        "##資料夾\n",
        "* .目前資料夾 ..上一層資料夾\n",
        "import os\n",
        "* os.getcwd( ) 取得目前工作目錄\n",
        "* os.path.abspath(path) 列出path的絕對路徑\n",
        "* os.path.relpath(path,start) 回傳start到path的相對路徑 沒設定start則為目前目錄\n",
        "* os.path.exists(path) path存在回傳True\n",
        "* os.path.isabs(path) path是絕對路徑回傳True\n",
        "* os.path.isdir(path) path是資料夾回傳True\n",
        "* os.path.isfile(path) path是檔案回傳path\n",
        "\n",
        "操作\n",
        "* os.mkdir(path) 建立path目錄\n",
        "* os.rmdir(path) 刪除path目錄 但必須為空的目錄\n",
        "* os.remove(path) 刪除path \"檔案\"\n",
        "* os.chdir(path) 將目前工作資料夾改為path\n",
        "* os.rename(old_name,new_name) 將檔案改為new_name\n",
        "* os.path.join(' ',' ') 將括號內的string合併為一個路徑\n",
        "* os.path.getsize(path) 獲得檔案的大小\n",
        "* os.listdir(path) 獲得path工作目錄的內容\n",
        "* os.path.splitext(path) 從副檔名拆開儲存成tuple\n",
        "* os.path.basename(path) 讀取最後一層的檔案名稱刪除其他路徑\n",
        "\n",
        "os.walk( ) 遍歷目錄樹\n",
        "for dirName, sub_dirNames, fileNames in os.walk(path)\n",
        "* 路徑可以相對位址也可絕對位址 也可使用'.'代表當前位址\n",
        "* dirName 目前工作目錄名稱\n",
        "* sub_dirNames 底下的子目錄串列\n",
        "* fileNames 底下的檔案串列\n",
        "\n",
        "glob.glob\n",
        "```\n",
        "for file in glob.glob('D:\\\\Python\\\\ch14\\*.*')  列出所有在ch14下的所有檔案\n",
        "for file in glob.glob('ch14_1*.py')   列出ch14_1開頭的所有.py檔案\n",
        "for file in glob.glob(ch14_2*.*')   列出所有ch14_2開頭的所有檔案\n",
        "\n",
        "```\n",
        "\n",
        "Unix Linux Mac 變更檔案使用權\n",
        "未讀...\n",
        "\n"
      ],
      "metadata": {
        "id": "dHmUfDYyd3cX"
      }
    },
    {
      "cell_type": "code",
      "source": [
        "import os, glob\n",
        "#print(os.getcwd())\n",
        "#os.mkdir(\"ch1\")\n",
        "\n",
        "os.chdir(\"/content\")\n",
        "print(os.getcwd())\n",
        "os.listdir(\"/content\")"
      ],
      "metadata": {
        "colab": {
          "base_uri": "https://localhost:8080/"
        },
        "id": "TEFcCHVuepQV",
        "outputId": "350e80f4-0f82-470a-87aa-eaf4068610db"
      },
      "execution_count": 4,
      "outputs": [
        {
          "output_type": "stream",
          "name": "stdout",
          "text": [
            "/content\n"
          ]
        },
        {
          "output_type": "execute_result",
          "data": {
            "text/plain": [
              "['.config', 'drive', 'sample_data']"
            ]
          },
          "metadata": {},
          "execution_count": 4
        }
      ]
    },
    {
      "cell_type": "code",
      "source": [
        "for a, b, c in os.walk('/content'):\n",
        "  print('目前:',a)\n",
        "  print('資料夾：',b)\n",
        "  print('檔案：',c)"
      ],
      "metadata": {
        "id": "fC4nxZ67kfDR"
      },
      "execution_count": null,
      "outputs": []
    },
    {
      "cell_type": "code",
      "source": [
        "for i in range(2,10):\n",
        "  os.rmdir(str(i))"
      ],
      "metadata": {
        "id": "imHFDjrUXOny"
      },
      "execution_count": 32,
      "outputs": []
    },
    {
      "cell_type": "markdown",
      "source": [
        "## 檔案\n",
        "###讀取\n",
        "一般用法\n",
        "```\n",
        "file_obj = open(path) 回傳檔案物件\n",
        "data = file_obj.read( ) 回傳物件內容\n",
        "file_obj.close( ) 關閉檔案物件\n",
        "```\n",
        "常用用法\n",
        "```\n",
        "with open(path) as file_obj: 此方式with迴圈結束自斷關閉檔案物件\n",
        "    data = file_obj.read( ) 括號中可以輸入數字 一次讀取多少的量\n",
        "```\n",
        "\n",
        "\n",
        "\n",
        "* for line in file_obj: 逐行讀取檔案物件中的內容 因文字檔中每行都有換行符號 print也有因此換兩行\n",
        "* 可使用line.rstrip() 的字串方法刪除末端多餘空白\n",
        "* file_obj.readlines( ) 回傳每行為字串 with結束後仍可讀取\n",
        "\n",
        "### 寫入檔案\n",
        "open(path,mode) w為寫入 預設r讀取可不寫 r+可讀取可寫入\n",
        "* with open(path,'w') as file_obj:\n",
        "* file_obj.write(string)  將string寫入檔案物件 會回傳string長度\n",
        "* 若要換行 需輸入\\n等符號\n",
        "* mode='a' append縮寫  檔案已存在則附加在原檔案末端 若無檔案開啟並寫入\n",
        "* 字串很大時可以用分批寫入方式處理"
      ],
      "metadata": {
        "id": "dnbal4mzaO-J"
      }
    },
    {
      "cell_type": "code",
      "source": [
        "a= open('/content/ch1/0/untitled.txt')\n",
        "data = a.read()\n",
        "print(data)\n",
        "a.close()"
      ],
      "metadata": {
        "colab": {
          "base_uri": "https://localhost:8080/"
        },
        "id": "1IdxNujLYGe8",
        "outputId": "62571637-1640-40c1-c9d0-5aae5ebcea37"
      },
      "execution_count": 37,
      "outputs": [
        {
          "output_type": "stream",
          "name": "stdout",
          "text": [
            "第一行\n",
            "第二行\n",
            "開啟檔案\n"
          ]
        }
      ]
    },
    {
      "cell_type": "code",
      "source": [
        "fn = '/content/ch1/0/untitled.txt'\n",
        "with open(fn) as file_obj :\n",
        "  #data = file_obj.read( )\n",
        "  #print(data)\n",
        "  for line in file_obj:\n",
        "    print(line.rstrip())\n",
        "    print(line.rstrip())\n"
      ],
      "metadata": {
        "colab": {
          "base_uri": "https://localhost:8080/"
        },
        "id": "anwyHTeacS6q",
        "outputId": "4bcbd294-de01-4a72-e04c-47e9f0881e9b"
      },
      "execution_count": 45,
      "outputs": [
        {
          "output_type": "stream",
          "name": "stdout",
          "text": [
            "第一行\n",
            "第一行\n",
            "第二行\n",
            "第二行\n",
            "開啟檔案\n",
            "開啟檔案\n"
          ]
        }
      ]
    },
    {
      "cell_type": "code",
      "source": [
        "with open(fn) as file_obj:\n",
        "  obj_list = file_obj.readlines()\n",
        "print(obj_list)"
      ],
      "metadata": {
        "colab": {
          "base_uri": "https://localhost:8080/"
        },
        "id": "52Kspy6hhJ71",
        "outputId": "68575437-54e5-4983-e406-cb26bef4e18c"
      },
      "execution_count": 46,
      "outputs": [
        {
          "output_type": "stream",
          "name": "stdout",
          "text": [
            "['第一行\\n', '第二行\\n', '開啟檔案']\n"
          ]
        }
      ]
    },
    {
      "cell_type": "code",
      "source": [
        "s = \"I love Python.\"\n",
        "s2 = \"I learn Python from the best book.\"\n",
        "with open(fn,'w') as file_obj:\n",
        "  file_obj.write(s+'\\n')\n",
        "  file_obj.write(s2+'\\n')"
      ],
      "metadata": {
        "id": "RdePeTdImCgo"
      },
      "execution_count": 50,
      "outputs": []
    },
    {
      "cell_type": "code",
      "source": [
        "zenofpython = '''The Zen of Python, by Tim Peters\n",
        "Beautiful is better than ugly.\n",
        "Explicit is better than implicit.\n",
        "Simple is better than complex.\n",
        "Complex is better than complicated.\n",
        "Flat is better than nested.\n",
        "Sparse is better than dense.\n",
        "Readability counts.\n",
        "Special cases aren't special enough to break the rules.'''\n",
        "fn1 = '/content/ch1'\n",
        "if not os.path.exists(fn1):\n",
        "  os.mkdir(fn1)\n",
        "fn = '/content/ch1/zen.txt'\n",
        "size = len(zenofpython)\n",
        "offset = 0\n",
        "chunk  = 100\n",
        "with open(fn,'a') as file_obj :\n",
        "  while True:\n",
        "    if offset > size:\n",
        "      break\n",
        "    print(file_obj.write(zenofpython[offset:offset+chunk]))\n",
        "    offset += chunk"
      ],
      "metadata": {
        "colab": {
          "base_uri": "https://localhost:8080/"
        },
        "id": "p6aTNNkEwJ_-",
        "outputId": "5384b9aa-0c15-4985-e0e7-81aa01c10704"
      },
      "execution_count": 10,
      "outputs": [
        {
          "output_type": "stream",
          "name": "stdout",
          "text": [
            "100\n",
            "100\n",
            "97\n"
          ]
        }
      ]
    },
    {
      "cell_type": "markdown",
      "source": [
        "### 二進制檔案\n",
        "\n",
        "with open(path,mode) as file_obj:  mode為rd為讀取二進制檔案wd為寫入二進制檔案\n",
        "* file_obj.tell( ) 回傳檔案從頭算起 目前讀取指針的位址\n",
        "* ret_value = file_obj.seek(offset,origin) 位移讀取指針到offset的位子 origin 1頭開始計算 2當前開始計算 3相對結尾開始計算\n",
        "\n",
        "shutil 模組\n",
        "* shutil.copy(source,destination) 將source檔案複製到destination\n",
        "* shutil.copytree(source, destination) 將source的整個目錄與底下的目錄檔案都複製到destination\n",
        "* shutil.move(source, destination) 移動檔案或目錄\n",
        "* shutil.rmtree(path) 刪除有資料在內的目錄  os.rmdir( ) 只能刪除底下是空的目錄\n",
        "* import send2trash   shutil刪除無法復原\n",
        "* send2trash.send2trash(path) 可將資料或目錄刪除至資源回收桶  \n",
        "\n",
        "import zipfile(簡介)\n",
        "* filezip = zipfile.ZipFile('out.zip','w') 將filezip物件的東西壓縮後儲存為out.zip(下面有範例)\n",
        "* listzipinfo = zipfile.ZipFile(out.zip,'r') 讀取壓縮檔\n",
        "* listzipinfo.namelist( ) 以列表列出所有壓縮檔案\n",
        "* for info in listzipinfo.infolist( ) 壓縮列表\n",
        "* info.filename( ) 檔案名稱\n",
        "* info.file_size( ) 檔案大小\n",
        "* info.compress_size 壓縮大小結果\n",
        "\n",
        "解壓縮\n",
        "* fileunzip = zipfile.ZipFile('out.zip')\n",
        "* fileunzip.extractall(filename) 解壓縮為filename目錄\n",
        "* fileunzip.close( )\n",
        "\n",
        "unicode跳過"
      ],
      "metadata": {
        "id": "_RzPznmMd3J1"
      }
    },
    {
      "cell_type": "code",
      "source": [
        "p1 = '/content/drive/MyDrive/商標/IMG_6450.JPG'\n",
        "p2 = '/content/ch1/copy.JPG'\n",
        "\n",
        "with open(p1,'rb') as file_rd:\n",
        "  tmp = file_rd.read( )\n",
        "  with open(p2,'wb') as file_wd:\n",
        "    file_wd.write(tmp)"
      ],
      "metadata": {
        "id": "wNMLaajSepf2"
      },
      "execution_count": 12,
      "outputs": []
    },
    {
      "cell_type": "code",
      "source": [
        "# 將資料夾內的東西zip\n",
        "import zipfile\n",
        "import os, glob\n",
        "\n",
        "filezip = zipfile.ZipFile('out.zip','w')\n",
        "for name in glob.glob('/content/drive/MyDrive/商標/*'):\n",
        "  filezip.write(name, os.path.basename(name), zipfile.ZIP_DEFLATED) # (檔案,檔名,壓縮方式)\n",
        "\n",
        "filezip.close()"
      ],
      "metadata": {
        "id": "s8739cBMocvj"
      },
      "execution_count": 13,
      "outputs": []
    },
    {
      "cell_type": "code",
      "source": [
        "fn = '/content/drive/MyDrive/商標.txt'\n",
        "print(os.path.splitext(fn))\n",
        "\n",
        "print(os.path.basename(fn))"
      ],
      "metadata": {
        "colab": {
          "base_uri": "https://localhost:8080/"
        },
        "id": "WyaqBdiKq08k",
        "outputId": "a7a317f6-8ccd-4d27-fcab-c9681d40c76c"
      },
      "execution_count": 19,
      "outputs": [
        {
          "output_type": "stream",
          "name": "stdout",
          "text": [
            "('/content/drive/MyDrive/商標', '.txt')\n",
            "商標.txt\n"
          ]
        }
      ]
    },
    {
      "cell_type": "code",
      "source": [
        "ch = '/content/out.zip'\n",
        "fileunzip = zipfile.ZipFile(ch)\n",
        "fileunzip.extractall('out1')\n",
        "fileunzip.close()"
      ],
      "metadata": {
        "id": "D1vHSyICJe2o"
      },
      "execution_count": 22,
      "outputs": []
    },
    {
      "cell_type": "markdown",
      "source": [
        "# json"
      ],
      "metadata": {
        "id": "X6fSxvkwJ6aM"
      }
    },
    {
      "cell_type": "markdown",
      "source": [
        "## json (JavaScript Oject Natation)\n",
        "\n",
        "import json\n",
        "* { } 物件object 使用方式與dict相同\n",
        "* string 皆需使用\" \" 雙引號\n",
        "* key 必須是 string\n",
        "* value 可以是 number string bool array null\n",
        "* [  ] 陣列array\n",
        "* 可以裝 number string bool array null object\n",
        "* json檔 在Python中是以string型態存在\n",
        "\n",
        "dumps( ) 轉換python資料成json格式 會依照最外圍的資料型態轉換\n",
        "* dict : object\n",
        "* list,tuple : array\n",
        "* str,unicode : string\n",
        "* int, float, long : number\n",
        "* True : true\n",
        "* False : false\n",
        "* None : null\n",
        "\n",
        "dumps( ,sort_key=True,indent=n)\n",
        "* 將字典依照key做排序再轉乘json檔案\n",
        "* indent=4 設定縮排字元寬度\n",
        "\n",
        "json.loads( ) 將json格式資料轉乘python資料 需注意json資料在python中是以string存在\n",
        "* object : dict\n",
        "* array : list\n",
        "* string : unicode\n",
        "* int : int, long\n",
        "* real : float\n",
        "* true : True\n",
        "* false : False\n",
        "* null : None\n",
        "\n",
        "一個json檔只能有一個json物件 需透過一個父json物件裝多個json子物件\n",
        "* '{\"Asia\":[{\"Japan\":\"Tokyo\"},{\"China\":\"Beijing\"}]}' 子物件使用[  ]\n"
      ],
      "metadata": {
        "id": "BypiJBgmKH-U"
      }
    },
    {
      "cell_type": "code",
      "source": [
        "import json\n",
        "listnumber = [5, 10, 20, 1]\n",
        "tuplenumber = (1, 2, 5, 8)\n",
        "jsondata1 = json.dumps(listnumber)\n",
        "jsondata2 = json.dumps(tuplenumber)\n",
        "\n",
        "print(\"json list\",jsondata1)\n",
        "print(\"json tuple\",jsondata2)\n",
        "print(type(jsondata1))"
      ],
      "metadata": {
        "colab": {
          "base_uri": "https://localhost:8080/"
        },
        "id": "GtnzqHVBKHBD",
        "outputId": "265e2897-41cc-4676-ef25-119198859683"
      },
      "execution_count": 24,
      "outputs": [
        {
          "output_type": "stream",
          "name": "stdout",
          "text": [
            "json list [5, 10, 20, 1]\n",
            "json tuple [1, 2, 5, 8]\n",
            "<class 'str'>\n"
          ]
        }
      ]
    },
    {
      "cell_type": "code",
      "source": [
        "import json\n",
        "json_obj = '{\"b\":80, \"a\":25, \"c\":60}'\n",
        "dict_obj = json.loads(json_obj)\n",
        "print(dict_obj)\n",
        "print(type(dict_obj))"
      ],
      "metadata": {
        "colab": {
          "base_uri": "https://localhost:8080/"
        },
        "id": "Vt9peoLnE_9R",
        "outputId": "9fd4ab94-1feb-4768-c7d3-0cd0f4e3b8e3"
      },
      "execution_count": 2,
      "outputs": [
        {
          "output_type": "stream",
          "name": "stdout",
          "text": [
            "{'b': 80, 'a': 25, 'c': 60}\n",
            "<class 'dict'>\n"
          ]
        }
      ]
    },
    {
      "cell_type": "code",
      "source": [
        "import json\n",
        "jsonobj = '{\"Asia\":[{\"Japan\":\"Tokyo\"},{\"China\":\"Beijing\"}]}'\n",
        "json_obj = json.loads(jsonobj)\n",
        "print(json_obj)\n",
        "print(json_obj['Asia'])\n",
        "print(json_obj['Asia'][0]['Japan'])"
      ],
      "metadata": {
        "colab": {
          "base_uri": "https://localhost:8080/"
        },
        "id": "VKs2pSfbHlUx",
        "outputId": "10df1d04-47e9-4fe6-bc26-f04394956269"
      },
      "execution_count": 7,
      "outputs": [
        {
          "output_type": "stream",
          "name": "stdout",
          "text": [
            "{'Asia': [{'Japan': 'Tokyo'}, {'China': 'Beijing'}]}\n",
            "[{'Japan': 'Tokyo'}, {'China': 'Beijing'}]\n",
            "Tokyo\n"
          ]
        }
      ]
    },
    {
      "cell_type": "markdown",
      "source": [
        "###json 應用\n",
        "\n",
        "將python資料存入json\n",
        "* json.dump(預儲存資料,預儲存檔案物件,ensure_ascii=True)\n",
        "* 中文字會轉為16進位碼 \\uXXXX\n",
        "\n",
        "```\n",
        "jsonobj = {\"Asia\":[{\"Japan\":\"Tokyo\"},{\"China\":\"Beijing\"}]}\n",
        "fn = 'out.json'\n",
        "with open(fn,'w') as fnobj:\n",
        "    json.dump(jsonobj,fnobj)\n",
        "```\n",
        "* json顯示中文\n",
        "\n",
        "```\n",
        "with open(fn,'w',encoding='utf8') as fnobj:\n",
        "    json.dump(jsonobj,fnobj, indent=2, ensure_ascii=False)\n",
        "```\n",
        "\n",
        "讀取json檔案\n",
        "```\n",
        "with open(fn,'r') as fnobj:\n",
        "    data = json.load(fnobj)\n",
        "```"
      ],
      "metadata": {
        "id": "PgYwXrKdWvf-"
      }
    },
    {
      "cell_type": "code",
      "source": [
        "jsonobj = {\"Asia\":[{\"Japan\":\"Tokyo\"},{\"China\":\"Beijing\"}]}\n",
        "fn = 'out.json'\n",
        "with open(fn,'w') as obj:\n",
        "  json.dump(jsonobj,obj)"
      ],
      "metadata": {
        "id": "a_MsZ9q7V7Nv"
      },
      "execution_count": 10,
      "outputs": []
    },
    {
      "cell_type": "code",
      "source": [
        "objlist = [{\"日本\":\"Japan\",\"首都\":\"Tokyo\"}, # 中文轉為\\uXXXXX 16進位碼\n",
        " {\"美國\":\"USA\",\"首都\":\"Washington\"}]\n",
        "fn = 'out1.json'\n",
        "fn1 = 'out2.josn'\n",
        "with open(fn,'w') as fnobj:\n",
        "  json.dump(objlist, fnobj)\n",
        "with open(fn1,'w',encoding='utf8') as fnobj:\n",
        "  json.dump(objlist,fnobj,indent=2, ensure_ascii=False)"
      ],
      "metadata": {
        "id": "ij8pYRcRXJE8"
      },
      "execution_count": 13,
      "outputs": []
    },
    {
      "cell_type": "code",
      "source": [
        "fn = 'out2.json'\n",
        "\n",
        "with open(fn, 'r') as fnobj:\n",
        "  data = json.load(fnobj)\n",
        "print(data)"
      ],
      "metadata": {
        "colab": {
          "base_uri": "https://localhost:8080/"
        },
        "id": "Mo9zgUYtboeV",
        "outputId": "98811eac-4228-4875-864e-f5ecd387a786"
      },
      "execution_count": 15,
      "outputs": [
        {
          "output_type": "stream",
          "name": "stdout",
          "text": [
            "[{'日本': 'Japan', '首都': 'Tokyo'}, {'美國': 'USA', '首都': 'Washington'}]\n"
          ]
        }
      ]
    },
    {
      "cell_type": "markdown",
      "source": [
        "## CSV (Comma-Separated Value)\n",
        "import csv\n",
        "### 讀取CSV\n",
        "* with open(path) as csvfile:  開啟csv檔案\n",
        "* csvfile = open(file)  傳統方法\n",
        "* csvreader = csv.reader(csvfile) 建立reader物件\n",
        "* list = list(csvreader) 透過list列印資料 可以使用list[ ][ ]的方式提取內容物\n",
        "* for row in csvreader: 透過for讀取reader物件\n",
        "* csvdictreader = csv.DictReader(cvsfile) 排序為dict的DictReader 可使用dict[' ']的方式提取內容物\n",
        "\n",
        "### 寫入CSV\n",
        "傳統用法\n",
        "```\n",
        "csvfile = open(path,'w',newline=' ')\n",
        "outwriter = csv.writer(csvfile)\n",
        "csvfile.close( )\n",
        "```\n",
        "* newline 可避免輸出時每行之間多空一行\n",
        "\n",
        "通常用法\n",
        "```\n",
        "with open(path, 'w', newline=' '):\n",
        "    outwriter = csv.writer(csvfile)\n",
        "```\n",
        "\n",
        "\n",
        "\n",
        "\n"
      ],
      "metadata": {
        "id": "LZHIqs030Q_j"
      }
    },
    {
      "cell_type": "code",
      "source": [
        "import csv\n",
        "fn = 'mean.csv'\n",
        "with open(fn) as csvfile:\n",
        "  csvdictreader = csv.DictReader(csvfile)\n",
        "  for row in csvdictreader:\n",
        "    print(row)"
      ],
      "metadata": {
        "colab": {
          "base_uri": "https://localhost:8080/"
        },
        "id": "yW18bQTiwK0b",
        "outputId": "5e7925e7-4bc5-43f0-fd55-2d7bec1a4d87"
      },
      "execution_count": 18,
      "outputs": [
        {
          "output_type": "stream",
          "name": "stdout",
          "text": [
            "{'\\ufeffname': '3D6', 'hsv_h_mean': '38.63934873', 'hsv_h_median': '30.4', 'hsv_h_variance': '652.121822', 'hsv_h_std_dev': '25.40398899', 'hsv_h_percentile_25': '23.4', 'hsv_h_percentile_75': '44.4', 'hsv_s_mean': '61.6982539', 'hsv_s_median': '57', 'hsv_s_variance': '803.6794833', 'hsv_s_std_dev': '28.21182596', 'hsv_s_percentile_25': '44.6', 'hsv_s_percentile_75': '70.8', 'hsv_v_mean': '92.30316272', 'hsv_v_median': '91.2', 'hsv_v_variance': '799.1411531', 'hsv_v_std_dev': '28.18042762', 'hsv_v_percentile_25': '73.6', 'hsv_v_percentile_75': '108.6'}\n",
            "{'\\ufeffname': '3D5', 'hsv_h_mean': '38.84652026', 'hsv_h_median': '33.14285714', 'hsv_h_variance': '434.0392499', 'hsv_h_std_dev': '20.64973972', 'hsv_h_percentile_25': '27.57142857', 'hsv_h_percentile_75': '42.85714286', 'hsv_s_mean': '66.40708326', 'hsv_s_median': '61.85714286', 'hsv_s_variance': '593.6247371', 'hsv_s_std_dev': '24.21273822', 'hsv_s_percentile_25': '51.71428571', 'hsv_s_percentile_75': '74.71428571', 'hsv_v_mean': '104.5710013', 'hsv_v_median': '102.5714286', 'hsv_v_variance': '719.7240459', 'hsv_v_std_dev': '26.72087462', 'hsv_v_percentile_25': '85.85714286', 'hsv_v_percentile_75': '120.1428571'}\n",
            "{'\\ufeffname': '3D4+', 'hsv_h_mean': '43.79040824', 'hsv_h_median': '37.875', 'hsv_h_variance': '518.3708602', 'hsv_h_std_dev': '22.55269752', 'hsv_h_percentile_25': '29.875', 'hsv_h_percentile_75': '50.625', 'hsv_s_mean': '92.41800355', 'hsv_s_median': '87.375', 'hsv_s_variance': '876.1125956', 'hsv_s_std_dev': '29.45705635', 'hsv_s_percentile_25': '72.375', 'hsv_s_percentile_75': '106.5', 'hsv_v_mean': '153.0491249', 'hsv_v_median': '152.25', 'hsv_v_variance': '862.9754812', 'hsv_v_std_dev': '29.29016623', 'hsv_v_percentile_25': '132.375', 'hsv_v_percentile_75': '172.25'}\n",
            "{'\\ufeffname': '3D3', 'hsv_h_mean': '77.58926114', 'hsv_h_median': '72.57142857', 'hsv_h_variance': '792.5518741', 'hsv_h_std_dev': '27.97892178', 'hsv_h_percentile_25': '57.85714286', 'hsv_h_percentile_75': '93.42857143', 'hsv_s_mean': '141.6309234', 'hsv_s_median': '139.5714286', 'hsv_s_variance': '999.7587703', 'hsv_s_std_dev': '31.48425705', 'hsv_s_percentile_25': '118.8571429', 'hsv_s_percentile_75': '162.7142857', 'hsv_v_mean': '193.8743478', 'hsv_v_median': '194.5714286', 'hsv_v_variance': '580.7623166', 'hsv_v_std_dev': '24.0209232', 'hsv_v_percentile_25': '177.4285714', 'hsv_v_percentile_75': '211'}\n",
            "{'\\ufeffname': '3D2', 'hsv_h_mean': '90.07227464', 'hsv_h_median': '87', 'hsv_h_variance': '948.2401329', 'hsv_h_std_dev': '30.59416137', 'hsv_h_percentile_25': '67.75', 'hsv_h_percentile_75': '109', 'hsv_s_mean': '152.7979193', 'hsv_s_median': '152.375', 'hsv_s_variance': '1002.945553', 'hsv_s_std_dev': '31.59888569', 'hsv_s_percentile_25': '130.125', 'hsv_s_percentile_75': '174.25', 'hsv_v_mean': '196.6212792', 'hsv_v_median': '197.625', 'hsv_v_variance': '527.2727488', 'hsv_v_std_dev': '22.91488904', 'hsv_v_percentile_25': '181.25', 'hsv_v_percentile_75': '212.625'}\n",
            "{'\\ufeffname': '3D1', 'hsv_h_mean': '123.7350157', 'hsv_h_median': '124.375', 'hsv_h_variance': '951.0965778', 'hsv_h_std_dev': '30.64055609', 'hsv_h_percentile_25': '102.375', 'hsv_h_percentile_75': '145', 'hsv_s_mean': '194.7164043', 'hsv_s_median': '197.125', 'hsv_s_variance': '654.7735099', 'hsv_s_std_dev': '25.44639997', 'hsv_s_percentile_25': '177.875', 'hsv_s_percentile_75': '212.75', 'hsv_v_mean': '231.1200462', 'hsv_v_median': '232.875', 'hsv_v_variance': '231.1646037', 'hsv_v_std_dev': '15.14122748', 'hsv_v_percentile_25': '221.625', 'hsv_v_percentile_75': '242.625'}\n",
            "{'\\ufeffname': '3D0', 'hsv_h_mean': '113.1812074', 'hsv_h_median': '114.25', 'hsv_h_variance': '923.6695254', 'hsv_h_std_dev': '30.31247945', 'hsv_h_percentile_25': '90.75', 'hsv_h_percentile_75': '135.75', 'hsv_s_mean': '178.2987985', 'hsv_s_median': '181.25', 'hsv_s_variance': '712.0159957', 'hsv_s_std_dev': '26.6182138', 'hsv_s_percentile_25': '160.125', 'hsv_s_percentile_75': '198.375', 'hsv_v_mean': '208.573094', 'hsv_v_median': '210.625', 'hsv_v_variance': '347.6830175', 'hsv_v_std_dev': '18.59043008', 'hsv_v_percentile_25': '195.625', 'hsv_v_percentile_75': '222.5'}\n",
            "{'\\ufeffname': '2D6', 'hsv_h_mean': '31.78679139', 'hsv_h_median': '25.9', 'hsv_h_variance': '437.8146145', 'hsv_h_std_dev': '20.78128966', 'hsv_h_percentile_25': '20.3', 'hsv_h_percentile_75': '35.5', 'hsv_s_mean': '54.72316411', 'hsv_s_median': '50.9', 'hsv_s_variance': '530.3003913', 'hsv_s_std_dev': '22.87339202', 'hsv_s_percentile_25': '41.8', 'hsv_s_percentile_75': '62', 'hsv_v_mean': '87.47906221', 'hsv_v_median': '86.5', 'hsv_v_variance': '619.2399993', 'hsv_v_std_dev': '24.78563736', 'hsv_v_percentile_25': '71.4', 'hsv_v_percentile_75': '102.2'}\n",
            "{'\\ufeffname': '2D5', 'hsv_h_mean': '36.37430781', 'hsv_h_median': '31.36363636', 'hsv_h_variance': '397.7888295', 'hsv_h_std_dev': '19.7972731', 'hsv_h_percentile_25': '25.63636364', 'hsv_h_percentile_75': '40', 'hsv_s_mean': '61.31510948', 'hsv_s_median': '56.90909091', 'hsv_s_variance': '530.8655862', 'hsv_s_std_dev': '22.86838221', 'hsv_s_percentile_25': '47.90909091', 'hsv_s_percentile_75': '68.63636364', 'hsv_v_mean': '96.67341353', 'hsv_v_median': '94.18181818', 'hsv_v_variance': '545.1789495', 'hsv_v_std_dev': '23.23086306', 'hsv_v_percentile_25': '81.18181818', 'hsv_v_percentile_75': '109.3636364'}\n",
            "{'\\ufeffname': '2D4+', 'hsv_h_mean': '39.73180871', 'hsv_h_median': '35.2', 'hsv_h_variance': '416.9824507', 'hsv_h_std_dev': '20.26374646', 'hsv_h_percentile_25': '28.2', 'hsv_h_percentile_75': '44.8', 'hsv_s_mean': '83.58258561', 'hsv_s_median': '80.2', 'hsv_s_variance': '582.7458226', 'hsv_s_std_dev': '23.99510869', 'hsv_s_percentile_25': '68.3', 'hsv_s_percentile_75': '94.4', 'hsv_v_mean': '141.5645166', 'hsv_v_median': '141.6', 'hsv_v_variance': '550.0724879', 'hsv_v_std_dev': '23.39487106', 'hsv_v_percentile_25': '125.7', 'hsv_v_percentile_75': '157.2'}\n",
            "{'\\ufeffname': '2D3', 'hsv_h_mean': '59.4688779', 'hsv_h_median': '57', 'hsv_h_variance': '443.3878654', 'hsv_h_std_dev': '20.9432851', 'hsv_h_percentile_25': '45.6', 'hsv_h_percentile_75': '69.8', 'hsv_s_mean': '118.4660234', 'hsv_s_median': '117.8', 'hsv_s_variance': '656.0338388', 'hsv_s_std_dev': '25.54621244', 'hsv_s_percentile_25': '101.2', 'hsv_s_percentile_75': '134.4', 'hsv_v_mean': '172.2987161', 'hsv_v_median': '173.5', 'hsv_v_variance': '473.1204272', 'hsv_v_std_dev': '21.72469233', 'hsv_v_percentile_25': '157.8', 'hsv_v_percentile_75': '187.6'}\n",
            "{'\\ufeffname': '2D2', 'hsv_h_mean': '70.95990929', 'hsv_h_median': '69.11111111', 'hsv_h_variance': '580.6830538', 'hsv_h_std_dev': '23.90123653', 'hsv_h_percentile_25': '54.33333333', 'hsv_h_percentile_75': '85.33333333', 'hsv_s_mean': '129.3558496', 'hsv_s_median': '129.6666667', 'hsv_s_variance': '766.029661', 'hsv_s_std_dev': '27.6168155', 'hsv_s_percentile_25': '110.1111111', 'hsv_s_percentile_75': '148.5555556', 'hsv_v_mean': '174.9059907', 'hsv_v_median': '176.6111111', 'hsv_v_variance': '512.9946412', 'hsv_v_std_dev': '22.63588229', 'hsv_v_percentile_25': '159.5555556', 'hsv_v_percentile_75': '191.2222222'}\n",
            "{'\\ufeffname': '2D1', 'hsv_h_mean': '95.81103329', 'hsv_h_median': '95.11111111', 'hsv_h_variance': '928.6622714', 'hsv_h_std_dev': '30.27762513', 'hsv_h_percentile_25': '73.44444444', 'hsv_h_percentile_75': '116.8888889', 'hsv_s_mean': '168.494701', 'hsv_s_median': '171', 'hsv_s_variance': '828.2217659', 'hsv_s_std_dev': '28.71213253', 'hsv_s_percentile_25': '149', 'hsv_s_percentile_75': '189.2222222', 'hsv_v_mean': '213.3232856', 'hsv_v_median': '215.6666667', 'hsv_v_variance': '367.958985', 'hsv_v_std_dev': '19.14951441', 'hsv_v_percentile_25': '201.1111111', 'hsv_v_percentile_75': '227.5555556'}\n",
            "{'\\ufeffname': '2D0', 'hsv_h_mean': '143.0611316', 'hsv_h_median': '143.125', 'hsv_h_variance': '829.9644501', 'hsv_h_std_dev': '28.68678634', 'hsv_h_percentile_25': '123.375', 'hsv_h_percentile_75': '163.75', 'hsv_s_mean': '204.2255705', 'hsv_s_median': '205.875', 'hsv_s_variance': '500.7828768', 'hsv_s_std_dev': '22.28035755', 'hsv_s_percentile_25': '189', 'hsv_s_percentile_75': '220.75', 'hsv_v_mean': '228.3656132', 'hsv_v_median': '229.375', 'hsv_v_variance': '225.0180365', 'hsv_v_std_dev': '14.95404181', 'hsv_v_percentile_25': '217.375', 'hsv_v_percentile_75': '240.25'}\n",
            "{'\\ufeffname': '1D6', 'hsv_h_mean': '41.72882338', 'hsv_h_median': '34.14285714', 'hsv_h_variance': '672.5463479', 'hsv_h_std_dev': '25.70238376', 'hsv_h_percentile_25': '26.42857143', 'hsv_h_percentile_75': '47.71428571', 'hsv_s_mean': '68.64064282', 'hsv_s_median': '61.85714286', 'hsv_s_variance': '911.8164712', 'hsv_s_std_dev': '29.93830162', 'hsv_s_percentile_25': '48.85714286', 'hsv_s_percentile_75': '82.14285714', 'hsv_v_mean': '105.0449414', 'hsv_v_median': '100.7142857', 'hsv_v_variance': '1089.804195', 'hsv_v_std_dev': '32.80859247', 'hsv_v_percentile_25': '81.42857143', 'hsv_v_percentile_75': '128.1428571'}\n",
            "{'\\ufeffname': '1D5', 'hsv_h_mean': '41.94860212', 'hsv_h_median': '35.57142857', 'hsv_h_variance': '569.6904745', 'hsv_h_std_dev': '23.68195544', 'hsv_h_percentile_25': '27.28571429', 'hsv_h_percentile_75': '48.14285714', 'hsv_s_mean': '67.73927552', 'hsv_s_median': '62.42857143', 'hsv_s_variance': '657.3963419', 'hsv_s_std_dev': '25.43235561', 'hsv_s_percentile_25': '53', 'hsv_s_percentile_75': '74.14285714', 'hsv_v_mean': '102.6592193', 'hsv_v_median': '100.2857143', 'hsv_v_variance': '536.0621895', 'hsv_v_std_dev': '22.97186098', 'hsv_v_percentile_25': '88.14285714', 'hsv_v_percentile_75': '113.7142857'}\n",
            "{'\\ufeffname': '1D4+', 'hsv_h_mean': '49.49492622', 'hsv_h_median': '43.33333333', 'hsv_h_variance': '613.4730928', 'hsv_h_std_dev': '24.69156924', 'hsv_h_percentile_25': '34', 'hsv_h_percentile_75': '57', 'hsv_s_mean': '96.05335506', 'hsv_s_median': '91.83333333', 'hsv_s_variance': '849.1862767', 'hsv_s_std_dev': '29.08346801', 'hsv_s_percentile_25': '77.16666667', 'hsv_s_percentile_75': '110', 'hsv_v_mean': '150.5040029', 'hsv_v_median': '149.6666667', 'hsv_v_variance': '674.569814', 'hsv_v_std_dev': '25.93266574', 'hsv_v_percentile_25': '133.3333333', 'hsv_v_percentile_75': '166.8333333'}\n",
            "{'\\ufeffname': '1D3', 'hsv_h_mean': '74.46546854', 'hsv_h_median': '70.16666667', 'hsv_h_variance': '752.8146066', 'hsv_h_std_dev': '27.04371248', 'hsv_h_percentile_25': '55.5', 'hsv_h_percentile_75': '89.16666667', 'hsv_s_mean': '140.3838534', 'hsv_s_median': '138', 'hsv_s_variance': '928.2911632', 'hsv_s_std_dev': '30.31803514', 'hsv_s_percentile_25': '119.3333333', 'hsv_s_percentile_75': '158.6666667', 'hsv_v_mean': '190.7908103', 'hsv_v_median': '189.8333333', 'hsv_v_variance': '499.9254128', 'hsv_v_std_dev': '22.28627171', 'hsv_v_percentile_25': '175.1666667', 'hsv_v_percentile_75': '205.6666667'}\n",
            "{'\\ufeffname': '1D2', 'hsv_h_mean': '91.50082662', 'hsv_h_median': '89.28571429', 'hsv_h_variance': '774.592656', 'hsv_h_std_dev': '27.64431294', 'hsv_h_percentile_25': '71', 'hsv_h_percentile_75': '109.5714286', 'hsv_s_mean': '152.053418', 'hsv_s_median': '151.4285714', 'hsv_s_variance': '821.6230231', 'hsv_s_std_dev': '28.60807576', 'hsv_s_percentile_25': '131.1428571', 'hsv_s_percentile_75': '172.1428571', 'hsv_v_mean': '189.7802869', 'hsv_v_median': '189.8571429', 'hsv_v_variance': '462.9399326', 'hsv_v_std_dev': '21.48124183', 'hsv_v_percentile_25': '174.4285714', 'hsv_v_percentile_75': '205.2857143'}\n",
            "{'\\ufeffname': '1D1', 'hsv_h_mean': '117.7814534', 'hsv_h_median': '116.6666667', 'hsv_h_variance': '1036.702095', 'hsv_h_std_dev': '32.07867725', 'hsv_h_percentile_25': '94.5', 'hsv_h_percentile_75': '140.3333333', 'hsv_s_mean': '189.1609551', 'hsv_s_median': '190.3333333', 'hsv_s_variance': '795.9458791', 'hsv_s_std_dev': '28.10246089', 'hsv_s_percentile_25': '169.8333333', 'hsv_s_percentile_75': '209.5', 'hsv_v_mean': '223.0565503', 'hsv_v_median': '224.6666667', 'hsv_v_variance': '337.5763536', 'hsv_v_std_dev': '18.28026467', 'hsv_v_percentile_25': '209.8333333', 'hsv_v_percentile_75': '237.1666667'}\n",
            "{'\\ufeffname': '1D0', 'hsv_h_mean': '129.5039612', 'hsv_h_median': '129.8333333', 'hsv_h_variance': '869.266407', 'hsv_h_std_dev': '29.42806469', 'hsv_h_percentile_25': '108.3333333', 'hsv_h_percentile_75': '151.3333333', 'hsv_s_mean': '193.7707309', 'hsv_s_median': '194.8333333', 'hsv_s_variance': '564.6584111', 'hsv_s_std_dev': '23.68113525', 'hsv_s_percentile_25': '177.5', 'hsv_s_percentile_75': '211.6666667', 'hsv_v_mean': '216.097616', 'hsv_v_median': '217.8333333', 'hsv_v_variance': '320.4368089', 'hsv_v_std_dev': '17.78129283', 'hsv_v_percentile_25': '203.5', 'hsv_v_percentile_75': '229.6666667'}\n"
          ]
        }
      ]
    }
  ]
}