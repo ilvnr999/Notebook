{
  "nbformat": 4,
  "nbformat_minor": 0,
  "metadata": {
    "colab": {
      "provenance": [],
      "authorship_tag": "ABX9TyNmeMRiRUjLhnt4MlMI3Vzv",
      "include_colab_link": true
    },
    "kernelspec": {
      "name": "python3",
      "display_name": "Python 3"
    },
    "language_info": {
      "name": "python"
    }
  },
  "cells": [
    {
      "cell_type": "markdown",
      "metadata": {
        "id": "view-in-github",
        "colab_type": "text"
      },
      "source": [
        "<a href=\"https://colab.research.google.com/github/ilvnr999/Pandas/blob/main/Terminal_mac.ipynb\" target=\"_parent\"><img src=\"https://colab.research.google.com/assets/colab-badge.svg\" alt=\"Open In Colab\"/></a>"
      ]
    },
    {
      "cell_type": "markdown",
      "source": [
        "# Terminal\n",
        "[連結文字](https://hackmd.io/@unayojanni/HyzWz9R0u/%2F%40unayojanni%2FHkVEJAyeF)\n",
        "\n",
        "\n",
        "1. pwd 列印現在位子(print work directory)\n",
        "\n",
        "2. ls 該資料夾下所有檔案(list segment)\n",
        "\n",
        "   ls -l 列出更多訊息\n",
        "\n",
        "3. cd 資料夾位子 切換資料夾 (change directory)\n",
        "\n",
        "    cd .. 回上層\n",
        "\n",
        "    cd / 回到根目錄 電腦最根部\n",
        "\n",
        "    cd ~ 回到使用者目錄\n",
        "  \n",
        "      * cd ~/XXXX  使用此方式來代表User/XXXX\n",
        "\n",
        "\n",
        "資料夾指令 directory\n",
        "\n",
        "4. mkdir 建立資料夾(make directory)\n",
        "\n",
        "5. rmdir 刪除資料夾(remove) 刪除就找不到了\n",
        "\n",
        "6. mv 要移動的檔案 要移到的地方 移動資料夾或檔案(move)\n",
        "\n",
        "    mv 要改名的檔案 要改的名字 可用來改名\n",
        "\n",
        "\n",
        "檔案指令 file\n",
        "\n",
        "7. touch\n",
        "\n",
        "    * 碰一下檔案 改變最後編輯時間\n",
        "\n",
        "    * 若檔案不存在建立檔案\n",
        "\n",
        "8. rm 刪除檔案 刪除就找不到了\n",
        "\n",
        "9. cp 要複製的檔案 要複製到的地方 複製檔案(cp)\n",
        "\n",
        "執行\n",
        "\n",
        "10. sudo (super user do) 執行指令透過電腦最高權限\n",
        "\n",
        "11. man 要解釋的指令 指令說明 看完按q跳出\n",
        "\n",
        "其他\n",
        "\n",
        "12. grep 關鍵字 檔案 抓取關鍵字\n",
        "\n",
        "13. echo 在terminal印出字串\n",
        "\n",
        "14. date terminal印出時間\n",
        "\n",
        "15. top 顯示即時負載狀態 (table of processing) q跳出\n",
        "\n",
        "16. cat 連接檔案 (catenate) 在terminal把所有東西印出來\n",
        "\n",
        "17. less 分頁是將檔案列印出來\n",
        "\n",
        "18. | 連結前面指令的輸出跟後面指令的輸入\n",
        "\n",
        "19. '>' 重新導向"
      ],
      "metadata": {
        "id": "Almp0hddMnlQ"
      }
    }
  ]
}