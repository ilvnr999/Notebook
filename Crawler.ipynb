{
  "nbformat": 4,
  "nbformat_minor": 0,
  "metadata": {
    "colab": {
      "provenance": [],
      "authorship_tag": "ABX9TyM/VrN2k9oInOh6GWbScIV+",
      "include_colab_link": true
    },
    "kernelspec": {
      "name": "python3",
      "display_name": "Python 3"
    },
    "language_info": {
      "name": "python"
    }
  },
  "cells": [
    {
      "cell_type": "markdown",
      "metadata": {
        "id": "view-in-github",
        "colab_type": "text"
      },
      "source": [
        "<a href=\"https://colab.research.google.com/github/ilvnr999/Notebook/blob/main/Crawler.ipynb\" target=\"_parent\"><img src=\"https://colab.research.google.com/assets/colab-badge.svg\" alt=\"Open In Colab\"/></a>"
      ]
    },
    {
      "cell_type": "markdown",
      "source": [
        "## 爬蟲\n",
        "\n",
        "url透過request獲得HTML(純文字檔) 透過beautifulsoup解析出內容(HTML樹狀結構)\n",
        "\n",
        "### requests\n",
        "\n",
        "\n",
        "* ```response = requests.get(url)``` 回傳url的HTML原始檔\n",
        "    \n",
        "    * ```import requests```\n",
        "\n",
        "    * 回傳為Response物件(包含 狀態碼 標頭 內容)\n",
        "\n",
        "    * ```response.status_code``` 回傳狀態碼\n",
        "\n",
        "      * 200 請求成功\n",
        "\n",
        "      * 406 網路伺服器阻擋\n",
        "    \n",
        "    * ```response.text``` 回傳內容 (HTML) 為純文字\n",
        "    \n",
        "    * ```response.raise_for_status()``` 網址正確但後續檔名錯誤的異常處理\n",
        "\n",
        "### BeautifulSoup\n",
        "\n",
        "* ```soup = BeautifulSoup(response.text, 'lxml')```\n",
        "\n",
        "  * ```form bs4 import BeautifulSoup```\n",
        "\n",
        "  * 透過解析器 解析HTLM內容部分 回傳給soup為 beautifulsoup物件 為HTML樹狀結構 可以透過標題標籤抓取\n",
        "\n",
        "    1. htlm.parser 慢 舊\n",
        "\n",
        "    2. lxml 快 相容\n",
        "\n",
        "    3. html5lib 慢 解析強 (pip install html5lib)\n",
        "\n",
        "  * 透過標題標籤抓取內容<h1></h1>\n",
        "\n",
        "    * ```title = soup.find('h1')``` 取得第一個h1的標籤內容\n",
        "\n",
        "    * ```('h1', class_='')``` class='', string='', id='' 增加這些東西來增加辨識\n",
        "\n",
        "    * ```title.get_text( )``` or ```title.text```  來獲得取得的標籤內容的文字部分\n",
        "\n",
        "    * ```arg = title.find_all('h1')``` 取得所有h1為標籤的所有內容存入一個iterable的容器中\n",
        "\n",
        "        ```(h1, limit=num)``` 限制找尋最多n個標籤\n",
        "\n",
        "    * ```arg = title.find('h1')``` 回傳第一個符合的結果\n",
        "\n",
        "    * ```arg = soup.select('')``` CSS選擇器\n",
        "\n",
        "    * ```arg.get('src')``` or ```arg['src']``` 則可以以取出某個標籤內的某個屬性 ex. src\n",
        "\n",
        "### feedparser\n",
        "\n",
        "* ```feed = feedparser.parse('rss')```\n",
        "\n",
        "  * ```import feedparser```\n",
        "\n",
        "  * feed 回傳一個dict兩個key\n",
        "\n",
        "    1. feed : feed 的標題 描述 連結等\n",
        "\n",
        "    2. entries : 包含每個文章的 標題 連接 摘要\n",
        "\n",
        "      為一個list 但每一個元素都是一個FeedParserDict\n",
        "\n",
        "  * feed\n",
        "    1. feed.title\n",
        "    2. feed.link\n",
        "    3. feed.updated\n",
        "  \n",
        "  * for entry in entries:\n",
        "    1. entry.title\n",
        "    2. entry.link\n",
        "    3. entry.published\n",
        "    4. entry.summury\n",
        "\n",
        "\n",
        "\n"
      ],
      "metadata": {
        "id": "QFJIr8HR4hVE"
      }
    },
    {
      "cell_type": "markdown",
      "source": [
        "import requests\n",
        "建立AraumentParser對象\n",
        "```\n",
        "parser = argparse.ArqumentParser(description='抓取並清理網頁內容')\n",
        "```\n",
        "* ArqumentParser解析命令參數\n",
        "* argparsee 處理解析命玲行中提供的參數和選項\n",
        "* desscription 設置解析器的描述 輸入-help會顯示\n",
        "\n",
        "添加命令行參數\n",
        "```\n",
        "parser.add_argument('url', type=str, help='要抓取的網頁URL')\n",
        "```\n",
        "* 定義程序所接受的命令行參數 指定參數名稱, 類型, 幫助訊息\n",
        "* url 命令行參數的名稱, type 參數的數據類型, help 用戶使用--help可以查看 會顯示個別參數的名稱與help\n",
        "\n",
        "parse_args( ) 方法來解析命令行參數\n",
        "```\n",
        "args = parser.parse_arg()\n",
        "```\n",
        "* 對讀取命令行的參數，並根據上面的定義將他們轉成適當的python對象\n",
        "* 解析後會被處存在一個namespace對象中，屬性名是add_argument中定義的\n",
        "\n",
        "```\n",
        "fetch(arg.url)\n",
        "```\n",
        "* fetch是我呼叫的函數\n",
        "* arg.url是要引用的參數 arg是Namespace對象 使用parser.parse_args()時會回傳一個namespace對象 url前面定義的參數名稱 被處存在arg.url中\n",
        "\n",
        "\n"
      ],
      "metadata": {
        "id": "MR2MqI2HvAuG"
      }
    },
    {
      "cell_type": "markdown",
      "source": [
        "## mysql\n",
        "\n",
        "使用mysql shell增加database和和使用者\n",
        "```\n",
        "mysqlsh  #透過cmd開啟mysql shell\n",
        "\\sql 切換到sql模式\n",
        "\\connect root@localhost 連接到mysql伺服器\n",
        "```\n",
        "建立資料庫\n",
        "```\n",
        "CREATE DATABASE my_database; # 建立名為my_database的資料庫\n",
        "```\n",
        "建立新用戶\n",
        "```\n",
        "CREATE USER 'my_user'@'localhost' IDENTIFIED BY 'my_password'; # 建立新用戶名稱與密碼\n",
        "GRANT ALL PRIVILEGES ON my_database.* TO 'my_user'@'localhost'; # 授予用戶權限\n",
        "FLUSH PRIVILEGES; #檢查用戶權限\n",
        "SHOW DATABASES;\n",
        "SELECT user, host FROM mysql.user;\n",
        "SHOW GRANTS FOR 'my_user'@'localhost';\n",
        "\\exit # 退出mysql shell\n",
        "```\n",
        "\n",
        "\n",
        "\n",
        "\n"
      ],
      "metadata": {
        "id": "RVEuMpwdceoK"
      }
    },
    {
      "cell_type": "markdown",
      "source": [
        "#建立SSH金鑰\n",
        "* git 要下在第二層的\n",
        "\n",
        "* SSH 要使用ED25519 https://aigit.trendforce.com/help/ssh/README#types-of-ssh-keys-and-which-to-choose\n"
      ],
      "metadata": {
        "id": "T5nrXxh2kMau"
      }
    },
    {
      "cell_type": "markdown",
      "source": [
        "\n",
        "\n",
        "``` dateutil.parser.parse() ```  將日期字串轉換為datetime物件\n",
        "\n",
        "```.astimezone(dateutil.tz.UTC)``` 將時間轉為UCT 2024-09-10 02:35:34+00:00\n",
        "\n",
        "\n",
        "\n"
      ],
      "metadata": {
        "id": "7Uc9T5UP5NEa"
      }
    }
  ]
}